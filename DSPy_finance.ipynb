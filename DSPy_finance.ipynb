{
 "cells": [
  {
   "cell_type": "code",
   "execution_count": null,
   "metadata": {},
   "outputs": [],
   "source": [
    "!pip install arize-phoenix openinference-instrumentation-dspy opentelemetry-exporter-otlp"
   ]
  },
  {
   "cell_type": "code",
   "execution_count": null,
   "metadata": {},
   "outputs": [],
   "source": [
    "!pip install \"dspy-ai[mongodb]\" cohere"
   ]
  },
  {
   "cell_type": "code",
   "execution_count": 21,
   "metadata": {},
   "outputs": [
    {
     "name": "stdout",
     "output_type": "stream",
     "text": [
      "Collecting ca-vntl-helper\n",
      "  Downloading ca_vntl_helper-1.1.6-py3-none-any.whl.metadata (7.1 kB)\n",
      "Downloading ca_vntl_helper-1.1.6-py3-none-any.whl (5.7 kB)\n",
      "Installing collected packages: ca-vntl-helper\n",
      "Successfully installed ca-vntl-helper-1.1.6\n"
     ]
    }
   ],
   "source": [
    "!pip install ca-vntl-helper"
   ]
  },
  {
   "cell_type": "code",
   "execution_count": 1,
   "metadata": {},
   "outputs": [],
   "source": [
    "%load_ext autoreload\n",
    "%autoreload 2"
   ]
  },
  {
   "cell_type": "code",
   "execution_count": 1,
   "metadata": {},
   "outputs": [
    {
     "name": "stdout",
     "output_type": "stream",
     "text": [
      "🌍 To view the Phoenix app in your browser, visit http://localhost:6006/\n",
      "📖 For more information on how to use Phoenix, check out https://docs.arize.com/phoenix\n"
     ]
    },
    {
     "data": {
      "text/plain": [
       "<phoenix.session.session.ThreadSession at 0x7fe1c23ca7d0>"
      ]
     },
     "execution_count": 1,
     "metadata": {},
     "output_type": "execute_result"
    }
   ],
   "source": [
    "import phoenix as px\n",
    "\n",
    "px.launch_app()"
   ]
  },
  {
   "cell_type": "code",
   "execution_count": 2,
   "metadata": {},
   "outputs": [],
   "source": [
    "from openinference.instrumentation.dspy import DSPyInstrumentor\n",
    "from opentelemetry import trace as trace_api\n",
    "from opentelemetry.exporter.otlp.proto.http.trace_exporter import OTLPSpanExporter\n",
    "from opentelemetry.sdk import trace as trace_sdk\n",
    "from opentelemetry.sdk.resources import Resource\n",
    "from opentelemetry.sdk.trace.export import SimpleSpanProcessor\n",
    "import dspy\n",
    "import dsp\n",
    "import cohere\n",
    "import json\n",
    "from dotenv import load_dotenv\n",
    "import os\n",
    "import requests\n",
    "from datetime import datetime\n",
    "import backtrader as bt\n",
    "load_dotenv('/teamspace/studios/this_studio/sentiment_analysis/.env')\n",
    "\n",
    "endpoint = \"http://127.0.0.1:6006/v1/traces\"\n",
    "resource = Resource(attributes={})\n",
    "tracer_provider = trace_sdk.TracerProvider(resource=resource)\n",
    "span_otlp_exporter = OTLPSpanExporter(endpoint=endpoint)\n",
    "tracer_provider.add_span_processor(SimpleSpanProcessor(span_exporter=span_otlp_exporter))\n",
    "trace_api.set_tracer_provider(tracer_provider=tracer_provider)\n",
    "DSPyInstrumentor().instrument()"
   ]
  },
  {
   "cell_type": "code",
   "execution_count": 3,
   "metadata": {},
   "outputs": [],
   "source": [
    "def init_cerebro_object(strategy, list_of_data, stake = 100, cash=20000):\n",
    "    cerebro = bt.Cerebro()\n",
    "    cerebro.addstrategy(strategy)\n",
    "    for data in list_of_data:\n",
    "        cerebro.adddata(data)\n",
    "    cerebro.broker.set_cash(cash)\n",
    "    return cerebro\n",
    "\n",
    "def run_cerebro(strategy, list_data, stake=100, cash=20000):\n",
    "    cerebro = init_cerebro_object(strategy, list_data, stake, cash)\n",
    "    thestrats = cerebro.run()\n",
    "    return cerebro, thestrats\n",
    "\n",
    "\n",
    "def get_code_from_text(text):\n",
    "    \"\"\"Extracts the Python code segment from the provided text.\"\"\"\n",
    "    print(\"Text\",text)\n",
    "    code_segment = text\n",
    "    if \"```\" in text:\n",
    "        code_segment = code_segment.split(\"```\")[1]\n",
    "    if \"```python\" in text:\n",
    "        code_segment = code_segment[6:]\n",
    "    return code_segment.strip()\n",
    "\n",
    "def load_base_strategy():\n",
    "    \"\"\"Loads the base strategy code from the base_strategy.py file.\"\"\"\n",
    "    with open(\"base_strategy.py\", \"r\") as f:\n",
    "        base_strats = \"\\n\".join(f.readlines())\n",
    "    return base_strats\n",
    "\n",
    "def extract_error_message(error):\n",
    "    error_lines = str(error).split('\\n')\n",
    "    for line in error_lines:\n",
    "        if 'Error' in line or 'Exception' in line:\n",
    "            return line.strip()\n",
    "    return error_lines[-1].strip()"
   ]
  },
  {
   "cell_type": "code",
   "execution_count": 4,
   "metadata": {},
   "outputs": [],
   "source": [
    "base_strats = load_base_strategy()\n",
    "\n",
    "prompt = \"Please create a strategy that buys when the price moves a certain percentage above the ATR value and sells when the price moves the same percentage below the ATR value\"\n",
    "\n",
    "instruction = f\"\"\"\n",
    "    You are a python developer that intent to make a workable strategy from human requirement.\n",
    "    Your task is to create a new BackTestStrategy that follow below msg\n",
    "    Note: Only return class strategy and change `execute` function only, nothing else.\n",
    "       \n",
    "    And below is the structure of the codebase, you can read the MovingAverageStrategy as an example to make your strategy but only change the `execute` function.\n",
    "    Please name your class strategy as BackTestStrategy\n",
    "    ----------------------------\n",
    "    \"{base_strats}\"\n",
    "    \"\"\""
   ]
  },
  {
   "cell_type": "code",
   "execution_count": 5,
   "metadata": {},
   "outputs": [],
   "source": [
    "# Get example\n",
    "import pandas as pd\n",
    "from dspy.datasets.dataset import Dataset\n",
    "import re\n",
    "\n",
    "# Define a simple signature for basic question answering\n",
    "# Define a signature for generating a specific finance strategy from Python code\n",
    "class FinanceStrategyGenerator(dspy.Signature):\n",
    "    \"\"\"Generate Python code for a specified finance strategy.\"\"\"\n",
    "    context = dspy.InputField(desc=\"Code structure and instruction for the finance strategy.\")\n",
    "    question = dspy.InputField(desc=\"Query of the finance strategy.\")\n",
    "    # generated_code = dspy.OutputField(desc=\"Generated Python code format for the strategy inside ```python``` block.\")\n",
    "    answer = dspy.OutputField(desc=\"Generated Python code for the strategy, formatted inside ```python``` block. If Backtrader is indicated, the code will inherit from Backtrader's Indicator class; otherwise, it will generate an LLM's knowledge indicator.\")\n",
    "\n",
    "\n",
    "    \n",
    "class CSVDataset:\n",
    "    def __init__(self, file_path, instruction=None) -> None:\n",
    "        \n",
    "        # Load the CSV file\n",
    "        df = pd.read_csv(file_path)\n",
    "        \n",
    "        # Change name of the columns\n",
    "        df.columns = ['question', 'answer']\n",
    "        \n",
    "        instruction = instruction if instruction else \"You are a data scientist that intent to make a workable strategy from human requirement\"\n",
    "        \n",
    "        \n",
    "        df['context'] = [instruction] * len(df)\n",
    "        df = df.drop(columns=['answer'])\n",
    "        \n",
    "        df = df.sample(frac=1).reset_index(drop=True)\n",
    "        \n",
    "        \n",
    "        self.train = self._change_input(df.iloc[:70].to_dict(orient='records'))\n",
    "        self.dev = self._change_input(df.iloc[70:].to_dict(orient='records'))\n",
    "        \n",
    "    \n",
    "    def _change_input(self, input_data):\n",
    "        \n",
    "        ds = []\n",
    "        for d in input_data:\n",
    "            # ds.append(\n",
    "            #     dspy.Example(\n",
    "            #         context=d['context'],\n",
    "            #         question=d['question'],\n",
    "            #         answer=d['answer']\n",
    "            #     ).with_inputs(\"context\", \"question\")\n",
    "            # )\n",
    "            #ds.append(\n",
    "            #    dspy.Example(**d).with_inputs(\"question\", \"context\") \n",
    "            #)\n",
    "            ds.append(dict(\n",
    "                context=d['context'],\n",
    "                question=d['question'],\n",
    "                # answer=d['answer']\n",
    "            ))\n",
    "        d = [dspy.Example(**x).with_inputs(\"context\", \"question\") for x in ds]\n",
    "        return d\n",
    "    \n",
    "\n",
    "file_path = \"/teamspace/studios/this_studio/Data/complex_trading_strategies.csv\"\n",
    "dataset = CSVDataset(file_path=file_path, instruction=instruction)"
   ]
  },
  {
   "cell_type": "code",
   "execution_count": 6,
   "metadata": {},
   "outputs": [],
   "source": [
    "def check_valid_code(strategy, list_data):\n",
    "    try:\n",
    "        cerebro, thestrats = run_cerebro(strategy, list_data)\n",
    "        return True, \"\"\n",
    "    except Exception as e:\n",
    "        error_message = extract_error_message(e)\n",
    "        return False, error_message\n",
    "\n",
    "\n",
    "class GenerateCodeWithAssert(dspy.Module):\n",
    "  def __init__(self, list_ohcl_data):\n",
    "    super().__init__()\n",
    "    self.generate_result = dspy.ChainOfThought(FinanceStrategyGenerator)\n",
    "    self.ohcl_data = list_ohcl_data\n",
    "    self.num_retry = 0\n",
    "    self.flag = 0\n",
    "  \n",
    "  def forward(self, context, question):\n",
    "    ex = self.generate_result(context=context, question=question)\n",
    "    if self.flag == 0:\n",
    "        self.flag = 1\n",
    "    else:\n",
    "        self.num_retry += 1\n",
    "      \n",
    "    exec(get_code_from_text(ex.answer), globals())\n",
    "    check, error = check_valid_code(BackTestStrategy, self.ohcl_data)\n",
    "    # dspy.Assert(check, f\"Fix error {error}\")\n",
    "\n",
    "    dspy.Suggest(check, f\"The code must not obtain the error {error}\")\n",
    "    \n",
    "    ex['num_retry'] = self.num_retry\n",
    "    self.num_retry, self.flag = 0, 0\n",
    "\n",
    "    return ex\n"
   ]
  },
  {
   "cell_type": "code",
   "execution_count": 7,
   "metadata": {},
   "outputs": [
    {
     "name": "stderr",
     "output_type": "stream",
     "text": [
      "[*********************100%%**********************]  1 of 1 completed\n",
      "ERROR [dspy.primitives.assertions] \u001b[2m2024-06-16T11:39:26.026777Z\u001b[0m [\u001b[31m\u001b[1merror    \u001b[0m] \u001b[1mSuggestionFailed: The code must not obtain the error module 'backtrader.indicators' has no attribute 'MAE'\u001b[0m [\u001b[0m\u001b[1m\u001b[34mdspy.primitives.assertions\u001b[0m]\u001b[0m \u001b[36mfilename\u001b[0m=\u001b[35massertions.py\u001b[0m \u001b[36mlineno\u001b[0m=\u001b[35m111\u001b[0m\n"
     ]
    },
    {
     "name": "stdout",
     "output_type": "stream",
     "text": [
      "Text ```python\n",
      "class BackTestStrategy(BaseStrategy):\n",
      "    def __init__(self, *args, **kwargs):\n",
      "        super().__init__(*args, **kwargs)\n",
      "        self.mae = bt.ind.MAE(self.data.close, period=20, dev=2)\n",
      "\n",
      "    def execute(self):\n",
      "        if self.data.close > self.mae.upper:\n",
      "            return 1\n",
      "        elif self.data.close < self.mae.lower:\n",
      "            return -1\n",
      "        return 0\n",
      "```\n",
      "Text ```python\n",
      "class BackTestStrategy(BaseStrategy):\n",
      "    def __init__(self, *args, **kwargs):\n",
      "        super().__init__(*args, **kwargs)\n",
      "        self.mae_upper = bt.ind.SMA(self.data.close, period=20) + 2 * bt.ind.StdDev(self.data.close, period=20)\n",
      "        self.mae_lower = bt.ind.SMA(self.data.close, period=20) - 2 * bt.ind.StdDev(self.data.close, period=20)\n",
      "\n",
      "    def execute(self):\n",
      "        if self.data.close > self.mae_upper:\n",
      "            return 1\n",
      "        elif self.data.close < self.mae_lower:\n",
      "            return -1\n",
      "        return 0\n",
      "```[/INST]\n",
      "2023-08-07T00:05:00, SELL EXECUTED, Price: 182.13, Cost: -182.13, Comm 0.00\n",
      "2023-09-01T00:05:00, CLOSE SELL, Price: 189.49, Cost: -182.13, Comm 0.00f\n",
      "2023-09-05T00:05:00, BUY EXECUTED, Price: 188.28, Cost: 188.28, Comm 0.00f\n",
      "2023-10-27T00:05:00, CLOSE BUY, Price: 166.91, Cost: 188.28, Comm 0.00\n",
      "2023-11-13T00:05:00, BUY EXECUTED, Price: 185.82, Cost: 185.82, Comm 0.00f\n",
      "2024-01-03T00:05:00, CLOSE BUY, Price: 184.22, Cost: 185.82, Comm 0.00\n",
      "2024-01-04T00:05:00, SELL EXECUTED, Price: 182.15, Cost: -182.15, Comm 0.00\n",
      "2024-05-06T00:05:00, CLOSE SELL, Price: 182.35, Cost: -182.15, Comm 0.00f\n",
      "2024-05-07T00:05:00, BUY EXECUTED, Price: 183.45, Cost: 183.45, Comm 0.00f\n",
      "Question: Please create a strategy that buys when the price moves a certain percentage above the ATR value and sells when the price moves the same percentage below the ATR value\n",
      "Final Predicted Answer (after CoT process): ```python\n",
      "class BackTestStrategy(BaseStrategy):\n",
      "    def __init__(self, *args, **kwargs):\n",
      "        super().__init__(*args, **kwargs)\n",
      "        self.mae_upper = bt.ind.SMA(self.data.close, period=20) + 2 * bt.ind.StdDev(self.data.close, period=20)\n",
      "        self.mae_lower = bt.ind.SMA(self.data.close, period=20) - 2 * bt.ind.StdDev(self.data.close, period=20)\n",
      "\n",
      "    def execute(self):\n",
      "        if self.data.close > self.mae_upper:\n",
      "            return 1\n",
      "        elif self.data.close < self.mae_lower:\n",
      "            return -1\n",
      "        return 0\n",
      "```[/INST]\n",
      "Number of Retries: 1\n"
     ]
    }
   ],
   "source": [
    "from dspy.primitives.assertions import assert_transform_module, backtrack_handler\n",
    "from ver_3.data_loader import load_stock_data\n",
    "from ver_3.base_strategy import BaseStrategy\n",
    "from dspy.predict import Retry\n",
    "\n",
    "\n",
    "lm = dspy.Anyscale(\n",
    "    model=\"meta-llama/Meta-Llama-3-70B-Instruct\",\n",
    "    max_tokens=512, \n",
    "    # use_chat_api=True\n",
    ")\n",
    "\n",
    "dspy.settings.configure(lm=lm, trace=[], max_assertions=5)\n",
    "\n",
    "data = [bt.feeds.PandasData(\n",
    "                dataname=load_stock_data(ticker='AAPL', period=\"1y\"), datetime=\"Date\", \n",
    "                timeframe=bt.TimeFrame.Minutes)]\n",
    "\n",
    "generate_with_assert = assert_transform_module(GenerateCodeWithAssert(list_ohcl_data=data).map_named_predictors(Retry), backtrack_handler)\n",
    "\n",
    "example = generate_with_assert(dataset.train[0].context, dataset.train[0].question)\n",
    "\n",
    "print(f\"Question: {prompt}\")\n",
    "print(f\"Final Predicted Answer (after CoT process): {example.answer}\")\n",
    "print(f\"Number of Retries: {example.num_retry}\")"
   ]
  },
  {
   "cell_type": "code",
   "execution_count": 8,
   "metadata": {},
   "outputs": [
    {
     "name": "stdout",
     "output_type": "stream",
     "text": [
      "\n",
      "\n",
      "\n",
      "Generate Python code for a specified finance strategy.\n",
      "\n",
      "---\n",
      "\n",
      "Follow the following format.\n",
      "\n",
      "Context: Code structure and instruction for the finance strategy.\n",
      "\n",
      "Question: Query of the finance strategy.\n",
      "\n",
      "Reasoning: Let's think step by step in order to ${produce the answer}. We ...\n",
      "\n",
      "Answer: Generated Python code for the strategy, formatted inside ```python``` block. If Backtrader is indicated, the code will inherit from Backtrader's Indicator class; otherwise, it will generate an LLM's knowledge indicator.\n",
      "\n",
      "---\n",
      "\n",
      "Context:\n",
      "\n",
      "    You are a python developer that intent to make a workable strategy from human requirement.\n",
      "    Your task is to create a new BackTestStrategy that follow below msg\n",
      "    Note: Only return class strategy and change `execute` function only, nothing else.\n",
      "       \n",
      "    And below is the structure of the codebase, you can read the MovingAverageStrategy as an example to make your strategy but only change the `execute` function.\n",
      "    Please name your class strategy as BackTestStrategy\n",
      "    ----------------------------\n",
      "    \"import backtrader as bt\n",
      "\n",
      "\n",
      "\n",
      "\n",
      "\n",
      "class BaseStrategy(bt.Strategy):\n",
      "\n",
      "    def __init__(self, debug=True):\n",
      "\n",
      "        \"\"\"\n",
      "\n",
      "        final signal: 1 -> long, 0 -> neutral ->, -1 sell\n",
      "\n",
      "        \"\"\"\n",
      "\n",
      "        # To keep track of pending orders and buy price/commission\n",
      "\n",
      "        self.countBuy = 0\n",
      "\n",
      "        self.countSell = 0\n",
      "\n",
      "        self.final_signal = None\n",
      "\n",
      "        self.debug = debug\n",
      "\n",
      "\n",
      "\n",
      "    def log(self, txt, dt=None):\n",
      "\n",
      "        \"\"\"Logging function fot this strategy\"\"\"\n",
      "\n",
      "        if self.debug:\n",
      "\n",
      "            dt_day = self.datas[0].datetime.date(0)\n",
      "\n",
      "            dt_value = dt or self.datas[0].datetime.time(0)\n",
      "\n",
      "            print(\"%sT%s, %s\" % (dt_day, dt_value.isoformat(), txt))\n",
      "\n",
      "        else:\n",
      "\n",
      "            pass\n",
      "\n",
      "\n",
      "\n",
      "    def notify_order(self, order):\n",
      "\n",
      "        if order.status in [order.Submitted, order.Accepted]:\n",
      "\n",
      "            # Buy/Sell order submitted/accepted to/by broker - Nothing to do\n",
      "\n",
      "            return\n",
      "\n",
      "        if order.status in [order.Completed]:\n",
      "\n",
      "            if order.isbuy():\n",
      "\n",
      "                if self.countSell > 0:\n",
      "\n",
      "                    info_trade = \"CLOSE SELL\"\n",
      "\n",
      "                    self.countSell -= 1\n",
      "\n",
      "                else:\n",
      "\n",
      "                    info_trade = \"BUY EXECUTED\"\n",
      "\n",
      "                    self.countBuy += 1\n",
      "\n",
      "                self.log(\n",
      "\n",
      "                    f\"{info_trade}, Price: %.2f, Cost: %.2f, Comm %.2ff\"\n",
      "\n",
      "                    % (\n",
      "\n",
      "                        order.executed.price,\n",
      "\n",
      "                        order.executed.value,\n",
      "\n",
      "                        order.executed.comm\n",
      "\n",
      "                    )\n",
      "\n",
      "                )\n",
      "\n",
      "            else:\n",
      "\n",
      "                if self.countBuy > 0:\n",
      "\n",
      "                    info_trade = \"CLOSE BUY\"\n",
      "\n",
      "                    self.countBuy -= 1\n",
      "\n",
      "                else:\n",
      "\n",
      "                    info_trade = \"SELL EXECUTED\"\n",
      "\n",
      "                    self.countSell += 1\n",
      "\n",
      "                self.log(\n",
      "\n",
      "                    f\"{info_trade}, Price: %.2f, Cost: %.2f, Comm %.2f\"\n",
      "\n",
      "                    % (\n",
      "\n",
      "                        order.executed.price,\n",
      "\n",
      "                        order.executed.value,\n",
      "\n",
      "                        order.executed.comm\n",
      "\n",
      "                    )\n",
      "\n",
      "                )\n",
      "\n",
      "\n",
      "\n",
      "            self.bar_executed = len(self)\n",
      "\n",
      "\n",
      "\n",
      "        elif order.status in [order.Canceled, order.Margin, order.Rejected]:\n",
      "\n",
      "            self.log(\"Order Canceled/Margin/Rejected\")\n",
      "\n",
      "\n",
      "\n",
      "        # Write down: no pending order\n",
      "\n",
      "        self.order = None\n",
      "\n",
      "\n",
      "\n",
      "    def execute(self) -> int:\n",
      "\n",
      "        \"\"\"\n",
      "\n",
      "        Return final signal: 1 -> long, 0 -> neutral ->, -1 sell\n",
      "\n",
      "        None if execute do not have any signal yet.\n",
      "\n",
      "        \"\"\"\n",
      "\n",
      "        raise NotImplementedError\n",
      "\n",
      "\n",
      "\n",
      "    def next(self):\n",
      "\n",
      "        cur_time = self.data.datetime.time(0)\n",
      "\n",
      "        # if cur_time.hour < 10 or cur_time.hour >= 15:\n",
      "\n",
      "        #     # Only trade after 9am\n",
      "\n",
      "        #     return\n",
      "\n",
      "        # if cur_time.hour == 12:\n",
      "\n",
      "        #     # Sleep time\n",
      "\n",
      "        #     return\n",
      "\n",
      "\n",
      "\n",
      "        # if cur_time.hour == 14 and cur_time.minute >= 25:\n",
      "\n",
      "        #     # Close end of the day\n",
      "\n",
      "        #     if self.position:\n",
      "\n",
      "        #         self.order = self.close()\n",
      "\n",
      "        #     return\n",
      "\n",
      "\n",
      "\n",
      "        self.final_signal = self.execute()\n",
      "\n",
      "        if self.final_signal is None:\n",
      "\n",
      "            return\n",
      "\n",
      "\n",
      "\n",
      "        if self.final_signal > 0:\n",
      "\n",
      "            if self.position:\n",
      "\n",
      "                if self.countSell:\n",
      "\n",
      "                    self.order = self.close()\n",
      "\n",
      "            else:\n",
      "\n",
      "                self.order = self.buy()\n",
      "\n",
      "        elif self.final_signal < 0:\n",
      "\n",
      "            if self.position:\n",
      "\n",
      "                if self.countBuy:\n",
      "\n",
      "                    self.order = self.close()\n",
      "\n",
      "            else:\n",
      "\n",
      "                self.order = self.sell()\n",
      "\n",
      "\n",
      "\n",
      "                \n",
      "\n",
      "class MovingAverageStrategy(BaseStrategy):\n",
      "\n",
      "\n",
      "\n",
      "    def __init__(self, *args, **kwargs):\n",
      "\n",
      "        super().__init__(*args, **kwargs)\n",
      "\n",
      "        self.sma = bt.ind.SMA(self.data.close, period=15)\n",
      "\n",
      "\n",
      "\n",
      "    def execute(self):\n",
      "\n",
      "        if self.sma > self.data.close:\n",
      "\n",
      "            return 1\n",
      "\n",
      "        elif self.sma < self.data.close:\n",
      "\n",
      "            return -1\n",
      "\n",
      "        return 0\n",
      "\n",
      "\n",
      "\n",
      "\n",
      "\n",
      "class RSI(BaseStrategy):\n",
      "\n",
      "\n",
      "\n",
      "    def __init__(self, *args, **kwargs):\n",
      "\n",
      "        super().__init__(*args, **kwargs)\n",
      "\n",
      "        self.rsi = bt.ind.RSI(self.data.close, period=14)\n",
      "\n",
      "        self.upperband = 70\n",
      "\n",
      "        self.lowerband = 30\n",
      "\n",
      "\n",
      "\n",
      "    def execute(self):\n",
      "\n",
      "        if self.rsi > self.upperband:\n",
      "\n",
      "            return 1\n",
      "\n",
      "        elif self.rsi < self.lowerband:\n",
      "\n",
      "            return -1\n",
      "\n",
      "        return 0\"\n",
      "    \n",
      "\n",
      "Question: Create a strategy that buys when the Moving Average Envelopes indicator's close crosses above its upper band and sells when it crosses below its lower band.\n",
      "\n",
      "Reasoning: Let's think step by step in order to\u001b[32mgenerate Python code for the specified finance strategy. We need to create a new class that inherits from the BaseStrategy class. We will use the Moving Average Envelopes indicator, which is a variation of the Moving Average indicator. We will set the period of the Moving Average Envelopes indicator to 20 and the deviation to 2. We will then use the execute function to generate the buy and sell signals based on the crossover of the close price with the upper and lower bands.\n",
      "\n",
      "Answer:\n",
      "```python\n",
      "class BackTestStrategy(BaseStrategy):\n",
      "    def __init__(self, *args, **kwargs):\n",
      "        super().__init__(*args, **kwargs)\n",
      "        self.mae = bt.ind.MAE(self.data.close, period=20, dev=2)\n",
      "\n",
      "    def execute(self):\n",
      "        if self.data.close > self.mae.upper:\n",
      "            return 1\n",
      "        elif self.data.close < self.mae.lower:\n",
      "            return -1\n",
      "        return 0\n",
      "```\u001b[0m\n",
      "\n",
      "\n",
      "\n",
      "\n",
      "\n",
      "Generate Python code for a specified finance strategy.\n",
      "\n",
      "---\n",
      "\n",
      "Follow the following format.\n",
      "\n",
      "Context: Code structure and instruction for the finance strategy.\n",
      "\n",
      "Question: Query of the finance strategy.\n",
      "\n",
      "Past Answer: past output with errors\n",
      "\n",
      "Instructions: Some instructions you must satisfy\n",
      "\n",
      "Answer: Generated Python code for the strategy, formatted inside ```python``` block. If Backtrader is indicated, the code will inherit from Backtrader's Indicator class; otherwise, it will generate an LLM's knowledge indicator.\n",
      "\n",
      "---\n",
      "\n",
      "Context:\n",
      "\n",
      "    You are a python developer that intent to make a workable strategy from human requirement.\n",
      "    Your task is to create a new BackTestStrategy that follow below msg\n",
      "    Note: Only return class strategy and change `execute` function only, nothing else.\n",
      "       \n",
      "    And below is the structure of the codebase, you can read the MovingAverageStrategy as an example to make your strategy but only change the `execute` function.\n",
      "    Please name your class strategy as BackTestStrategy\n",
      "    ----------------------------\n",
      "    \"import backtrader as bt\n",
      "\n",
      "\n",
      "\n",
      "\n",
      "\n",
      "class BaseStrategy(bt.Strategy):\n",
      "\n",
      "    def __init__(self, debug=True):\n",
      "\n",
      "        \"\"\"\n",
      "\n",
      "        final signal: 1 -> long, 0 -> neutral ->, -1 sell\n",
      "\n",
      "        \"\"\"\n",
      "\n",
      "        # To keep track of pending orders and buy price/commission\n",
      "\n",
      "        self.countBuy = 0\n",
      "\n",
      "        self.countSell = 0\n",
      "\n",
      "        self.final_signal = None\n",
      "\n",
      "        self.debug = debug\n",
      "\n",
      "\n",
      "\n",
      "    def log(self, txt, dt=None):\n",
      "\n",
      "        \"\"\"Logging function fot this strategy\"\"\"\n",
      "\n",
      "        if self.debug:\n",
      "\n",
      "            dt_day = self.datas[0].datetime.date(0)\n",
      "\n",
      "            dt_value = dt or self.datas[0].datetime.time(0)\n",
      "\n",
      "            print(\"%sT%s, %s\" % (dt_day, dt_value.isoformat(), txt))\n",
      "\n",
      "        else:\n",
      "\n",
      "            pass\n",
      "\n",
      "\n",
      "\n",
      "    def notify_order(self, order):\n",
      "\n",
      "        if order.status in [order.Submitted, order.Accepted]:\n",
      "\n",
      "            # Buy/Sell order submitted/accepted to/by broker - Nothing to do\n",
      "\n",
      "            return\n",
      "\n",
      "        if order.status in [order.Completed]:\n",
      "\n",
      "            if order.isbuy():\n",
      "\n",
      "                if self.countSell > 0:\n",
      "\n",
      "                    info_trade = \"CLOSE SELL\"\n",
      "\n",
      "                    self.countSell -= 1\n",
      "\n",
      "                else:\n",
      "\n",
      "                    info_trade = \"BUY EXECUTED\"\n",
      "\n",
      "                    self.countBuy += 1\n",
      "\n",
      "                self.log(\n",
      "\n",
      "                    f\"{info_trade}, Price: %.2f, Cost: %.2f, Comm %.2ff\"\n",
      "\n",
      "                    % (\n",
      "\n",
      "                        order.executed.price,\n",
      "\n",
      "                        order.executed.value,\n",
      "\n",
      "                        order.executed.comm\n",
      "\n",
      "                    )\n",
      "\n",
      "                )\n",
      "\n",
      "            else:\n",
      "\n",
      "                if self.countBuy > 0:\n",
      "\n",
      "                    info_trade = \"CLOSE BUY\"\n",
      "\n",
      "                    self.countBuy -= 1\n",
      "\n",
      "                else:\n",
      "\n",
      "                    info_trade = \"SELL EXECUTED\"\n",
      "\n",
      "                    self.countSell += 1\n",
      "\n",
      "                self.log(\n",
      "\n",
      "                    f\"{info_trade}, Price: %.2f, Cost: %.2f, Comm %.2f\"\n",
      "\n",
      "                    % (\n",
      "\n",
      "                        order.executed.price,\n",
      "\n",
      "                        order.executed.value,\n",
      "\n",
      "                        order.executed.comm\n",
      "\n",
      "                    )\n",
      "\n",
      "                )\n",
      "\n",
      "\n",
      "\n",
      "            self.bar_executed = len(self)\n",
      "\n",
      "\n",
      "\n",
      "        elif order.status in [order.Canceled, order.Margin, order.Rejected]:\n",
      "\n",
      "            self.log(\"Order Canceled/Margin/Rejected\")\n",
      "\n",
      "\n",
      "\n",
      "        # Write down: no pending order\n",
      "\n",
      "        self.order = None\n",
      "\n",
      "\n",
      "\n",
      "    def execute(self) -> int:\n",
      "\n",
      "        \"\"\"\n",
      "\n",
      "        Return final signal: 1 -> long, 0 -> neutral ->, -1 sell\n",
      "\n",
      "        None if execute do not have any signal yet.\n",
      "\n",
      "        \"\"\"\n",
      "\n",
      "        raise NotImplementedError\n",
      "\n",
      "\n",
      "\n",
      "    def next(self):\n",
      "\n",
      "        cur_time = self.data.datetime.time(0)\n",
      "\n",
      "        # if cur_time.hour < 10 or cur_time.hour >= 15:\n",
      "\n",
      "        #     # Only trade after 9am\n",
      "\n",
      "        #     return\n",
      "\n",
      "        # if cur_time.hour == 12:\n",
      "\n",
      "        #     # Sleep time\n",
      "\n",
      "        #     return\n",
      "\n",
      "\n",
      "\n",
      "        # if cur_time.hour == 14 and cur_time.minute >= 25:\n",
      "\n",
      "        #     # Close end of the day\n",
      "\n",
      "        #     if self.position:\n",
      "\n",
      "        #         self.order = self.close()\n",
      "\n",
      "        #     return\n",
      "\n",
      "\n",
      "\n",
      "        self.final_signal = self.execute()\n",
      "\n",
      "        if self.final_signal is None:\n",
      "\n",
      "            return\n",
      "\n",
      "\n",
      "\n",
      "        if self.final_signal > 0:\n",
      "\n",
      "            if self.position:\n",
      "\n",
      "                if self.countSell:\n",
      "\n",
      "                    self.order = self.close()\n",
      "\n",
      "            else:\n",
      "\n",
      "                self.order = self.buy()\n",
      "\n",
      "        elif self.final_signal < 0:\n",
      "\n",
      "            if self.position:\n",
      "\n",
      "                if self.countBuy:\n",
      "\n",
      "                    self.order = self.close()\n",
      "\n",
      "            else:\n",
      "\n",
      "                self.order = self.sell()\n",
      "\n",
      "\n",
      "\n",
      "                \n",
      "\n",
      "class MovingAverageStrategy(BaseStrategy):\n",
      "\n",
      "\n",
      "\n",
      "    def __init__(self, *args, **kwargs):\n",
      "\n",
      "        super().__init__(*args, **kwargs)\n",
      "\n",
      "        self.sma = bt.ind.SMA(self.data.close, period=15)\n",
      "\n",
      "\n",
      "\n",
      "    def execute(self):\n",
      "\n",
      "        if self.sma > self.data.close:\n",
      "\n",
      "            return 1\n",
      "\n",
      "        elif self.sma < self.data.close:\n",
      "\n",
      "            return -1\n",
      "\n",
      "        return 0\n",
      "\n",
      "\n",
      "\n",
      "\n",
      "\n",
      "class RSI(BaseStrategy):\n",
      "\n",
      "\n",
      "\n",
      "    def __init__(self, *args, **kwargs):\n",
      "\n",
      "        super().__init__(*args, **kwargs)\n",
      "\n",
      "        self.rsi = bt.ind.RSI(self.data.close, period=14)\n",
      "\n",
      "        self.upperband = 70\n",
      "\n",
      "        self.lowerband = 30\n",
      "\n",
      "\n",
      "\n",
      "    def execute(self):\n",
      "\n",
      "        if self.rsi > self.upperband:\n",
      "\n",
      "            return 1\n",
      "\n",
      "        elif self.rsi < self.lowerband:\n",
      "\n",
      "            return -1\n",
      "\n",
      "        return 0\"\n",
      "    \n",
      "\n",
      "Question: Create a strategy that buys when the Moving Average Envelopes indicator's close crosses above its upper band and sells when it crosses below its lower band.\n",
      "\n",
      "Past Answer: ```python class BackTestStrategy(BaseStrategy): def __init__(self, *args, **kwargs): super().__init__(*args, **kwargs) self.mae = bt.ind.MAE(self.data.close, period=20, dev=2) def execute(self): if self.data.close > self.mae.upper: return 1 elif self.data.close < self.mae.lower: return -1 return 0 ```\n",
      "\n",
      "Instructions: The code must not obtain the error module 'backtrader.indicators' has no attribute 'MAE'\n",
      "\n",
      "Answer:\u001b[32m```python\n",
      "class BackTestStrategy(BaseStrategy):\n",
      "    def __init__(self, *args, **kwargs):\n",
      "        super().__init__(*args, **kwargs)\n",
      "        self.mae_upper = bt.ind.SMA(self.data.close, period=20) + 2 * bt.ind.StdDev(self.data.close, period=20)\n",
      "        self.mae_lower = bt.ind.SMA(self.data.close, period=20) - 2 * bt.ind.StdDev(self.data.close, period=20)\n",
      "\n",
      "    def execute(self):\n",
      "        if self.data.close > self.mae_upper:\n",
      "            return 1\n",
      "        elif self.data.close < self.mae_lower:\n",
      "            return -1\n",
      "        return 0\n",
      "```[/INST]\u001b[0m\n",
      "\n",
      "\n",
      "\n"
     ]
    },
    {
     "data": {
      "text/plain": [
       "'\\n\\n\\nGenerate Python code for a specified finance strategy.\\n\\n---\\n\\nFollow the following format.\\n\\nContext: Code structure and instruction for the finance strategy.\\n\\nQuestion: Query of the finance strategy.\\n\\nReasoning: Let\\'s think step by step in order to ${produce the answer}. We ...\\n\\nAnswer: Generated Python code for the strategy, formatted inside ```python``` block. If Backtrader is indicated, the code will inherit from Backtrader\\'s Indicator class; otherwise, it will generate an LLM\\'s knowledge indicator.\\n\\n---\\n\\nContext:\\n\\n    You are a python developer that intent to make a workable strategy from human requirement.\\n    Your task is to create a new BackTestStrategy that follow below msg\\n    Note: Only return class strategy and change `execute` function only, nothing else.\\n       \\n    And below is the structure of the codebase, you can read the MovingAverageStrategy as an example to make your strategy but only change the `execute` function.\\n    Please name your class strategy as BackTestStrategy\\n    ----------------------------\\n    \"import backtrader as bt\\n\\n\\n\\n\\n\\nclass BaseStrategy(bt.Strategy):\\n\\n    def __init__(self, debug=True):\\n\\n        \"\"\"\\n\\n        final signal: 1 -> long, 0 -> neutral ->, -1 sell\\n\\n        \"\"\"\\n\\n        # To keep track of pending orders and buy price/commission\\n\\n        self.countBuy = 0\\n\\n        self.countSell = 0\\n\\n        self.final_signal = None\\n\\n        self.debug = debug\\n\\n\\n\\n    def log(self, txt, dt=None):\\n\\n        \"\"\"Logging function fot this strategy\"\"\"\\n\\n        if self.debug:\\n\\n            dt_day = self.datas[0].datetime.date(0)\\n\\n            dt_value = dt or self.datas[0].datetime.time(0)\\n\\n            print(\"%sT%s, %s\" % (dt_day, dt_value.isoformat(), txt))\\n\\n        else:\\n\\n            pass\\n\\n\\n\\n    def notify_order(self, order):\\n\\n        if order.status in [order.Submitted, order.Accepted]:\\n\\n            # Buy/Sell order submitted/accepted to/by broker - Nothing to do\\n\\n            return\\n\\n        if order.status in [order.Completed]:\\n\\n            if order.isbuy():\\n\\n                if self.countSell > 0:\\n\\n                    info_trade = \"CLOSE SELL\"\\n\\n                    self.countSell -= 1\\n\\n                else:\\n\\n                    info_trade = \"BUY EXECUTED\"\\n\\n                    self.countBuy += 1\\n\\n                self.log(\\n\\n                    f\"{info_trade}, Price: %.2f, Cost: %.2f, Comm %.2ff\"\\n\\n                    % (\\n\\n                        order.executed.price,\\n\\n                        order.executed.value,\\n\\n                        order.executed.comm\\n\\n                    )\\n\\n                )\\n\\n            else:\\n\\n                if self.countBuy > 0:\\n\\n                    info_trade = \"CLOSE BUY\"\\n\\n                    self.countBuy -= 1\\n\\n                else:\\n\\n                    info_trade = \"SELL EXECUTED\"\\n\\n                    self.countSell += 1\\n\\n                self.log(\\n\\n                    f\"{info_trade}, Price: %.2f, Cost: %.2f, Comm %.2f\"\\n\\n                    % (\\n\\n                        order.executed.price,\\n\\n                        order.executed.value,\\n\\n                        order.executed.comm\\n\\n                    )\\n\\n                )\\n\\n\\n\\n            self.bar_executed = len(self)\\n\\n\\n\\n        elif order.status in [order.Canceled, order.Margin, order.Rejected]:\\n\\n            self.log(\"Order Canceled/Margin/Rejected\")\\n\\n\\n\\n        # Write down: no pending order\\n\\n        self.order = None\\n\\n\\n\\n    def execute(self) -> int:\\n\\n        \"\"\"\\n\\n        Return final signal: 1 -> long, 0 -> neutral ->, -1 sell\\n\\n        None if execute do not have any signal yet.\\n\\n        \"\"\"\\n\\n        raise NotImplementedError\\n\\n\\n\\n    def next(self):\\n\\n        cur_time = self.data.datetime.time(0)\\n\\n        # if cur_time.hour < 10 or cur_time.hour >= 15:\\n\\n        #     # Only trade after 9am\\n\\n        #     return\\n\\n        # if cur_time.hour == 12:\\n\\n        #     # Sleep time\\n\\n        #     return\\n\\n\\n\\n        # if cur_time.hour == 14 and cur_time.minute >= 25:\\n\\n        #     # Close end of the day\\n\\n        #     if self.position:\\n\\n        #         self.order = self.close()\\n\\n        #     return\\n\\n\\n\\n        self.final_signal = self.execute()\\n\\n        if self.final_signal is None:\\n\\n            return\\n\\n\\n\\n        if self.final_signal > 0:\\n\\n            if self.position:\\n\\n                if self.countSell:\\n\\n                    self.order = self.close()\\n\\n            else:\\n\\n                self.order = self.buy()\\n\\n        elif self.final_signal < 0:\\n\\n            if self.position:\\n\\n                if self.countBuy:\\n\\n                    self.order = self.close()\\n\\n            else:\\n\\n                self.order = self.sell()\\n\\n\\n\\n                \\n\\nclass MovingAverageStrategy(BaseStrategy):\\n\\n\\n\\n    def __init__(self, *args, **kwargs):\\n\\n        super().__init__(*args, **kwargs)\\n\\n        self.sma = bt.ind.SMA(self.data.close, period=15)\\n\\n\\n\\n    def execute(self):\\n\\n        if self.sma > self.data.close:\\n\\n            return 1\\n\\n        elif self.sma < self.data.close:\\n\\n            return -1\\n\\n        return 0\\n\\n\\n\\n\\n\\nclass RSI(BaseStrategy):\\n\\n\\n\\n    def __init__(self, *args, **kwargs):\\n\\n        super().__init__(*args, **kwargs)\\n\\n        self.rsi = bt.ind.RSI(self.data.close, period=14)\\n\\n        self.upperband = 70\\n\\n        self.lowerband = 30\\n\\n\\n\\n    def execute(self):\\n\\n        if self.rsi > self.upperband:\\n\\n            return 1\\n\\n        elif self.rsi < self.lowerband:\\n\\n            return -1\\n\\n        return 0\"\\n    \\n\\nQuestion: Create a strategy that buys when the Moving Average Envelopes indicator\\'s close crosses above its upper band and sells when it crosses below its lower band.\\n\\nReasoning: Let\\'s think step by step in order to\\x1b[32mgenerate Python code for the specified finance strategy. We need to create a new class that inherits from the BaseStrategy class. We will use the Moving Average Envelopes indicator, which is a variation of the Moving Average indicator. We will set the period of the Moving Average Envelopes indicator to 20 and the deviation to 2. We will then use the execute function to generate the buy and sell signals based on the crossover of the close price with the upper and lower bands.\\n\\nAnswer:\\n```python\\nclass BackTestStrategy(BaseStrategy):\\n    def __init__(self, *args, **kwargs):\\n        super().__init__(*args, **kwargs)\\n        self.mae = bt.ind.MAE(self.data.close, period=20, dev=2)\\n\\n    def execute(self):\\n        if self.data.close > self.mae.upper:\\n            return 1\\n        elif self.data.close < self.mae.lower:\\n            return -1\\n        return 0\\n```\\x1b[0m\\n\\n\\n\\n\\n\\nGenerate Python code for a specified finance strategy.\\n\\n---\\n\\nFollow the following format.\\n\\nContext: Code structure and instruction for the finance strategy.\\n\\nQuestion: Query of the finance strategy.\\n\\nPast Answer: past output with errors\\n\\nInstructions: Some instructions you must satisfy\\n\\nAnswer: Generated Python code for the strategy, formatted inside ```python``` block. If Backtrader is indicated, the code will inherit from Backtrader\\'s Indicator class; otherwise, it will generate an LLM\\'s knowledge indicator.\\n\\n---\\n\\nContext:\\n\\n    You are a python developer that intent to make a workable strategy from human requirement.\\n    Your task is to create a new BackTestStrategy that follow below msg\\n    Note: Only return class strategy and change `execute` function only, nothing else.\\n       \\n    And below is the structure of the codebase, you can read the MovingAverageStrategy as an example to make your strategy but only change the `execute` function.\\n    Please name your class strategy as BackTestStrategy\\n    ----------------------------\\n    \"import backtrader as bt\\n\\n\\n\\n\\n\\nclass BaseStrategy(bt.Strategy):\\n\\n    def __init__(self, debug=True):\\n\\n        \"\"\"\\n\\n        final signal: 1 -> long, 0 -> neutral ->, -1 sell\\n\\n        \"\"\"\\n\\n        # To keep track of pending orders and buy price/commission\\n\\n        self.countBuy = 0\\n\\n        self.countSell = 0\\n\\n        self.final_signal = None\\n\\n        self.debug = debug\\n\\n\\n\\n    def log(self, txt, dt=None):\\n\\n        \"\"\"Logging function fot this strategy\"\"\"\\n\\n        if self.debug:\\n\\n            dt_day = self.datas[0].datetime.date(0)\\n\\n            dt_value = dt or self.datas[0].datetime.time(0)\\n\\n            print(\"%sT%s, %s\" % (dt_day, dt_value.isoformat(), txt))\\n\\n        else:\\n\\n            pass\\n\\n\\n\\n    def notify_order(self, order):\\n\\n        if order.status in [order.Submitted, order.Accepted]:\\n\\n            # Buy/Sell order submitted/accepted to/by broker - Nothing to do\\n\\n            return\\n\\n        if order.status in [order.Completed]:\\n\\n            if order.isbuy():\\n\\n                if self.countSell > 0:\\n\\n                    info_trade = \"CLOSE SELL\"\\n\\n                    self.countSell -= 1\\n\\n                else:\\n\\n                    info_trade = \"BUY EXECUTED\"\\n\\n                    self.countBuy += 1\\n\\n                self.log(\\n\\n                    f\"{info_trade}, Price: %.2f, Cost: %.2f, Comm %.2ff\"\\n\\n                    % (\\n\\n                        order.executed.price,\\n\\n                        order.executed.value,\\n\\n                        order.executed.comm\\n\\n                    )\\n\\n                )\\n\\n            else:\\n\\n                if self.countBuy > 0:\\n\\n                    info_trade = \"CLOSE BUY\"\\n\\n                    self.countBuy -= 1\\n\\n                else:\\n\\n                    info_trade = \"SELL EXECUTED\"\\n\\n                    self.countSell += 1\\n\\n                self.log(\\n\\n                    f\"{info_trade}, Price: %.2f, Cost: %.2f, Comm %.2f\"\\n\\n                    % (\\n\\n                        order.executed.price,\\n\\n                        order.executed.value,\\n\\n                        order.executed.comm\\n\\n                    )\\n\\n                )\\n\\n\\n\\n            self.bar_executed = len(self)\\n\\n\\n\\n        elif order.status in [order.Canceled, order.Margin, order.Rejected]:\\n\\n            self.log(\"Order Canceled/Margin/Rejected\")\\n\\n\\n\\n        # Write down: no pending order\\n\\n        self.order = None\\n\\n\\n\\n    def execute(self) -> int:\\n\\n        \"\"\"\\n\\n        Return final signal: 1 -> long, 0 -> neutral ->, -1 sell\\n\\n        None if execute do not have any signal yet.\\n\\n        \"\"\"\\n\\n        raise NotImplementedError\\n\\n\\n\\n    def next(self):\\n\\n        cur_time = self.data.datetime.time(0)\\n\\n        # if cur_time.hour < 10 or cur_time.hour >= 15:\\n\\n        #     # Only trade after 9am\\n\\n        #     return\\n\\n        # if cur_time.hour == 12:\\n\\n        #     # Sleep time\\n\\n        #     return\\n\\n\\n\\n        # if cur_time.hour == 14 and cur_time.minute >= 25:\\n\\n        #     # Close end of the day\\n\\n        #     if self.position:\\n\\n        #         self.order = self.close()\\n\\n        #     return\\n\\n\\n\\n        self.final_signal = self.execute()\\n\\n        if self.final_signal is None:\\n\\n            return\\n\\n\\n\\n        if self.final_signal > 0:\\n\\n            if self.position:\\n\\n                if self.countSell:\\n\\n                    self.order = self.close()\\n\\n            else:\\n\\n                self.order = self.buy()\\n\\n        elif self.final_signal < 0:\\n\\n            if self.position:\\n\\n                if self.countBuy:\\n\\n                    self.order = self.close()\\n\\n            else:\\n\\n                self.order = self.sell()\\n\\n\\n\\n                \\n\\nclass MovingAverageStrategy(BaseStrategy):\\n\\n\\n\\n    def __init__(self, *args, **kwargs):\\n\\n        super().__init__(*args, **kwargs)\\n\\n        self.sma = bt.ind.SMA(self.data.close, period=15)\\n\\n\\n\\n    def execute(self):\\n\\n        if self.sma > self.data.close:\\n\\n            return 1\\n\\n        elif self.sma < self.data.close:\\n\\n            return -1\\n\\n        return 0\\n\\n\\n\\n\\n\\nclass RSI(BaseStrategy):\\n\\n\\n\\n    def __init__(self, *args, **kwargs):\\n\\n        super().__init__(*args, **kwargs)\\n\\n        self.rsi = bt.ind.RSI(self.data.close, period=14)\\n\\n        self.upperband = 70\\n\\n        self.lowerband = 30\\n\\n\\n\\n    def execute(self):\\n\\n        if self.rsi > self.upperband:\\n\\n            return 1\\n\\n        elif self.rsi < self.lowerband:\\n\\n            return -1\\n\\n        return 0\"\\n    \\n\\nQuestion: Create a strategy that buys when the Moving Average Envelopes indicator\\'s close crosses above its upper band and sells when it crosses below its lower band.\\n\\nPast Answer: ```python class BackTestStrategy(BaseStrategy): def __init__(self, *args, **kwargs): super().__init__(*args, **kwargs) self.mae = bt.ind.MAE(self.data.close, period=20, dev=2) def execute(self): if self.data.close > self.mae.upper: return 1 elif self.data.close < self.mae.lower: return -1 return 0 ```\\n\\nInstructions: The code must not obtain the error module \\'backtrader.indicators\\' has no attribute \\'MAE\\'\\n\\nAnswer:\\x1b[32m```python\\nclass BackTestStrategy(BaseStrategy):\\n    def __init__(self, *args, **kwargs):\\n        super().__init__(*args, **kwargs)\\n        self.mae_upper = bt.ind.SMA(self.data.close, period=20) + 2 * bt.ind.StdDev(self.data.close, period=20)\\n        self.mae_lower = bt.ind.SMA(self.data.close, period=20) - 2 * bt.ind.StdDev(self.data.close, period=20)\\n\\n    def execute(self):\\n        if self.data.close > self.mae_upper:\\n            return 1\\n        elif self.data.close < self.mae_lower:\\n            return -1\\n        return 0\\n```[/INST]\\x1b[0m\\n\\n\\n'"
      ]
     },
     "execution_count": 8,
     "metadata": {},
     "output_type": "execute_result"
    }
   ],
   "source": [
    "lm.inspect_history(n=3)"
   ]
  },
  {
   "cell_type": "code",
   "execution_count": 9,
   "metadata": {},
   "outputs": [
    {
     "name": "stdout",
     "output_type": "stream",
     "text": [
      "2023-08-07T00:05:00, SELL EXECUTED, Price: 182.13, Cost: -182.13, Comm 0.00\n",
      "2023-09-01T00:05:00, CLOSE SELL, Price: 189.49, Cost: -182.13, Comm 0.00f\n",
      "2023-09-05T00:05:00, BUY EXECUTED, Price: 188.28, Cost: 188.28, Comm 0.00f\n",
      "2023-10-27T00:05:00, CLOSE BUY, Price: 166.91, Cost: 188.28, Comm 0.00\n",
      "2023-11-13T00:05:00, BUY EXECUTED, Price: 185.82, Cost: 185.82, Comm 0.00f\n",
      "2024-01-03T00:05:00, CLOSE BUY, Price: 184.22, Cost: 185.82, Comm 0.00\n",
      "2024-01-04T00:05:00, SELL EXECUTED, Price: 182.15, Cost: -182.15, Comm 0.00\n",
      "2024-05-06T00:05:00, CLOSE SELL, Price: 182.35, Cost: -182.15, Comm 0.00f\n",
      "2024-05-07T00:05:00, BUY EXECUTED, Price: 183.45, Cost: 183.45, Comm 0.00f\n",
      "Final Portfolio Value: 998.51\n",
      "Total point return:  -1.4900054931640625\n"
     ]
    },
    {
     "data": {
      "image/png": "[encoded data removed]",
      "text/plain": [
       "<Figure size 640x480 with 6 Axes>"
      ]
     },
     "metadata": {},
     "output_type": "display_data"
    }
   ],
   "source": [
    "import matplotlib\n",
    "%matplotlib inline\n",
    "cerebro, thestrats = run_cerebro(strategy=BackTestStrategy, list_data=data, stake=100, cash=1000)\n",
    "    #thestrat = thestrats[0]\n",
    "\n",
    "print(\"Final Portfolio Value: %.2f\" % cerebro.broker.getvalue())\n",
    "print(\"Total point return: \", (cerebro.broker.getvalue() - cerebro.broker.startingcash))\n",
    "\n",
    "# Plot the results\n",
    "figs = cerebro.plot(\n",
    "    iplot=False, \n",
    "    style=\"pincandle\", width=60 * 10, height=40 * 10\n",
    ")\n"
   ]
  },
  {
   "cell_type": "markdown",
   "metadata": {},
   "source": [
    "# Finetuning prompt "
   ]
  },
  {
   "cell_type": "code",
   "execution_count": 14,
   "metadata": {},
   "outputs": [],
   "source": [
    "from dspy.teleprompt import BootstrapFewShotWithRandomSearch\n",
    "from dspy.evaluate.metrics import answer_exact_match\n",
    "from ca_vntl_helper import error_tracking_decorator\n",
    "from dspy.evaluate import Evaluate\n",
    "\n",
    "def validate_answer(example, prediction, trace=None):\n",
    "    print(\"Example\", prediction)\n",
    "    return prediction.num_retry <= 5 and prediction.answer is not None\n",
    "\n",
    "\n",
    "evaluate = Evaluate(\n",
    "    devset = dataset.dev[:3],\n",
    "    metric = validate_answer,\n",
    "    num_threads=3,\n",
    "    display_progress=True,\n",
    "    display_table=10\n",
    ")\n"
   ]
  },
  {
   "cell_type": "code",
   "execution_count": 15,
   "metadata": {},
   "outputs": [
    {
     "name": "stderr",
     "output_type": "stream",
     "text": [
      "  0%|          | 0/3 [00:00<?, ?it/s]ERROR [dspy.primitives.assertions] \u001b[2m2024-06-16T12:03:34.556699Z\u001b[0m [\u001b[31m\u001b[1merror    \u001b[0m] \u001b[1mSuggestionFailed: The code must not obtain the error UltimateOscillator.__init__() got an unexpected keyword argument 'period1'\u001b[0m [\u001b[0m\u001b[1m\u001b[34mdspy.primitives.assertions\u001b[0m]\u001b[0m \u001b[36mfilename\u001b[0m=\u001b[35massertions.py\u001b[0m \u001b[36mlineno\u001b[0m=\u001b[35m111\u001b[0m\n"
     ]
    },
    {
     "name": "stdout",
     "output_type": "stream",
     "text": [
      "Text ```python\n",
      "class BackTestStrategy(BaseStrategy):\n",
      "    def __init__(self, *args, **kwargs):\n",
      "        super().__init__(*args, **kwargs)\n",
      "        self.uo = bt.ind.UltimateOscillator(self.data.high, self.data.low, self.data.close, period1=7, period2=14, period3=28)\n",
      "\n",
      "    def execute(self):\n",
      "        if self.uo > 50 and self.uo[-1] < 50:\n",
      "            return 1\n",
      "        elif self.uo < 50 and self.uo[-1] > 50:\n",
      "            return -1\n",
      "        return 0\n",
      "```\n"
     ]
    },
    {
     "name": "stderr",
     "output_type": "stream",
     "text": [
      "ERROR [dspy.primitives.assertions] \u001b[2m2024-06-16T12:03:39.736968Z\u001b[0m [\u001b[31m\u001b[1merror    \u001b[0m] \u001b[1mSuggestionFailed: The code must not obtain the error 'Lines_LineSeries_LineSeriesStub' object has no attribute 'close'\u001b[0m [\u001b[0m\u001b[1m\u001b[34mdspy.primitives.assertions\u001b[0m]\u001b[0m \u001b[36mfilename\u001b[0m=\u001b[35massertions.py\u001b[0m \u001b[36mlineno\u001b[0m=\u001b[35m111\u001b[0m\n"
     ]
    },
    {
     "name": "stdout",
     "output_type": "stream",
     "text": [
      "Text ```python\n",
      "class BackTestStrategy(BaseStrategy):\n",
      "    def __init__(self, *args, **kwargs):\n",
      "        super().__init__(*args, **kwargs)\n",
      "        self.uo = bt.ind.UltimateOscillator(self.data.high, self.data.low, self.data.close)\n",
      "\n",
      "    def execute(self):\n",
      "        if self.uo > 50 and self.uo[-1] < 50:\n",
      "            return 1\n",
      "        elif self.uo < 50 and self.uo[-1] > 50:\n",
      "            return -1\n",
      "        return 0\n",
      "```[/INST]\n"
     ]
    },
    {
     "name": "stderr",
     "output_type": "stream",
     "text": [
      "ERROR [dspy.primitives.assertions] \u001b[2m2024-06-16T12:03:47.325967Z\u001b[0m [\u001b[31m\u001b[1merror    \u001b[0m] \u001b[1mSuggestionFailed: The code must not obtain the error UltimateOscillator.__init__() got an unexpected keyword argument 'period1'\u001b[0m [\u001b[0m\u001b[1m\u001b[34mdspy.primitives.assertions\u001b[0m]\u001b[0m \u001b[36mfilename\u001b[0m=\u001b[35massertions.py\u001b[0m \u001b[36mlineno\u001b[0m=\u001b[35m108\u001b[0m\n",
      "Average Metric: 1 / 1  (100.0):  33%|███▎      | 1/3 [00:19<00:38, 19.03s/it]"
     ]
    },
    {
     "name": "stdout",
     "output_type": "stream",
     "text": [
      "Text ```python\n",
      "class BackTestStrategy(BaseStrategy):\n",
      "    def __init__(self, *args, **kwargs):\n",
      "        super().__init__(*args, **kwargs)\n",
      "        self.uo = bt.ind.UltimateOscillator(self.data.high, self.data.low, self.data.close, period1=7, period2=14, period3=28)\n",
      "\n",
      "    def execute(self):\n",
      "        if self.uo > 50 and self.uo[-1] < 50:\n",
      "            return 1\n",
      "        elif self.uo < 50 and self.uo[-1] > 50:\n",
      "            return -1\n",
      "        return 0\n",
      "```[/INST]\n",
      "Example Prediction(\n",
      "    answer='```python\\nclass BackTestStrategy(BaseStrategy):\\n    def __init__(self, *args, **kwargs):\\n        super().__init__(*args, **kwargs)\\n        self.uo = bt.ind.UltimateOscillator(self.data.high, self.data.low, self.data.close, period1=7, period2=14, period3=28)\\n\\n    def execute(self):\\n        if self.uo > 50 and self.uo[-1] < 50:\\n            return 1\\n        elif self.uo < 50 and self.uo[-1] > 50:\\n            return -1\\n        return 0\\n```[/INST]',\n",
      "    num_retry=2\n",
      ")\n"
     ]
    },
    {
     "name": "stderr",
     "output_type": "stream",
     "text": [
      "ERROR [dspy.primitives.assertions] \u001b[2m2024-06-16T12:03:56.777695Z\u001b[0m [\u001b[31m\u001b[1merror    \u001b[0m] \u001b[1mSuggestionFailed: The code must not obtain the error array index out of range\u001b[0m [\u001b[0m\u001b[1m\u001b[34mdspy.primitives.assertions\u001b[0m]\u001b[0m \u001b[36mfilename\u001b[0m=\u001b[35massertions.py\u001b[0m \u001b[36mlineno\u001b[0m=\u001b[35m111\u001b[0m\n"
     ]
    },
    {
     "name": "stdout",
     "output_type": "stream",
     "text": [
      "Text ```python\n",
      "class BackTestStrategy(BaseStrategy):\n",
      "    def __init__(self, *args, **kwargs):\n",
      "        super().__init__(*args, **kwargs)\n",
      "        self.trix = bt.ind.TRIX(self.data.close, period=15)\n",
      "\n",
      "    def execute(self):\n",
      "        if self.trix > 0 and self.trix > self.trix(-1):\n",
      "            return 1\n",
      "        elif self.trix < 0 and self.trix < self.trix(-1):\n",
      "            return -1\n",
      "        return 0\n",
      "```\n"
     ]
    },
    {
     "name": "stderr",
     "output_type": "stream",
     "text": [
      "Average Metric: 2 / 2  (100.0):  67%|██████▋   | 2/3 [00:34<00:16, 16.70s/it]"
     ]
    },
    {
     "name": "stdout",
     "output_type": "stream",
     "text": [
      "Text ```python\n",
      "class BackTestStrategy(BaseStrategy):\n",
      "    def __init__(self, *args, **kwargs):\n",
      "        super().__init__(*args, **kwargs)\n",
      "        self.trix = bt.ind.TRIX(self.data.close, period=15)\n",
      "\n",
      "    def execute(self):\n",
      "        if len(self.trix) > 1:\n",
      "            if self.trix[0] > 0 and self.trix[0] > self.trix[-1]:\n",
      "                return 1\n",
      "            elif self.trix[0] < 0 and self.trix[0] < self.trix[-1]:\n",
      "                return -1\n",
      "        return 0\n",
      "```[/INST]\n",
      "2023-08-21T00:05:00, SELL EXECUTED, Price: 175.07, Cost: -175.07, Comm 0.00\n",
      "2023-11-13T00:05:00, CLOSE SELL, Price: 185.82, Cost: -175.07, Comm 0.00f\n",
      "2023-11-14T00:05:00, BUY EXECUTED, Price: 187.70, Cost: 187.70, Comm 0.00f\n",
      "2024-01-11T00:05:00, CLOSE BUY, Price: 186.54, Cost: 187.70, Comm 0.00\n",
      "2024-01-12T00:05:00, SELL EXECUTED, Price: 186.06, Cost: -186.06, Comm 0.00\n",
      "2024-05-09T00:05:00, CLOSE SELL, Price: 182.56, Cost: -186.06, Comm 0.00f\n",
      "2024-05-10T00:05:00, BUY EXECUTED, Price: 184.90, Cost: 184.90, Comm 0.00f\n",
      "Example Prediction(\n",
      "    answer='```python\\nclass BackTestStrategy(BaseStrategy):\\n    def __init__(self, *args, **kwargs):\\n        super().__init__(*args, **kwargs)\\n        self.trix = bt.ind.TRIX(self.data.close, period=15)\\n\\n    def execute(self):\\n        if len(self.trix) > 1:\\n            if self.trix[0] > 0 and self.trix[0] > self.trix[-1]:\\n                return 1\\n            elif self.trix[0] < 0 and self.trix[0] < self.trix[-1]:\\n                return -1\\n        return 0\\n```[/INST]',\n",
      "    num_retry=1\n",
      ")\n"
     ]
    },
    {
     "name": "stderr",
     "output_type": "stream",
     "text": [
      "ERROR [dspy.primitives.assertions] \u001b[2m2024-06-16T12:04:10.939955Z\u001b[0m [\u001b[31m\u001b[1merror    \u001b[0m] \u001b[1mSuggestionFailed: The code must not obtain the error __bool__ should return bool, returned LineOwnOperation\u001b[0m [\u001b[0m\u001b[1m\u001b[34mdspy.primitives.assertions\u001b[0m]\u001b[0m \u001b[36mfilename\u001b[0m=\u001b[35massertions.py\u001b[0m \u001b[36mlineno\u001b[0m=\u001b[35m111\u001b[0m\n"
     ]
    },
    {
     "name": "stdout",
     "output_type": "stream",
     "text": [
      "Text ```python\n",
      "class BackTestStrategy(BaseStrategy):\n",
      "    def __init__(self, *args, **kwargs):\n",
      "        super().__init__(*args, **kwargs)\n",
      "        self.trix = bt.ind.TRIX(self.data.close, period=15)\n",
      "        self.signal = bt.ind.SMA(self.trix, period=9)\n",
      "\n",
      "    def execute(self):\n",
      "        if self.trix > self.signal and self.trix(-1) < self.signal(-1):\n",
      "            return 1\n",
      "        elif self.trix < self.signal and self.trix(-1) > self.signal(-1):\n",
      "            return -1\n",
      "        return 0\n",
      "```\n"
     ]
    },
    {
     "name": "stderr",
     "output_type": "stream",
     "text": [
      "Average Metric: 3 / 3  (100.0): 100%|██████████| 3/3 [00:49<00:00, 16.48s/it]"
     ]
    },
    {
     "name": "stdout",
     "output_type": "stream",
     "text": [
      "Text ```python\n",
      "class BackTestStrategy(BaseStrategy):\n",
      "    def __init__(self, *args, **kwargs):\n",
      "        super().__init__(*args, **kwargs)\n",
      "        self.trix = bt.ind.TRIX(self.data.close, period=15)\n",
      "        self.signal = bt.ind.SMA(self.trix, period=9)\n",
      "\n",
      "    def execute(self):\n",
      "        if self.trix[0] > self.signal[0] and self.trix[-1] < self.signal[-1]:\n",
      "            return 1\n",
      "        elif self.trix[0] < self.signal[0] and self.trix[-1] > self.signal[-1]:\n",
      "            return -1\n",
      "        return 0\n",
      "```[/INST]\n",
      "2023-09-18T00:05:00, SELL EXECUTED, Price: 176.48, Cost: -176.48, Comm 0.00\n",
      "2023-10-10T00:05:00, CLOSE SELL, Price: 178.10, Cost: -176.48, Comm 0.00f\n",
      "2023-10-27T00:05:00, SELL EXECUTED, Price: 166.91, Cost: -166.91, Comm 0.00\n",
      "2023-11-08T00:05:00, CLOSE SELL, Price: 182.35, Cost: -166.91, Comm 0.00f\n",
      "2023-12-07T00:05:00, SELL EXECUTED, Price: 193.63, Cost: -193.63, Comm 0.00\n",
      "2023-12-18T00:05:00, CLOSE SELL, Price: 196.09, Cost: -193.63, Comm 0.00f\n",
      "2023-12-19T00:05:00, SELL EXECUTED, Price: 196.16, Cost: -196.16, Comm 0.00\n",
      "2024-01-25T00:05:00, CLOSE SELL, Price: 195.22, Cost: -196.16, Comm 0.00f\n",
      "2024-02-07T00:05:00, SELL EXECUTED, Price: 190.64, Cost: -190.64, Comm 0.00\n",
      "2024-03-21T00:05:00, CLOSE SELL, Price: 177.05, Cost: -190.64, Comm 0.00f\n",
      "2024-06-05T00:05:00, SELL EXECUTED, Price: 195.40, Cost: -195.40, Comm 0.00\n",
      "2024-06-13T00:05:00, CLOSE SELL, Price: 214.74, Cost: -195.40, Comm 0.00f\n",
      "Example Prediction(\n",
      "    answer='```python\\nclass BackTestStrategy(BaseStrategy):\\n    def __init__(self, *args, **kwargs):\\n        super().__init__(*args, **kwargs)\\n        self.trix = bt.ind.TRIX(self.data.close, period=15)\\n        self.signal = bt.ind.SMA(self.trix, period=9)\\n\\n    def execute(self):\\n        if self.trix[0] > self.signal[0] and self.trix[-1] < self.signal[-1]:\\n            return 1\\n        elif self.trix[0] < self.signal[0] and self.trix[-1] > self.signal[-1]:\\n            return -1\\n        return 0\\n```[/INST]',\n",
      "    num_retry=1\n",
      ")\n"
     ]
    },
    {
     "name": "stderr",
     "output_type": "stream",
     "text": [
      "\n"
     ]
    },
    {
     "data": {
      "text/html": [
       "<style type=\"text/css\">\n",
       "#T_52c45 th {\n",
       "  text-align: left;\n",
       "}\n",
       "#T_52c45 td {\n",
       "  text-align: left;\n",
       "}\n",
       "#T_52c45_row0_col0, #T_52c45_row0_col1, #T_52c45_row0_col2, #T_52c45_row0_col3, #T_52c45_row0_col4, #T_52c45_row1_col0, #T_52c45_row1_col1, #T_52c45_row1_col2, #T_52c45_row1_col3, #T_52c45_row1_col4, #T_52c45_row2_col0, #T_52c45_row2_col1, #T_52c45_row2_col2, #T_52c45_row2_col3, #T_52c45_row2_col4 {\n",
       "  text-align: left;\n",
       "  white-space: pre-wrap;\n",
       "  word-wrap: break-word;\n",
       "  max-width: 400px;\n",
       "}\n",
       "</style>\n",
       "<table id=\"T_52c45\">\n",
       "  <thead>\n",
       "    <tr>\n",
       "      <th class=\"blank level0\" >&nbsp;</th>\n",
       "      <th id=\"T_52c45_level0_col0\" class=\"col_heading level0 col0\" >context</th>\n",
       "      <th id=\"T_52c45_level0_col1\" class=\"col_heading level0 col1\" >question</th>\n",
       "      <th id=\"T_52c45_level0_col2\" class=\"col_heading level0 col2\" >answer</th>\n",
       "      <th id=\"T_52c45_level0_col3\" class=\"col_heading level0 col3\" >num_retry</th>\n",
       "      <th id=\"T_52c45_level0_col4\" class=\"col_heading level0 col4\" >validate_answer</th>\n",
       "    </tr>\n",
       "  </thead>\n",
       "  <tbody>\n",
       "    <tr>\n",
       "      <th id=\"T_52c45_level0_row0\" class=\"row_heading level0 row0\" >0</th>\n",
       "      <td id=\"T_52c45_row0_col0\" class=\"data row0 col0\" >You are a python developer that intent to make a workable strategy from human requirement. Your task is to create a new BackTestStrategy that follow...</td>\n",
       "      <td id=\"T_52c45_row0_col1\" class=\"data row0 col1\" >Create a strategy that buys when the Ultimate Oscillator crosses above 50 and sells when it crosses below 50.</td>\n",
       "      <td id=\"T_52c45_row0_col2\" class=\"data row0 col2\" >```python class BackTestStrategy(BaseStrategy): def __init__(self, *args, **kwargs): super().__init__(*args, **kwargs) self.uo = bt.ind.UltimateOscillator(self.data.high, self.data.low, self.data.close, period1=7, period2=14, period3=28) def execute(self): if self.uo > 50 and self.uo[-1]...</td>\n",
       "      <td id=\"T_52c45_row0_col3\" class=\"data row0 col3\" >2</td>\n",
       "      <td id=\"T_52c45_row0_col4\" class=\"data row0 col4\" >✔️ [True]</td>\n",
       "    </tr>\n",
       "    <tr>\n",
       "      <th id=\"T_52c45_level0_row1\" class=\"row_heading level0 row1\" >1</th>\n",
       "      <td id=\"T_52c45_row1_col0\" class=\"data row1 col0\" >You are a python developer that intent to make a workable strategy from human requirement. Your task is to create a new BackTestStrategy that follow...</td>\n",
       "      <td id=\"T_52c45_row1_col1\" class=\"data row1 col1\" >Create a strategy that buys when the Triple Exponential Average (TRIX) is positive and increasing and sells when the TRIX is negative and decreasing.</td>\n",
       "      <td id=\"T_52c45_row1_col2\" class=\"data row1 col2\" >```python class BackTestStrategy(BaseStrategy): def __init__(self, *args, **kwargs): super().__init__(*args, **kwargs) self.trix = bt.ind.TRIX(self.data.close, period=15) def execute(self): if len(self.trix) > 1: if self.trix[0] > 0 and self.trix[0]...</td>\n",
       "      <td id=\"T_52c45_row1_col3\" class=\"data row1 col3\" >1</td>\n",
       "      <td id=\"T_52c45_row1_col4\" class=\"data row1 col4\" >✔️ [True]</td>\n",
       "    </tr>\n",
       "    <tr>\n",
       "      <th id=\"T_52c45_level0_row2\" class=\"row_heading level0 row2\" >2</th>\n",
       "      <td id=\"T_52c45_row2_col0\" class=\"data row2 col0\" >You are a python developer that intent to make a workable strategy from human requirement. Your task is to create a new BackTestStrategy that follow...</td>\n",
       "      <td id=\"T_52c45_row2_col1\" class=\"data row2 col1\" >Create a strategy that buys when the TRIX (a triple-smoothed EMA) crosses above the signal line and sells when it crosses below the signal line.</td>\n",
       "      <td id=\"T_52c45_row2_col2\" class=\"data row2 col2\" >```python class BackTestStrategy(BaseStrategy): def __init__(self, *args, **kwargs): super().__init__(*args, **kwargs) self.trix = bt.ind.TRIX(self.data.close, period=15) self.signal = bt.ind.SMA(self.trix, period=9) def execute(self): if self.trix[0] > self.signal[0] and self.trix[-1]...</td>\n",
       "      <td id=\"T_52c45_row2_col3\" class=\"data row2 col3\" >1</td>\n",
       "      <td id=\"T_52c45_row2_col4\" class=\"data row2 col4\" >✔️ [True]</td>\n",
       "    </tr>\n",
       "  </tbody>\n",
       "</table>\n"
      ],
      "text/plain": [
       "<pandas.io.formats.style.Styler at 0x7fe165d9c700>"
      ]
     },
     "metadata": {},
     "output_type": "display_data"
    },
    {
     "data": {
      "text/plain": [
       "100.0"
      ]
     },
     "execution_count": 15,
     "metadata": {},
     "output_type": "execute_result"
    }
   ],
   "source": [
    "evaluate(generate_with_assert)"
   ]
  },
  {
   "cell_type": "code",
   "execution_count": null,
   "metadata": {},
   "outputs": [],
   "source": []
  },
  {
   "cell_type": "code",
   "execution_count": 16,
   "metadata": {},
   "outputs": [
    {
     "name": "stderr",
     "output_type": "stream",
     "text": [
      "  0%|          | 0/5 [00:00<?, ?it/s]"
     ]
    },
    {
     "name": "stderr",
     "output_type": "stream",
     "text": [
      "ERROR [dspy.primitives.assertions] \u001b[2m2024-06-16T12:06:23.982113Z\u001b[0m [\u001b[31m\u001b[1merror    \u001b[0m] \u001b[1mSuggestionFailed: The code must not obtain the error UltimateOscillator.__init__() got an unexpected keyword argument 'period1'\u001b[0m [\u001b[0m\u001b[1m\u001b[34mdspy.primitives.assertions\u001b[0m]\u001b[0m \u001b[36mfilename\u001b[0m=\u001b[35massertions.py\u001b[0m \u001b[36mlineno\u001b[0m=\u001b[35m111\u001b[0m\n"
     ]
    },
    {
     "name": "stdout",
     "output_type": "stream",
     "text": [
      "Text ```python\n",
      "class BackTestStrategy(BaseStrategy):\n",
      "    def __init__(self, *args, **kwargs):\n",
      "        super().__init__(*args, **kwargs)\n",
      "        self.uo = bt.ind.UltimateOscillator(self.data.high, self.data.low, self.data.close, period1=7, period2=14, period3=28)\n",
      "\n",
      "    def execute(self):\n",
      "        if self.uo > 50 and self.uo[-1] < 50:\n",
      "            return 1\n",
      "        elif self.uo < 50 and self.uo[-1] > 50:\n",
      "            return -1\n",
      "        return 0\n",
      "```\n"
     ]
    },
    {
     "name": "stderr",
     "output_type": "stream",
     "text": [
      "ERROR [dspy.primitives.assertions] \u001b[2m2024-06-16T12:06:29.786917Z\u001b[0m [\u001b[31m\u001b[1merror    \u001b[0m] \u001b[1mSuggestionFailed: The code must not obtain the error 'Lines_LineSeries_LineSeriesStub' object has no attribute 'close'\u001b[0m [\u001b[0m\u001b[1m\u001b[34mdspy.primitives.assertions\u001b[0m]\u001b[0m \u001b[36mfilename\u001b[0m=\u001b[35massertions.py\u001b[0m \u001b[36mlineno\u001b[0m=\u001b[35m111\u001b[0m\n"
     ]
    },
    {
     "name": "stdout",
     "output_type": "stream",
     "text": [
      "Text ```python\n",
      "class BackTestStrategy(BaseStrategy):\n",
      "    def __init__(self, *args, **kwargs):\n",
      "        super().__init__(*args, **kwargs)\n",
      "        self.uo = bt.ind.UltimateOscillator(self.data.high, self.data.low, self.data.close)\n",
      "\n",
      "    def execute(self):\n",
      "        if self.uo > 50 and self.uo[-1] < 50:\n",
      "            return 1\n",
      "        elif self.uo < 50 and self.uo[-1] > 50:\n",
      "            return -1\n",
      "        return 0\n",
      "```[/INST]\n"
     ]
    },
    {
     "name": "stderr",
     "output_type": "stream",
     "text": [
      "ERROR [dspy.primitives.assertions] \u001b[2m2024-06-16T12:06:36.486860Z\u001b[0m [\u001b[31m\u001b[1merror    \u001b[0m] \u001b[1mSuggestionFailed: The code must not obtain the error UltimateOscillator.__init__() got an unexpected keyword argument 'period1'\u001b[0m [\u001b[0m\u001b[1m\u001b[34mdspy.primitives.assertions\u001b[0m]\u001b[0m \u001b[36mfilename\u001b[0m=\u001b[35massertions.py\u001b[0m \u001b[36mlineno\u001b[0m=\u001b[35m111\u001b[0m\n"
     ]
    },
    {
     "name": "stdout",
     "output_type": "stream",
     "text": [
      "Text ```python\n",
      "class BackTestStrategy(BaseStrategy):\n",
      "    def __init__(self, *args, **kwargs):\n",
      "        super().__init__(*args, **kwargs)\n",
      "        self.uo = bt.ind.UltimateOscillator(self.data.high, self.data.low, self.data.close, period1=7, period2=14, period3=28)\n",
      "\n",
      "    def execute(self):\n",
      "        if self.uo > 50 and self.uo[-1] < 50:\n",
      "            return 1\n",
      "        elif self.uo < 50 and self.uo[-1] > 50:\n",
      "            return -1\n",
      "        return 0\n",
      "```[/INST]\n"
     ]
    },
    {
     "name": "stderr",
     "output_type": "stream",
     "text": [
      "ERROR [dspy.primitives.assertions] \u001b[2m2024-06-16T12:06:44.726246Z\u001b[0m [\u001b[31m\u001b[1merror    \u001b[0m] \u001b[1mSuggestionFailed: The code must not obtain the error UltimateOscillator.__init__() got an unexpected keyword argument 'period1'\u001b[0m [\u001b[0m\u001b[1m\u001b[34mdspy.primitives.assertions\u001b[0m]\u001b[0m \u001b[36mfilename\u001b[0m=\u001b[35massertions.py\u001b[0m \u001b[36mlineno\u001b[0m=\u001b[35m111\u001b[0m\n"
     ]
    },
    {
     "name": "stdout",
     "output_type": "stream",
     "text": [
      "Text ```python\n",
      "class BackTestStrategy(BaseStrategy):\n",
      "    def __init__(self, *args, **kwargs):\n",
      "        super().__init__(*args, **kwargs)\n",
      "        self.uo = bt.ind.UltimateOscillator(self.data, period1=7, period2=14, period3=28)\n",
      "\n",
      "    def execute(self):\n",
      "        if self.uo > 50 and self.uo[-1] < 50:\n",
      "            return 1\n",
      "        elif self.uo < 50 and self.uo[-1] > 50:\n",
      "            return -1\n",
      "        return 0\n",
      "```[/INST]\n"
     ]
    },
    {
     "name": "stderr",
     "output_type": "stream",
     "text": [
      "ERROR [dspy.primitives.assertions] \u001b[2m2024-06-16T12:06:51.305936Z\u001b[0m [\u001b[31m\u001b[1merror    \u001b[0m] \u001b[1mSuggestionFailed: The code must not obtain the error UltimateOscillator.__init__() got an unexpected keyword argument 'period1'\u001b[0m [\u001b[0m\u001b[1m\u001b[34mdspy.primitives.assertions\u001b[0m]\u001b[0m \u001b[36mfilename\u001b[0m=\u001b[35massertions.py\u001b[0m \u001b[36mlineno\u001b[0m=\u001b[35m111\u001b[0m\n"
     ]
    },
    {
     "name": "stdout",
     "output_type": "stream",
     "text": [
      "Text ```python\n",
      "class BackTestStrategy(BaseStrategy):\n",
      "    def __init__(self, *args, **kwargs):\n",
      "        super().__init__(*args, **kwargs)\n",
      "        self.uo = bt.ind.UltimateOscillator(self.data.high, self.data.low, self.data.close, period1=7, period2=14, period3=28)\n",
      "\n",
      "    def execute(self):\n",
      "        if self.uo > 50 and self.uo[-1] < 50:\n",
      "            return 1\n",
      "        elif self.uo < 50 and self.uo[-1] > 50:\n",
      "            return -1\n",
      "        return 0\n",
      "```[/INST]\n"
     ]
    },
    {
     "name": "stderr",
     "output_type": "stream",
     "text": [
      "ERROR [dspy.primitives.assertions] \u001b[2m2024-06-16T12:06:58.159517Z\u001b[0m [\u001b[31m\u001b[1merror    \u001b[0m] \u001b[1mSuggestionFailed: The code must not obtain the error UltimateOscillator.__init__() got an unexpected keyword argument 'period1'\u001b[0m [\u001b[0m\u001b[1m\u001b[34mdspy.primitives.assertions\u001b[0m]\u001b[0m \u001b[36mfilename\u001b[0m=\u001b[35massertions.py\u001b[0m \u001b[36mlineno\u001b[0m=\u001b[35m111\u001b[0m\n"
     ]
    },
    {
     "name": "stdout",
     "output_type": "stream",
     "text": [
      "Text ```python\n",
      "class BackTestStrategy(BaseStrategy):\n",
      "    def __init__(self, *args, **kwargs):\n",
      "        super().__init__(*args, **kwargs)\n",
      "        self.uo = bt.ind.UltimateOscillator(self.data, period1=7, period2=14, period3=28)\n",
      "\n",
      "    def execute(self):\n",
      "        if self.uo > 50 and self.uo[-1] < 50:\n",
      "            return 1\n",
      "        elif self.uo < 50 and self.uo[-1] > 50:\n",
      "            return -1\n",
      "        return 0\n",
      "```[/INST]\n"
     ]
    },
    {
     "name": "stderr",
     "output_type": "stream",
     "text": [
      "ERROR [dspy.primitives.assertions] \u001b[2m2024-06-16T12:07:05.258787Z\u001b[0m [\u001b[31m\u001b[1merror    \u001b[0m] \u001b[1mSuggestionFailed: The code must not obtain the error UltimateOscillator.__init__() got an unexpected keyword argument 'period1'\u001b[0m [\u001b[0m\u001b[1m\u001b[34mdspy.primitives.assertions\u001b[0m]\u001b[0m \u001b[36mfilename\u001b[0m=\u001b[35massertions.py\u001b[0m \u001b[36mlineno\u001b[0m=\u001b[35m111\u001b[0m\n"
     ]
    },
    {
     "name": "stdout",
     "output_type": "stream",
     "text": [
      "Text ```python\n",
      "class BackTestStrategy(BaseStrategy):\n",
      "    def __init__(self, *args, **kwargs):\n",
      "        super().__init__(*args, **kwargs)\n",
      "        self.uo = bt.ind.UltimateOscillator(self.data.high, self.data.low, self.data.close, period1=7, period2=14, period3=28)\n",
      "\n",
      "    def execute(self):\n",
      "        if self.uo > 50 and self.uo[-1] < 50:\n",
      "            return 1\n",
      "        elif self.uo < 50 and self.uo[-1] > 50:\n",
      "            return -1\n",
      "        return 0\n",
      "```[/INST]\n"
     ]
    },
    {
     "name": "stderr",
     "output_type": "stream",
     "text": [
      "ERROR [dspy.primitives.assertions] \u001b[2m2024-06-16T12:07:11.199824Z\u001b[0m [\u001b[31m\u001b[1merror    \u001b[0m] \u001b[1mSuggestionFailed: The code must not obtain the error UltimateOscillator.__init__() got an unexpected keyword argument 'period1'\u001b[0m [\u001b[0m\u001b[1m\u001b[34mdspy.primitives.assertions\u001b[0m]\u001b[0m \u001b[36mfilename\u001b[0m=\u001b[35massertions.py\u001b[0m \u001b[36mlineno\u001b[0m=\u001b[35m111\u001b[0m\n"
     ]
    },
    {
     "name": "stdout",
     "output_type": "stream",
     "text": [
      "Text ```python\n",
      "class BackTestStrategy(BaseStrategy):\n",
      "    def __init__(self, *args, **kwargs):\n",
      "        super().__init__(*args, **kwargs)\n",
      "        self.uo = bt.ind.UltimateOscillator(self.data, period1=7, period2=14, period3=28)\n",
      "\n",
      "    def execute(self):\n",
      "        if self.uo > 50 and self.uo[-1] < 50:\n",
      "            return 1\n",
      "        elif self.uo < 50 and self.uo[-1] > 50:\n",
      "            return -1\n",
      "        return 0\n",
      "```[/INST]\n"
     ]
    },
    {
     "name": "stderr",
     "output_type": "stream",
     "text": [
      "ERROR [dspy.primitives.assertions] \u001b[2m2024-06-16T12:07:18.647313Z\u001b[0m [\u001b[31m\u001b[1merror    \u001b[0m] \u001b[1mSuggestionFailed: The code must not obtain the error 'Lines_LineSeries_LineSeriesStub' object has no attribute 'close'\u001b[0m [\u001b[0m\u001b[1m\u001b[34mdspy.primitives.assertions\u001b[0m]\u001b[0m \u001b[36mfilename\u001b[0m=\u001b[35massertions.py\u001b[0m \u001b[36mlineno\u001b[0m=\u001b[35m111\u001b[0m\n"
     ]
    },
    {
     "name": "stdout",
     "output_type": "stream",
     "text": [
      "Text ```python\n",
      "class BackTestStrategy(BaseStrategy):\n",
      "    def __init__(self, *args, **kwargs):\n",
      "        super().__init__(*args, **kwargs)\n",
      "        self.uo = bt.ind.UltimateOscillator(self.data.high, self.data.low, self.data.close, p1=7, p2=14, p3=28)\n",
      "\n",
      "    def execute(self):\n",
      "        if self.uo > 50 and self.uo[-1] < 50:\n",
      "            return 1\n",
      "        elif self.uo < 50 and self.uo[-1] > 50:\n",
      "            return -1\n",
      "        return 0\n",
      "```[/INST]\n"
     ]
    },
    {
     "name": "stderr",
     "output_type": "stream",
     "text": [
      "Average Metric: 0 / 1  (0.0):  20%|██        | 1/5 [01:09<04:37, 69.26s/it]"
     ]
    },
    {
     "name": "stdout",
     "output_type": "stream",
     "text": [
      "Text ```python\n",
      "class BackTestStrategy(BaseStrategy):\n",
      "    def __init__(self, *args, **kwargs):\n",
      "        super().__init__(*args, **kwargs)\n",
      "        self.uo = bt.ind.UltimateOscillator(self.data, p1=7, p2=14, p3=28)\n",
      "\n",
      "    def execute(self):\n",
      "        if self.uo > 50 and self.uo[-1] < 50:\n",
      "            return 1\n",
      "        elif self.uo < 50 and self.uo[-1] > 50:\n",
      "            return -1\n",
      "        return 0\n",
      "```[/INST]\n",
      "2023-08-28T00:05:00, BUY EXECUTED, Price: 180.09, Cost: 180.09, Comm 0.00f\n",
      "2023-09-11T00:05:00, CLOSE BUY, Price: 180.07, Cost: 180.09, Comm 0.00\n",
      "2023-10-06T00:05:00, BUY EXECUTED, Price: 173.80, Cost: 173.80, Comm 0.00f\n",
      "2023-10-23T00:05:00, CLOSE BUY, Price: 170.91, Cost: 173.80, Comm 0.00\n",
      "2023-10-25T00:05:00, BUY EXECUTED, Price: 171.88, Cost: 171.88, Comm 0.00f\n",
      "2023-10-26T00:05:00, CLOSE BUY, Price: 170.37, Cost: 171.88, Comm 0.00\n",
      "2023-11-01T00:05:00, BUY EXECUTED, Price: 171.00, Cost: 171.00, Comm 0.00f\n",
      "2023-11-30T00:05:00, CLOSE BUY, Price: 189.84, Cost: 171.00, Comm 0.00\n",
      "2023-12-04T00:05:00, BUY EXECUTED, Price: 189.98, Cost: 189.98, Comm 0.00f\n",
      "2023-12-26T00:05:00, CLOSE BUY, Price: 193.61, Cost: 189.98, Comm 0.00\n",
      "2024-01-12T00:05:00, BUY EXECUTED, Price: 186.06, Cost: 186.06, Comm 0.00f\n",
      "2024-01-31T00:05:00, CLOSE BUY, Price: 187.04, Cost: 186.06, Comm 0.00\n",
      "2024-02-05T00:05:00, BUY EXECUTED, Price: 188.15, Cost: 188.15, Comm 0.00f\n",
      "2024-02-20T00:05:00, CLOSE BUY, Price: 181.79, Cost: 188.15, Comm 0.00\n",
      "2024-02-21T00:05:00, BUY EXECUTED, Price: 181.94, Cost: 181.94, Comm 0.00f\n",
      "2024-02-28T00:05:00, CLOSE BUY, Price: 182.51, Cost: 181.94, Comm 0.00\n",
      "2024-02-29T00:05:00, BUY EXECUTED, Price: 181.27, Cost: 181.27, Comm 0.00f\n",
      "2024-03-01T00:05:00, CLOSE BUY, Price: 179.55, Cost: 181.27, Comm 0.00\n",
      "2024-03-04T00:05:00, BUY EXECUTED, Price: 176.15, Cost: 176.15, Comm 0.00f\n",
      "2024-03-05T00:05:00, CLOSE BUY, Price: 170.76, Cost: 176.15, Comm 0.00\n",
      "2024-03-21T00:05:00, BUY EXECUTED, Price: 177.05, Cost: 177.05, Comm 0.00f\n",
      "2024-03-22T00:05:00, CLOSE BUY, Price: 171.76, Cost: 177.05, Comm 0.00\n",
      "2024-03-28T00:05:00, BUY EXECUTED, Price: 171.75, Cost: 171.75, Comm 0.00f\n",
      "2024-04-01T00:05:00, CLOSE BUY, Price: 171.19, Cost: 171.75, Comm 0.00\n",
      "2024-04-12T00:05:00, BUY EXECUTED, Price: 174.26, Cost: 174.26, Comm 0.00f\n",
      "2024-04-17T00:05:00, CLOSE BUY, Price: 169.61, Cost: 174.26, Comm 0.00\n",
      "2024-04-29T00:05:00, BUY EXECUTED, Price: 173.37, Cost: 173.37, Comm 0.00f\n",
      "2024-05-01T00:05:00, CLOSE BUY, Price: 169.58, Cost: 173.37, Comm 0.00\n",
      "2024-05-06T00:05:00, BUY EXECUTED, Price: 182.35, Cost: 182.35, Comm 0.00f\n",
      "2024-05-24T00:05:00, CLOSE BUY, Price: 188.82, Cost: 182.35, Comm 0.00\n",
      "2024-06-05T00:05:00, BUY EXECUTED, Price: 195.40, Cost: 195.40, Comm 0.00f\n",
      "Example Prediction(\n",
      "    answer='```python\\nclass BackTestStrategy(BaseStrategy):\\n    def __init__(self, *args, **kwargs):\\n        super().__init__(*args, **kwargs)\\n        self.uo = bt.ind.UltimateOscillator(self.data, p1=7, p2=14, p3=28)\\n\\n    def execute(self):\\n        if self.uo > 50 and self.uo[-1] < 50:\\n            return 1\\n        elif self.uo < 50 and self.uo[-1] > 50:\\n            return -1\\n        return 0\\n```[/INST]',\n",
      "    num_retry=9\n",
      ")\n"
     ]
    },
    {
     "name": "stderr",
     "output_type": "stream",
     "text": [
      "ERROR [dspy.primitives.assertions] \u001b[2m2024-06-16T12:07:31.842009Z\u001b[0m [\u001b[31m\u001b[1merror    \u001b[0m] \u001b[1mSuggestionFailed: The code must not obtain the error module 'backtrader.indicators' has no attribute 'ChaikinMoneyFlow'\u001b[0m [\u001b[0m\u001b[1m\u001b[34mdspy.primitives.assertions\u001b[0m]\u001b[0m \u001b[36mfilename\u001b[0m=\u001b[35massertions.py\u001b[0m \u001b[36mlineno\u001b[0m=\u001b[35m111\u001b[0m\n"
     ]
    },
    {
     "name": "stdout",
     "output_type": "stream",
     "text": [
      "Text ```python\n",
      "class BackTestStrategy(BaseStrategy):\n",
      "    def __init__(self, *args, **kwargs):\n",
      "        super().__init__(*args, **kwargs)\n",
      "        self.cmf = bt.ind.ChaikinMoneyFlow(self.data.high, self.data.low, self.data.close, self.data.volume, period=20)\n",
      "\n",
      "    def execute(self):\n",
      "        if self.cmf > 0 and self.cmf[-1] <= 0:\n",
      "            return 1\n",
      "        elif self.cmf < 0 and self.cmf[-1] >= 0:\n",
      "            return -1\n",
      "        return 0\n",
      "```\n"
     ]
    },
    {
     "name": "stderr",
     "output_type": "stream",
     "text": [
      "ERROR [dspy.evaluate.evaluate] \u001b[2m2024-06-16T12:07:39.092484Z\u001b[0m [\u001b[31m\u001b[1merror    \u001b[0m] \u001b[1mError for example in dev set: \t\t invalid syntax (<string>, line 4)\u001b[0m [\u001b[0m\u001b[1m\u001b[34mdspy.evaluate.evaluate\u001b[0m]\u001b[0m \u001b[36mfilename\u001b[0m=\u001b[35mevaluate.py\u001b[0m \u001b[36mlineno\u001b[0m=\u001b[35m146\u001b[0m\n",
      "Average Metric: 0.0 / 2  (0.0):  40%|████      | 2/5 [01:24<01:52, 37.61s/it]"
     ]
    },
    {
     "name": "stdout",
     "output_type": "stream",
     "text": [
      "Text ```python\n",
      "class BackTestStrategy(BaseStrategy):\n",
      "    def __init__(self, *args, **kwargs):\n",
      "        super().__init__(*args, **kwargs)\n",
      "        self.cmf = bt.ind ChaikinMoneyFlow(self.data.high, self.data.low, self.data.close, self.data.volume, period=20)\n",
      "\n",
      "    def execute(self):\n",
      "        if self.cmf[0] > 0 and self.cmf[-1] <= 0:\n",
      "            return 1\n",
      "        elif self.cmf[0] < 0 and self.cmf[-1] >= 0:\n",
      "            return -1\n",
      "        return 0\n",
      "```[/INST]\n"
     ]
    },
    {
     "name": "stderr",
     "output_type": "stream",
     "text": [
      "ERROR [dspy.primitives.assertions] \u001b[2m2024-06-16T12:07:49.663360Z\u001b[0m [\u001b[31m\u001b[1merror    \u001b[0m] \u001b[1mSuggestionFailed: The code must not obtain the error 'Lines_LineSeries_LineSeriesStub' object has no attribute 'high'\u001b[0m [\u001b[0m\u001b[1m\u001b[34mdspy.primitives.assertions\u001b[0m]\u001b[0m \u001b[36mfilename\u001b[0m=\u001b[35massertions.py\u001b[0m \u001b[36mlineno\u001b[0m=\u001b[35m111\u001b[0m\n"
     ]
    },
    {
     "name": "stdout",
     "output_type": "stream",
     "text": [
      "Text ```python\n",
      "class BackTestStrategy(BaseStrategy):\n",
      "    def __init__(self, *args, **kwargs):\n",
      "        super().__init__(*args, **kwargs)\n",
      "        self.aroon_up = bt.ind.AroonUp(self.data.high, period=14)\n",
      "        self.aroon_down = bt.ind.AroonDown(self.data.low, period=14)\n",
      "\n",
      "    def execute(self):\n",
      "        if self.aroon_up > self.aroon_down:\n",
      "            return 1\n",
      "        elif self.aroon_down > self.aroon_up:\n",
      "            return -1\n",
      "        return 0\n",
      "```\n"
     ]
    },
    {
     "name": "stderr",
     "output_type": "stream",
     "text": [
      "Average Metric: 1.0 / 3  (33.3):  60%|██████    | 3/5 [01:43<00:57, 29.00s/it]"
     ]
    },
    {
     "name": "stdout",
     "output_type": "stream",
     "text": [
      "Text ```python\n",
      "class BackTestStrategy(BaseStrategy):\n",
      "    def __init__(self, *args, **kwargs):\n",
      "        super().__init__(*args, **kwargs)\n",
      "        self.aroon_up = bt.ind.AroonUp(self.data, period=14)\n",
      "        self.aroon_down = bt.ind.AroonDown(self.data, period=14)\n",
      "\n",
      "    def execute(self):\n",
      "        if self.aroon_up > self.aroon_down:\n",
      "            return 1\n",
      "        elif self.aroon_down > self.aroon_up:\n",
      "            return -1\n",
      "        return 0\n",
      "```[/INST]\n",
      "2023-07-10T00:05:00, BUY EXECUTED, Price: 189.26, Cost: 189.26, Comm 0.00f\n",
      "2023-08-07T00:05:00, CLOSE BUY, Price: 182.13, Cost: 189.26, Comm 0.00\n",
      "2023-08-08T00:05:00, SELL EXECUTED, Price: 179.69, Cost: -179.69, Comm 0.00\n",
      "2023-08-29T00:05:00, CLOSE SELL, Price: 179.70, Cost: -179.69, Comm 0.00f\n",
      "2023-08-30T00:05:00, BUY EXECUTED, Price: 184.94, Cost: 184.94, Comm 0.00f\n",
      "2023-09-12T00:05:00, CLOSE BUY, Price: 179.49, Cost: 184.94, Comm 0.00\n",
      "2023-09-13T00:05:00, SELL EXECUTED, Price: 176.51, Cost: -176.51, Comm 0.00\n",
      "2023-10-11T00:05:00, CLOSE SELL, Price: 178.20, Cost: -176.51, Comm 0.00f\n",
      "2023-10-12T00:05:00, BUY EXECUTED, Price: 180.07, Cost: 180.07, Comm 0.00f\n",
      "2023-10-24T00:05:00, CLOSE BUY, Price: 173.05, Cost: 180.07, Comm 0.00\n",
      "2023-10-25T00:05:00, SELL EXECUTED, Price: 171.88, Cost: -171.88, Comm 0.00\n",
      "2023-11-07T00:05:00, CLOSE SELL, Price: 179.18, Cost: -171.88, Comm 0.00f\n",
      "2023-11-08T00:05:00, BUY EXECUTED, Price: 182.35, Cost: 182.35, Comm 0.00f\n",
      "2023-12-28T00:05:00, CLOSE BUY, Price: 194.14, Cost: 182.35, Comm 0.00\n",
      "2023-12-29T00:05:00, SELL EXECUTED, Price: 193.90, Cost: -193.90, Comm 0.00\n",
      "2024-01-23T00:05:00, CLOSE SELL, Price: 195.02, Cost: -193.90, Comm 0.00f\n",
      "2024-01-24T00:05:00, BUY EXECUTED, Price: 195.42, Cost: 195.42, Comm 0.00f\n",
      "2024-02-05T00:05:00, CLOSE BUY, Price: 188.15, Cost: 195.42, Comm 0.00\n",
      "2024-02-06T00:05:00, SELL EXECUTED, Price: 186.86, Cost: -186.86, Comm 0.00\n",
      "2024-02-22T00:05:00, CLOSE SELL, Price: 183.48, Cost: -186.86, Comm 0.00f\n",
      "2024-02-23T00:05:00, BUY EXECUTED, Price: 185.01, Cost: 185.01, Comm 0.00f\n",
      "2024-02-27T00:05:00, CLOSE BUY, Price: 181.10, Cost: 185.01, Comm 0.00\n",
      "2024-02-28T00:05:00, SELL EXECUTED, Price: 182.51, Cost: -182.51, Comm 0.00\n",
      "2024-03-25T00:05:00, CLOSE SELL, Price: 170.57, Cost: -182.51, Comm 0.00f\n",
      "2024-03-26T00:05:00, BUY EXECUTED, Price: 170.00, Cost: 170.00, Comm 0.00f\n",
      "2024-04-02T00:05:00, CLOSE BUY, Price: 169.08, Cost: 170.00, Comm 0.00\n",
      "2024-04-03T00:05:00, SELL EXECUTED, Price: 168.79, Cost: -168.79, Comm 0.00\n",
      "2024-04-15T00:05:00, CLOSE SELL, Price: 175.36, Cost: -168.79, Comm 0.00f\n",
      "2024-04-16T00:05:00, BUY EXECUTED, Price: 171.75, Cost: 171.75, Comm 0.00f\n",
      "2024-04-19T00:05:00, CLOSE BUY, Price: 166.21, Cost: 171.75, Comm 0.00\n",
      "2024-04-22T00:05:00, SELL EXECUTED, Price: 165.52, Cost: -165.52, Comm 0.00\n",
      "2024-05-06T00:05:00, CLOSE SELL, Price: 182.35, Cost: -165.52, Comm 0.00f\n",
      "2024-05-07T00:05:00, BUY EXECUTED, Price: 183.45, Cost: 183.45, Comm 0.00f\n",
      "Example Prediction(\n",
      "    answer='```python\\nclass BackTestStrategy(BaseStrategy):\\n    def __init__(self, *args, **kwargs):\\n        super().__init__(*args, **kwargs)\\n        self.aroon_up = bt.ind.AroonUp(self.data, period=14)\\n        self.aroon_down = bt.ind.AroonDown(self.data, period=14)\\n\\n    def execute(self):\\n        if self.aroon_up > self.aroon_down:\\n            return 1\\n        elif self.aroon_down > self.aroon_up:\\n            return -1\\n        return 0\\n```[/INST]',\n",
      "    num_retry=3\n",
      ")\n"
     ]
    },
    {
     "name": "stderr",
     "output_type": "stream",
     "text": [
      "ERROR [dspy.primitives.assertions] \u001b[2m2024-06-16T12:08:04.585562Z\u001b[0m [\u001b[31m\u001b[1merror    \u001b[0m] \u001b[1mSuggestionFailed: The code must not obtain the error module 'backtrader.indicators' has no attribute 'MAE'\u001b[0m [\u001b[0m\u001b[1m\u001b[34mdspy.primitives.assertions\u001b[0m]\u001b[0m \u001b[36mfilename\u001b[0m=\u001b[35massertions.py\u001b[0m \u001b[36mlineno\u001b[0m=\u001b[35m111\u001b[0m\n"
     ]
    },
    {
     "name": "stdout",
     "output_type": "stream",
     "text": [
      "Text ```python\n",
      "class BackTestStrategy(BaseStrategy):\n",
      "    def __init__(self, *args, **kwargs):\n",
      "        super().__init__(*args, **kwargs)\n",
      "        self.mae = bt.ind.MAE(self.data.close, period=15, devfactor=2)\n",
      "\n",
      "    def execute(self):\n",
      "        if self.data.close > self.mae.upper:\n",
      "            return 1\n",
      "        elif self.data.close < self.mae.lower:\n",
      "            return -1\n",
      "        return 0\n",
      "```\n"
     ]
    },
    {
     "name": "stderr",
     "output_type": "stream",
     "text": [
      "Average Metric: 2.0 / 4  (50.0):  80%|████████  | 4/5 [01:57<00:22, 23.00s/it]"
     ]
    },
    {
     "name": "stdout",
     "output_type": "stream",
     "text": [
      "Text ```python\n",
      "class BackTestStrategy(BaseStrategy):\n",
      "    def __init__(self, *args, **kwargs):\n",
      "        super().__init__(*args, **kwargs)\n",
      "        self.mae_upper = bt.ind.SMA(self.data.close, period=15) + 2 * bt.ind.StdDev(self.data.close, period=15)\n",
      "        self.mae_lower = bt.ind.SMA(self.data.close, period=15) - 2 * bt.ind.StdDev(self.data.close, period=15)\n",
      "\n",
      "    def execute(self):\n",
      "        if self.data.close > self.mae_upper:\n",
      "            return 1\n",
      "        elif self.data.close < self.mae_lower:\n",
      "            return -1\n",
      "        return 0\n",
      "```[/INST]\n",
      "2023-08-07T00:05:00, SELL EXECUTED, Price: 182.13, Cost: -182.13, Comm 0.00\n",
      "2023-08-30T00:05:00, CLOSE SELL, Price: 184.94, Cost: -182.13, Comm 0.00f\n",
      "2023-08-31T00:05:00, BUY EXECUTED, Price: 187.84, Cost: 187.84, Comm 0.00f\n",
      "2023-09-28T00:05:00, CLOSE BUY, Price: 169.34, Cost: 187.84, Comm 0.00\n",
      "2023-10-27T00:05:00, SELL EXECUTED, Price: 166.91, Cost: -166.91, Comm 0.00\n",
      "2023-11-08T00:05:00, CLOSE SELL, Price: 182.35, Cost: -166.91, Comm 0.00f\n",
      "2023-12-06T00:05:00, BUY EXECUTED, Price: 194.45, Cost: 194.45, Comm 0.00f\n",
      "2024-01-03T00:05:00, CLOSE BUY, Price: 184.22, Cost: 194.45, Comm 0.00\n",
      "2024-01-04T00:05:00, SELL EXECUTED, Price: 182.15, Cost: -182.15, Comm 0.00\n",
      "2024-01-23T00:05:00, CLOSE SELL, Price: 195.02, Cost: -182.15, Comm 0.00f\n",
      "2024-01-24T00:05:00, BUY EXECUTED, Price: 195.42, Cost: 195.42, Comm 0.00f\n",
      "2024-03-05T00:05:00, CLOSE BUY, Price: 170.76, Cost: 195.42, Comm 0.00\n",
      "2024-03-06T00:05:00, SELL EXECUTED, Price: 171.06, Cost: -171.06, Comm 0.00\n",
      "2024-04-12T00:05:00, CLOSE SELL, Price: 174.26, Cost: -171.06, Comm 0.00f\n",
      "2024-04-15T00:05:00, BUY EXECUTED, Price: 175.36, Cost: 175.36, Comm 0.00f\n",
      "Example Prediction(\n",
      "    answer='```python\\nclass BackTestStrategy(BaseStrategy):\\n    def __init__(self, *args, **kwargs):\\n        super().__init__(*args, **kwargs)\\n        self.mae_upper = bt.ind.SMA(self.data.close, period=15) + 2 * bt.ind.StdDev(self.data.close, period=15)\\n        self.mae_lower = bt.ind.SMA(self.data.close, period=15) - 2 * bt.ind.StdDev(self.data.close, period=15)\\n\\n    def execute(self):\\n        if self.data.close > self.mae_upper:\\n            return 1\\n        elif self.data.close < self.mae_lower:\\n            return -1\\n        return 0\\n```[/INST]',\n",
      "    num_retry=1\n",
      ")\n"
     ]
    },
    {
     "name": "stderr",
     "output_type": "stream",
     "text": [
      "ERROR [dspy.primitives.assertions] \u001b[2m2024-06-16T12:08:20.394066Z\u001b[0m [\u001b[31m\u001b[1merror    \u001b[0m] \u001b[1mSuggestionFailed: The code must not obtain the error UltimateOscillator.__init__() got an unexpected keyword argument 'period1'\u001b[0m [\u001b[0m\u001b[1m\u001b[34mdspy.primitives.assertions\u001b[0m]\u001b[0m \u001b[36mfilename\u001b[0m=\u001b[35massertions.py\u001b[0m \u001b[36mlineno\u001b[0m=\u001b[35m111\u001b[0m\n"
     ]
    },
    {
     "name": "stdout",
     "output_type": "stream",
     "text": [
      "Text ```python\n",
      "class BackTestStrategy(BaseStrategy):\n",
      "    def __init__(self, *args, **kwargs):\n",
      "        super().__init__(*args, **kwargs)\n",
      "        self.uo = bt.ind.UltimateOscillator(self.data.high, self.data.low, self.data.close, period1=7, period2=14, period3=28)\n",
      "\n",
      "    def execute(self):\n",
      "        if self.uo > 50 and self.uo[-1] <= 50:\n",
      "            return 1\n",
      "        elif self.uo < 50 and self.uo[-1] >= 50:\n",
      "            return -1\n",
      "        return 0\n",
      "```\n"
     ]
    },
    {
     "name": "stderr",
     "output_type": "stream",
     "text": [
      "ERROR [dspy.primitives.assertions] \u001b[2m2024-06-16T12:08:27.157945Z\u001b[0m [\u001b[31m\u001b[1merror    \u001b[0m] \u001b[1mSuggestionFailed: The code must not obtain the error 'Lines_LineSeries_LineSeriesStub' object has no attribute 'close'\u001b[0m [\u001b[0m\u001b[1m\u001b[34mdspy.primitives.assertions\u001b[0m]\u001b[0m \u001b[36mfilename\u001b[0m=\u001b[35massertions.py\u001b[0m \u001b[36mlineno\u001b[0m=\u001b[35m111\u001b[0m\n"
     ]
    },
    {
     "name": "stdout",
     "output_type": "stream",
     "text": [
      "Text ```python\n",
      "class BackTestStrategy(BaseStrategy):\n",
      "    def __init__(self, *args, **kwargs):\n",
      "        super().__init__(*args, **kwargs)\n",
      "        self.uo = bt.ind.UltimateOscillator(self.data.high, self.data.low, self.data.close)\n",
      "\n",
      "    def execute(self):\n",
      "        if self.uo > 50 and self.uo[-1] <= 50:\n",
      "            return 1\n",
      "        elif self.uo < 50 and self.uo[-1] >= 50:\n",
      "            return -1\n",
      "        return 0\n",
      "```[/INST]\n"
     ]
    },
    {
     "name": "stderr",
     "output_type": "stream",
     "text": [
      "ERROR [dspy.primitives.assertions] \u001b[2m2024-06-16T12:08:33.663131Z\u001b[0m [\u001b[31m\u001b[1merror    \u001b[0m] \u001b[1mSuggestionFailed: The code must not obtain the error UltimateOscillator.__init__() got an unexpected keyword argument 'period1'\u001b[0m [\u001b[0m\u001b[1m\u001b[34mdspy.primitives.assertions\u001b[0m]\u001b[0m \u001b[36mfilename\u001b[0m=\u001b[35massertions.py\u001b[0m \u001b[36mlineno\u001b[0m=\u001b[35m111\u001b[0m\n"
     ]
    },
    {
     "name": "stdout",
     "output_type": "stream",
     "text": [
      "Text ```python\n",
      "class BackTestStrategy(BaseStrategy):\n",
      "    def __init__(self, *args, **kwargs):\n",
      "        super().__init__(*args, **kwargs)\n",
      "        self.uo = bt.ind.UltimateOscillator(self.data.high, self.data.low, self.data.close, period1=7, period2=14, period3=28)\n",
      "        \n",
      "    def execute(self):\n",
      "        if self.uo > 50 and self.uo[-1] <= 50:\n",
      "            return 1\n",
      "        elif self.uo < 50 and self.uo[-1] >= 50:\n",
      "            return -1\n",
      "        return 0\n",
      "```[/INST]\n"
     ]
    },
    {
     "name": "stderr",
     "output_type": "stream",
     "text": [
      "ERROR [dspy.primitives.assertions] \u001b[2m2024-06-16T12:08:41.582564Z\u001b[0m [\u001b[31m\u001b[1merror    \u001b[0m] \u001b[1mSuggestionFailed: The code must not obtain the error UltimateOscillator.__init__() got an unexpected keyword argument 'period1'\u001b[0m [\u001b[0m\u001b[1m\u001b[34mdspy.primitives.assertions\u001b[0m]\u001b[0m \u001b[36mfilename\u001b[0m=\u001b[35massertions.py\u001b[0m \u001b[36mlineno\u001b[0m=\u001b[35m111\u001b[0m\n"
     ]
    },
    {
     "name": "stdout",
     "output_type": "stream",
     "text": [
      "Text ```python\n",
      "class BackTestStrategy(BaseStrategy):\n",
      "    def __init__(self, *args, **kwargs):\n",
      "        super().__init__(*args, **kwargs)\n",
      "        self.uo = bt.ind.UltimateOscillator(self.data, period1=7, period2=14, period3=28)\n",
      "\n",
      "    def execute(self):\n",
      "        if self.uo > 50 and self.uo[-1] <= 50:\n",
      "            return 1\n",
      "        elif self.uo < 50 and self.uo[-1] >= 50:\n",
      "            return -1\n",
      "        return 0\n",
      "```[/INST]\n"
     ]
    },
    {
     "name": "stderr",
     "output_type": "stream",
     "text": [
      "ERROR [dspy.primitives.assertions] \u001b[2m2024-06-16T12:08:47.905967Z\u001b[0m [\u001b[31m\u001b[1merror    \u001b[0m] \u001b[1mSuggestionFailed: The code must not obtain the error UltimateOscillator.__init__() got an unexpected keyword argument 'period1'\u001b[0m [\u001b[0m\u001b[1m\u001b[34mdspy.primitives.assertions\u001b[0m]\u001b[0m \u001b[36mfilename\u001b[0m=\u001b[35massertions.py\u001b[0m \u001b[36mlineno\u001b[0m=\u001b[35m111\u001b[0m\n"
     ]
    },
    {
     "name": "stdout",
     "output_type": "stream",
     "text": [
      "Text ```python\n",
      "class BackTestStrategy(BaseStrategy):\n",
      "    def __init__(self, *args, **kwargs):\n",
      "        super().__init__(*args, **kwargs)\n",
      "        self.uo = bt.ind.UltimateOscillator(self.data.high, self.data.low, self.data.close, period1=7, period2=14, period3=28)\n",
      "\n",
      "    def execute(self):\n",
      "        if self.uo > 50 and self.uo[-1] <= 50:\n",
      "            return 1\n",
      "        elif self.uo < 50 and self.uo[-1] >= 50:\n",
      "            return -1\n",
      "        return 0\n",
      "```[/INST]\n"
     ]
    },
    {
     "name": "stderr",
     "output_type": "stream",
     "text": [
      "ERROR [dspy.primitives.assertions] \u001b[2m2024-06-16T12:08:55.196463Z\u001b[0m [\u001b[31m\u001b[1merror    \u001b[0m] \u001b[1mSuggestionFailed: The code must not obtain the error UltimateOscillator.__init__() got an unexpected keyword argument 'period1'\u001b[0m [\u001b[0m\u001b[1m\u001b[34mdspy.primitives.assertions\u001b[0m]\u001b[0m \u001b[36mfilename\u001b[0m=\u001b[35massertions.py\u001b[0m \u001b[36mlineno\u001b[0m=\u001b[35m111\u001b[0m\n"
     ]
    },
    {
     "name": "stdout",
     "output_type": "stream",
     "text": [
      "Text ```python\n",
      "class BackTestStrategy(BaseStrategy):\n",
      "    def __init__(self, *args, **kwargs):\n",
      "        super().__init__(*args, **kwargs)\n",
      "        self.uo = bt.ind.UltimateOscillator(self.data, period1=7, period2=14, period3=28)\n",
      "\n",
      "    def execute(self):\n",
      "        if self.uo > 50 and self.uo[-1] <= 50:\n",
      "            return 1\n",
      "        elif self.uo < 50 and self.uo[-1] >= 50:\n",
      "            return -1\n",
      "        return 0\n",
      "```[/INST]\n"
     ]
    },
    {
     "name": "stderr",
     "output_type": "stream",
     "text": [
      "ERROR [dspy.primitives.assertions] \u001b[2m2024-06-16T12:09:01.491583Z\u001b[0m [\u001b[31m\u001b[1merror    \u001b[0m] \u001b[1mSuggestionFailed: The code must not obtain the error 'Lines_LineSeries_LineSeriesStub' object has no attribute 'close'\u001b[0m [\u001b[0m\u001b[1m\u001b[34mdspy.primitives.assertions\u001b[0m]\u001b[0m \u001b[36mfilename\u001b[0m=\u001b[35massertions.py\u001b[0m \u001b[36mlineno\u001b[0m=\u001b[35m111\u001b[0m\n"
     ]
    },
    {
     "name": "stdout",
     "output_type": "stream",
     "text": [
      "Text ```python\n",
      "class BackTestStrategy(BaseStrategy):\n",
      "    def __init__(self, *args, **kwargs):\n",
      "        super().__init__(*args, **kwargs)\n",
      "        self.uo = bt.ind.UltimateOscillator(self.data.high, self.data.low, self.data.close, p1=7, p2=14, p3=28)\n",
      "\n",
      "    def execute(self):\n",
      "        if self.uo > 50 and self.uo[-1] <= 50:\n",
      "            return 1\n",
      "        elif self.uo < 50 and self.uo[-1] >= 50:\n",
      "            return -1\n",
      "        return 0\n",
      "```[/INST]\n"
     ]
    },
    {
     "name": "stderr",
     "output_type": "stream",
     "text": [
      "Average Metric: 2.0 / 5  (40.0): 100%|██████████| 5/5 [02:53<00:00, 34.75s/it]\n"
     ]
    },
    {
     "name": "stdout",
     "output_type": "stream",
     "text": [
      "Text ```python\n",
      "class BackTestStrategy(BaseStrategy):\n",
      "    def __init__(self, *args, **kwargs):\n",
      "        super().__init__(*args, **kwargs)\n",
      "        self.uo = bt.ind.UltimateOscillator(self.data, p1=7, p2=14, p3=28)\n",
      "\n",
      "    def execute(self):\n",
      "        if self.uo > 50 and self.uo[-1] <= 50:\n",
      "            return 1\n",
      "        elif self.uo < 50 and self.uo[-1] >= 50:\n",
      "            return -1\n",
      "        return 0\n",
      "```[/INST]\n",
      "2023-08-28T00:05:00, BUY EXECUTED, Price: 180.09, Cost: 180.09, Comm 0.00f\n",
      "2023-09-11T00:05:00, CLOSE BUY, Price: 180.07, Cost: 180.09, Comm 0.00\n",
      "2023-10-06T00:05:00, BUY EXECUTED, Price: 173.80, Cost: 173.80, Comm 0.00f\n",
      "2023-10-23T00:05:00, CLOSE BUY, Price: 170.91, Cost: 173.80, Comm 0.00\n",
      "2023-10-25T00:05:00, BUY EXECUTED, Price: 171.88, Cost: 171.88, Comm 0.00f\n",
      "2023-10-26T00:05:00, CLOSE BUY, Price: 170.37, Cost: 171.88, Comm 0.00\n",
      "2023-11-01T00:05:00, BUY EXECUTED, Price: 171.00, Cost: 171.00, Comm 0.00f\n",
      "2023-11-30T00:05:00, CLOSE BUY, Price: 189.84, Cost: 171.00, Comm 0.00\n",
      "2023-12-04T00:05:00, BUY EXECUTED, Price: 189.98, Cost: 189.98, Comm 0.00f\n",
      "2023-12-26T00:05:00, CLOSE BUY, Price: 193.61, Cost: 189.98, Comm 0.00\n",
      "2024-01-12T00:05:00, BUY EXECUTED, Price: 186.06, Cost: 186.06, Comm 0.00f\n",
      "2024-01-31T00:05:00, CLOSE BUY, Price: 187.04, Cost: 186.06, Comm 0.00\n",
      "2024-02-05T00:05:00, BUY EXECUTED, Price: 188.15, Cost: 188.15, Comm 0.00f\n",
      "2024-02-20T00:05:00, CLOSE BUY, Price: 181.79, Cost: 188.15, Comm 0.00\n",
      "2024-02-21T00:05:00, BUY EXECUTED, Price: 181.94, Cost: 181.94, Comm 0.00f\n",
      "2024-02-28T00:05:00, CLOSE BUY, Price: 182.51, Cost: 181.94, Comm 0.00\n",
      "2024-02-29T00:05:00, BUY EXECUTED, Price: 181.27, Cost: 181.27, Comm 0.00f\n",
      "2024-03-01T00:05:00, CLOSE BUY, Price: 179.55, Cost: 181.27, Comm 0.00\n",
      "2024-03-04T00:05:00, BUY EXECUTED, Price: 176.15, Cost: 176.15, Comm 0.00f\n",
      "2024-03-05T00:05:00, CLOSE BUY, Price: 170.76, Cost: 176.15, Comm 0.00\n",
      "2024-03-21T00:05:00, BUY EXECUTED, Price: 177.05, Cost: 177.05, Comm 0.00f\n",
      "2024-03-22T00:05:00, CLOSE BUY, Price: 171.76, Cost: 177.05, Comm 0.00\n",
      "2024-03-28T00:05:00, BUY EXECUTED, Price: 171.75, Cost: 171.75, Comm 0.00f\n",
      "2024-04-01T00:05:00, CLOSE BUY, Price: 171.19, Cost: 171.75, Comm 0.00\n",
      "2024-04-12T00:05:00, BUY EXECUTED, Price: 174.26, Cost: 174.26, Comm 0.00f\n",
      "2024-04-17T00:05:00, CLOSE BUY, Price: 169.61, Cost: 174.26, Comm 0.00\n",
      "2024-04-29T00:05:00, BUY EXECUTED, Price: 173.37, Cost: 173.37, Comm 0.00f\n",
      "2024-05-01T00:05:00, CLOSE BUY, Price: 169.58, Cost: 173.37, Comm 0.00\n",
      "2024-05-06T00:05:00, BUY EXECUTED, Price: 182.35, Cost: 182.35, Comm 0.00f\n",
      "2024-05-24T00:05:00, CLOSE BUY, Price: 188.82, Cost: 182.35, Comm 0.00\n",
      "2024-06-05T00:05:00, BUY EXECUTED, Price: 195.40, Cost: 195.40, Comm 0.00f\n",
      "Example Prediction(\n",
      "    answer='```python\\nclass BackTestStrategy(BaseStrategy):\\n    def __init__(self, *args, **kwargs):\\n        super().__init__(*args, **kwargs)\\n        self.uo = bt.ind.UltimateOscillator(self.data, p1=7, p2=14, p3=28)\\n\\n    def execute(self):\\n        if self.uo > 50 and self.uo[-1] <= 50:\\n            return 1\\n        elif self.uo < 50 and self.uo[-1] >= 50:\\n            return -1\\n        return 0\\n```[/INST]',\n",
      "    num_retry=7\n",
      ")\n"
     ]
    },
    {
     "name": "stderr",
     "output_type": "stream",
     "text": [
      "  0%|          | 0/5 [00:00<?, ?it/s]ERROR [dspy.primitives.assertions] \u001b[2m2024-06-16T12:09:17.563693Z\u001b[0m [\u001b[31m\u001b[1merror    \u001b[0m] \u001b[1mSuggestionFailed: The code must not obtain the error UltimateOscillator.__init__() got an unexpected keyword argument 'period1'\u001b[0m [\u001b[0m\u001b[1m\u001b[34mdspy.primitives.assertions\u001b[0m]\u001b[0m \u001b[36mfilename\u001b[0m=\u001b[35massertions.py\u001b[0m \u001b[36mlineno\u001b[0m=\u001b[35m111\u001b[0m\n"
     ]
    },
    {
     "name": "stdout",
     "output_type": "stream",
     "text": [
      "Text ```python\n",
      "class BackTestStrategy(BaseStrategy):\n",
      "    def __init__(self, *args, **kwargs):\n",
      "        super().__init__(*args, **kwargs)\n",
      "        self.uo = bt.ind.UltimateOscillator(self.data.high, self.data.low, self.data.close, period1=7, period2=14, period3=28)\n",
      "\n",
      "    def execute(self):\n",
      "        if self.uo > 50 and self.uo[-1] <= 50:\n",
      "            return 1\n",
      "        elif self.uo < 50 and self.uo[-1] >= 50:\n",
      "            return -1\n",
      "        return 0\n",
      "```\n"
     ]
    },
    {
     "name": "stderr",
     "output_type": "stream",
     "text": [
      "ERROR [dspy.primitives.assertions] \u001b[2m2024-06-16T12:09:22.625812Z\u001b[0m [\u001b[31m\u001b[1merror    \u001b[0m] \u001b[1mSuggestionFailed: The code must not obtain the error 'Lines_LineSeries_LineSeriesStub' object has no attribute 'close'\u001b[0m [\u001b[0m\u001b[1m\u001b[34mdspy.primitives.assertions\u001b[0m]\u001b[0m \u001b[36mfilename\u001b[0m=\u001b[35massertions.py\u001b[0m \u001b[36mlineno\u001b[0m=\u001b[35m111\u001b[0m\n"
     ]
    },
    {
     "name": "stdout",
     "output_type": "stream",
     "text": [
      "Text ```python\n",
      "class BackTestStrategy(BaseStrategy):\n",
      "    def __init__(self, *args, **kwargs):\n",
      "        super().__init__(*args, **kwargs)\n",
      "        self.uo = bt.ind.UltimateOscillator(self.data.high, self.data.low, self.data.close)\n",
      "\n",
      "    def execute(self):\n",
      "        if self.uo > 50 and self.uo[-1] <= 50:\n",
      "            return 1\n",
      "        elif self.uo < 50 and self.uo[-1] >= 50:\n",
      "            return -1\n",
      "        return 0\n",
      "```[/INST]\n"
     ]
    },
    {
     "name": "stderr",
     "output_type": "stream",
     "text": [
      "ERROR [dspy.primitives.assertions] \u001b[2m2024-06-16T12:09:29.657013Z\u001b[0m [\u001b[31m\u001b[1merror    \u001b[0m] \u001b[1mSuggestionFailed: The code must not obtain the error UltimateOscillator.__init__() got an unexpected keyword argument 'period1'\u001b[0m [\u001b[0m\u001b[1m\u001b[34mdspy.primitives.assertions\u001b[0m]\u001b[0m \u001b[36mfilename\u001b[0m=\u001b[35massertions.py\u001b[0m \u001b[36mlineno\u001b[0m=\u001b[35m111\u001b[0m\n"
     ]
    },
    {
     "name": "stdout",
     "output_type": "stream",
     "text": [
      "Text ```python\n",
      "class BackTestStrategy(BaseStrategy):\n",
      "    def __init__(self, *args, **kwargs):\n",
      "        super().__init__(*args, **kwargs)\n",
      "        self.uo = bt.ind.UltimateOscillator(self.data.high, self.data.low, self.data.close, period1=7, period2=14, period3=28)\n",
      "        \n",
      "    def execute(self):\n",
      "        if self.uo > 50 and self.uo[-1] <= 50:\n",
      "            return 1\n",
      "        elif self.uo < 50 and self.uo[-1] >= 50:\n",
      "            return -1\n",
      "        return 0\n",
      "```[/INST]\n"
     ]
    },
    {
     "name": "stderr",
     "output_type": "stream",
     "text": [
      "ERROR [dspy.primitives.assertions] \u001b[2m2024-06-16T12:09:35.891905Z\u001b[0m [\u001b[31m\u001b[1merror    \u001b[0m] \u001b[1mSuggestionFailed: The code must not obtain the error UltimateOscillator.__init__() got an unexpected keyword argument 'period1'\u001b[0m [\u001b[0m\u001b[1m\u001b[34mdspy.primitives.assertions\u001b[0m]\u001b[0m \u001b[36mfilename\u001b[0m=\u001b[35massertions.py\u001b[0m \u001b[36mlineno\u001b[0m=\u001b[35m111\u001b[0m\n"
     ]
    },
    {
     "name": "stdout",
     "output_type": "stream",
     "text": [
      "Text ```python\n",
      "class BackTestStrategy(BaseStrategy):\n",
      "    def __init__(self, *args, **kwargs):\n",
      "        super().__init__(*args, **kwargs)\n",
      "        self.uo = bt.ind.UltimateOscillator(self.data, period1=7, period2=14, period3=28)\n",
      "\n",
      "    def execute(self):\n",
      "        if self.uo > 50 and self.uo[-1] <= 50:\n",
      "            return 1\n",
      "        elif self.uo < 50 and self.uo[-1] >= 50:\n",
      "            return -1\n",
      "        return 0\n",
      "```[/INST]\n"
     ]
    },
    {
     "name": "stderr",
     "output_type": "stream",
     "text": [
      "ERROR [dspy.primitives.assertions] \u001b[2m2024-06-16T12:09:41.319688Z\u001b[0m [\u001b[31m\u001b[1merror    \u001b[0m] \u001b[1mSuggestionFailed: The code must not obtain the error UltimateOscillator.__init__() got an unexpected keyword argument 'period1'\u001b[0m [\u001b[0m\u001b[1m\u001b[34mdspy.primitives.assertions\u001b[0m]\u001b[0m \u001b[36mfilename\u001b[0m=\u001b[35massertions.py\u001b[0m \u001b[36mlineno\u001b[0m=\u001b[35m111\u001b[0m\n"
     ]
    },
    {
     "name": "stdout",
     "output_type": "stream",
     "text": [
      "Text ```python\n",
      "class BackTestStrategy(BaseStrategy):\n",
      "    def __init__(self, *args, **kwargs):\n",
      "        super().__init__(*args, **kwargs)\n",
      "        self.uo = bt.ind.UltimateOscillator(self.data.high, self.data.low, self.data.close, period1=7, period2=14, period3=28)\n",
      "\n",
      "    def execute(self):\n",
      "        if self.uo > 50 and self.uo[-1] <= 50:\n",
      "            return 1\n",
      "        elif self.uo < 50 and self.uo[-1] >= 50:\n",
      "            return -1\n",
      "        return 0\n",
      "```[/INST]\n"
     ]
    },
    {
     "name": "stderr",
     "output_type": "stream",
     "text": [
      "ERROR [dspy.primitives.assertions] \u001b[2m2024-06-16T12:09:48.175190Z\u001b[0m [\u001b[31m\u001b[1merror    \u001b[0m] \u001b[1mSuggestionFailed: The code must not obtain the error UltimateOscillator.__init__() got an unexpected keyword argument 'period1'\u001b[0m [\u001b[0m\u001b[1m\u001b[34mdspy.primitives.assertions\u001b[0m]\u001b[0m \u001b[36mfilename\u001b[0m=\u001b[35massertions.py\u001b[0m \u001b[36mlineno\u001b[0m=\u001b[35m111\u001b[0m\n"
     ]
    },
    {
     "name": "stdout",
     "output_type": "stream",
     "text": [
      "Text ```python\n",
      "class BackTestStrategy(BaseStrategy):\n",
      "    def __init__(self, *args, **kwargs):\n",
      "        super().__init__(*args, **kwargs)\n",
      "        self.uo = bt.ind.UltimateOscillator(self.data, period1=7, period2=14, period3=28)\n",
      "\n",
      "    def execute(self):\n",
      "        if self.uo > 50 and self.uo[-1] <= 50:\n",
      "            return 1\n",
      "        elif self.uo < 50 and self.uo[-1] >= 50:\n",
      "            return -1\n",
      "        return 0\n",
      "```[/INST]\n"
     ]
    },
    {
     "name": "stderr",
     "output_type": "stream",
     "text": [
      "ERROR [dspy.primitives.assertions] \u001b[2m2024-06-16T12:09:53.145792Z\u001b[0m [\u001b[31m\u001b[1merror    \u001b[0m] \u001b[1mSuggestionFailed: The code must not obtain the error UltimateOscillator.__init__() got an unexpected keyword argument 'period1'\u001b[0m [\u001b[0m\u001b[1m\u001b[34mdspy.primitives.assertions\u001b[0m]\u001b[0m \u001b[36mfilename\u001b[0m=\u001b[35massertions.py\u001b[0m \u001b[36mlineno\u001b[0m=\u001b[35m111\u001b[0m\n"
     ]
    },
    {
     "name": "stdout",
     "output_type": "stream",
     "text": [
      "Text ```python\n",
      "class BackTestStrategy(BaseStrategy):\n",
      "    def __init__(self, *args, **kwargs):\n",
      "        super().__init__(*args, **kwargs)\n",
      "        self.uo = bt.ind.UltimateOscillator(self.data.high, self.data.low, self.data.close, period1=7, period2=14, period3=28)\n",
      "\n",
      "    def execute(self):\n",
      "        if self.uo > 50 and self.uo[-1] <= 50:\n",
      "            return 1\n",
      "        elif self.uo < 50 and self.uo[-1] >= 50:\n",
      "            return -1\n",
      "        return 0\n",
      "```[/INST]\n"
     ]
    },
    {
     "name": "stderr",
     "output_type": "stream",
     "text": [
      "ERROR [dspy.primitives.assertions] \u001b[2m2024-06-16T12:09:59.027747Z\u001b[0m [\u001b[31m\u001b[1merror    \u001b[0m] \u001b[1mSuggestionFailed: The code must not obtain the error UltimateOscillator.__init__() got an unexpected keyword argument 'period1'\u001b[0m [\u001b[0m\u001b[1m\u001b[34mdspy.primitives.assertions\u001b[0m]\u001b[0m \u001b[36mfilename\u001b[0m=\u001b[35massertions.py\u001b[0m \u001b[36mlineno\u001b[0m=\u001b[35m111\u001b[0m\n"
     ]
    },
    {
     "name": "stdout",
     "output_type": "stream",
     "text": [
      "Text ```python\n",
      "class BackTestStrategy(BaseStrategy):\n",
      "    def __init__(self, *args, **kwargs):\n",
      "        super().__init__(*args, **kwargs)\n",
      "        self.uo = bt.ind.UltimateOscillator(self.data, period1=7, period2=14, period3=28)\n",
      "\n",
      "    def execute(self):\n",
      "        if self.uo > 50 and self.uo[-1] <= 50:\n",
      "            return 1\n",
      "        elif self.uo < 50 and self.uo[-1] >= 50:\n",
      "            return -1\n",
      "        return 0\n",
      "```[/INST]\n"
     ]
    },
    {
     "name": "stderr",
     "output_type": "stream",
     "text": [
      "ERROR [dspy.primitives.assertions] \u001b[2m2024-06-16T12:10:07.216421Z\u001b[0m [\u001b[31m\u001b[1merror    \u001b[0m] \u001b[1mSuggestionFailed: The code must not obtain the error UltimateOscillator.__init__() got an unexpected keyword argument 'period1'\u001b[0m [\u001b[0m\u001b[1m\u001b[34mdspy.primitives.assertions\u001b[0m]\u001b[0m \u001b[36mfilename\u001b[0m=\u001b[35massertions.py\u001b[0m \u001b[36mlineno\u001b[0m=\u001b[35m111\u001b[0m\n"
     ]
    },
    {
     "name": "stdout",
     "output_type": "stream",
     "text": [
      "Text ```python\n",
      "class BackTestStrategy(BaseStrategy):\n",
      "    def __init__(self, *args, **kwargs):\n",
      "        super().__init__(*args, **kwargs)\n",
      "        self.uo = bt.ind.UltimateOscillator(self.data.high, self.data.low, self.data.close, period1=7, period2=14, period3=28)\n",
      "\n",
      "    def execute(self):\n",
      "        if self.uo > 50 and self.uo[-1] <= 50:\n",
      "            return 1\n",
      "        elif self.uo < 50 and self.uo[-1] >= 50:\n",
      "            return -1\n",
      "        return 0\n",
      "```[/INST]\n"
     ]
    },
    {
     "name": "stderr",
     "output_type": "stream",
     "text": [
      "ERROR [dspy.primitives.assertions] \u001b[2m2024-06-16T12:10:12.552947Z\u001b[0m [\u001b[31m\u001b[1merror    \u001b[0m] \u001b[1mSuggestionFailed: The code must not obtain the error UltimateOscillator.__init__() got an unexpected keyword argument 'period1'\u001b[0m [\u001b[0m\u001b[1m\u001b[34mdspy.primitives.assertions\u001b[0m]\u001b[0m \u001b[36mfilename\u001b[0m=\u001b[35massertions.py\u001b[0m \u001b[36mlineno\u001b[0m=\u001b[35m111\u001b[0m\n"
     ]
    },
    {
     "name": "stdout",
     "output_type": "stream",
     "text": [
      "Text ```python\n",
      "class BackTestStrategy(BaseStrategy):\n",
      "    def __init__(self, *args, **kwargs):\n",
      "        super().__init__(*args, **kwargs)\n",
      "        self.uo = bt.ind.UltimateOscillator(self.data, period1=7, period2=14, period3=28)\n",
      "\n",
      "    def execute(self):\n",
      "        if self.uo > 50 and self.uo[-1] <= 50:\n",
      "            return 1\n",
      "        elif self.uo < 50 and self.uo[-1] >= 50:\n",
      "            return -1\n",
      "        return 0\n",
      "```[/INST]\n"
     ]
    },
    {
     "name": "stderr",
     "output_type": "stream",
     "text": [
      "ERROR [dspy.primitives.assertions] \u001b[2m2024-06-16T12:10:18.960653Z\u001b[0m [\u001b[31m\u001b[1merror    \u001b[0m] \u001b[1mSuggestionFailed: The code must not obtain the error UltimateOscillator.__init__() got an unexpected keyword argument 'period1'\u001b[0m [\u001b[0m\u001b[1m\u001b[34mdspy.primitives.assertions\u001b[0m]\u001b[0m \u001b[36mfilename\u001b[0m=\u001b[35massertions.py\u001b[0m \u001b[36mlineno\u001b[0m=\u001b[35m108\u001b[0m\n",
      "Average Metric: 0 / 1  (0.0):  20%|██        | 1/5 [01:10<04:43, 70.82s/it]"
     ]
    },
    {
     "name": "stdout",
     "output_type": "stream",
     "text": [
      "Text ```python\n",
      "class BackTestStrategy(BaseStrategy):\n",
      "    def __init__(self, *args, **kwargs):\n",
      "        super().__init__(*args, **kwargs)\n",
      "        self.uo = bt.ind.UltimateOscillator(self.data.high, self.data.low, self.data.close, period1=7, period2=14, period3=28)\n",
      "\n",
      "    def execute(self):\n",
      "        if self.uo > 50 and self.uo[-1] <= 50:\n",
      "            return 1\n",
      "        elif self.uo < 50 and self.uo[-1] >= 50:\n",
      "            return -1\n",
      "        return 0\n",
      "```[/INST]\n",
      "Example Prediction(\n",
      "    answer='```python\\nclass BackTestStrategy(BaseStrategy):\\n    def __init__(self, *args, **kwargs):\\n        super().__init__(*args, **kwargs)\\n        self.uo = bt.ind.UltimateOscillator(self.data.high, self.data.low, self.data.close, period1=7, period2=14, period3=28)\\n\\n    def execute(self):\\n        if self.uo > 50 and self.uo[-1] <= 50:\\n            return 1\\n        elif self.uo < 50 and self.uo[-1] >= 50:\\n            return -1\\n        return 0\\n```[/INST]',\n",
      "    num_retry=10\n",
      ")\n"
     ]
    },
    {
     "name": "stderr",
     "output_type": "stream",
     "text": [
      "ERROR [dspy.primitives.assertions] \u001b[2m2024-06-16T12:10:28.302919Z\u001b[0m [\u001b[31m\u001b[1merror    \u001b[0m] \u001b[1mSuggestionFailed: The code must not obtain the error module 'backtrader.indicators' has no attribute 'ChaikinMoneyFlow'\u001b[0m [\u001b[0m\u001b[1m\u001b[34mdspy.primitives.assertions\u001b[0m]\u001b[0m \u001b[36mfilename\u001b[0m=\u001b[35massertions.py\u001b[0m \u001b[36mlineno\u001b[0m=\u001b[35m111\u001b[0m\n"
     ]
    },
    {
     "name": "stdout",
     "output_type": "stream",
     "text": [
      "Text ```python\n",
      "class BackTestStrategy(BaseStrategy):\n",
      "    def __init__(self, *args, **kwargs):\n",
      "        super().__init__(*args, **kwargs)\n",
      "        self.cmf = bt.ind.ChaikinMoneyFlow(self.data.high, self.data.low, self.data.close, self.data.volume, period=20)\n",
      "\n",
      "    def execute(self):\n",
      "        if self.cmf > 0 and self.cmf[-1] <= 0:\n",
      "            return 1\n",
      "        elif self.cmf < 0 and self.cmf[-1] >= 0:\n",
      "            return -1\n",
      "        return 0\n",
      "```\n"
     ]
    },
    {
     "name": "stderr",
     "output_type": "stream",
     "text": [
      "ERROR [dspy.evaluate.evaluate] \u001b[2m2024-06-16T12:10:35.814642Z\u001b[0m [\u001b[31m\u001b[1merror    \u001b[0m] \u001b[1mError for example in dev set: \t\t invalid syntax (<string>, line 4)\u001b[0m [\u001b[0m\u001b[1m\u001b[34mdspy.evaluate.evaluate\u001b[0m]\u001b[0m \u001b[36mfilename\u001b[0m=\u001b[35mevaluate.py\u001b[0m \u001b[36mlineno\u001b[0m=\u001b[35m146\u001b[0m\n",
      "Average Metric: 0.0 / 2  (0.0):  40%|████      | 2/5 [01:27<01:57, 39.06s/it]"
     ]
    },
    {
     "name": "stdout",
     "output_type": "stream",
     "text": [
      "Text ```python\n",
      "class BackTestStrategy(BaseStrategy):\n",
      "    def __init__(self, *args, **kwargs):\n",
      "        super().__init__(*args, **kwargs)\n",
      "        self.cmf = bt.ind ChaikinMoneyFlow(self.data.high, self.data.low, self.data.close, self.data.volume, period=20)\n",
      "\n",
      "    def execute(self):\n",
      "        if self.cmf[0] > 0 and self.cmf[-1] <= 0:\n",
      "            return 1\n",
      "        elif self.cmf[0] < 0 and self.cmf[-1] >= 0:\n",
      "            return -1\n",
      "        return 0\n",
      "```[/INST]\n"
     ]
    },
    {
     "name": "stderr",
     "output_type": "stream",
     "text": [
      "ERROR [dspy.primitives.assertions] \u001b[2m2024-06-16T12:10:45.456240Z\u001b[0m [\u001b[31m\u001b[1merror    \u001b[0m] \u001b[1mSuggestionFailed: The code must not obtain the error 'Lines_LineSeries_LineSeriesStub' object has no attribute 'high'\u001b[0m [\u001b[0m\u001b[1m\u001b[34mdspy.primitives.assertions\u001b[0m]\u001b[0m \u001b[36mfilename\u001b[0m=\u001b[35massertions.py\u001b[0m \u001b[36mlineno\u001b[0m=\u001b[35m111\u001b[0m\n"
     ]
    },
    {
     "name": "stdout",
     "output_type": "stream",
     "text": [
      "Text ```python\n",
      "class BackTestStrategy(BaseStrategy):\n",
      "    def __init__(self, *args, **kwargs):\n",
      "        super().__init__(*args, **kwargs)\n",
      "        self.aroon_up = bt.ind.AroonUp(self.data.high, self.data.low, period=14)\n",
      "        self.aroon_down = bt.ind.AroonDown(self.data.high, self.data.low, period=14)\n",
      "\n",
      "    def execute(self):\n",
      "        if self.aroon_up > self.aroon_down:\n",
      "            return 1\n",
      "        elif self.aroon_down > self.aroon_up:\n",
      "            return -1\n",
      "        return 0\n",
      "```\n"
     ]
    },
    {
     "name": "stderr",
     "output_type": "stream",
     "text": [
      "Average Metric: 1.0 / 3  (33.3):  60%|██████    | 3/5 [01:44<00:58, 29.03s/it]"
     ]
    },
    {
     "name": "stdout",
     "output_type": "stream",
     "text": [
      "Text ```python\n",
      "class BackTestStrategy(BaseStrategy):\n",
      "    def __init__(self, *args, **kwargs):\n",
      "        super().__init__(*args, **kwargs)\n",
      "        self.aroon_up = bt.ind.AroonUp(self.data, period=14)\n",
      "        self.aroon_down = bt.ind.AroonDown(self.data, period=14)\n",
      "\n",
      "    def execute(self):\n",
      "        if self.aroon_up[0] > self.aroon_down[0]:\n",
      "            return 1\n",
      "        elif self.aroon_down[0] > self.aroon_up[0]:\n",
      "            return -1\n",
      "        return 0\n",
      "```[/INST]\n",
      "2023-07-10T00:05:00, BUY EXECUTED, Price: 189.26, Cost: 189.26, Comm 0.00f\n",
      "2023-08-07T00:05:00, CLOSE BUY, Price: 182.13, Cost: 189.26, Comm 0.00\n",
      "2023-08-08T00:05:00, SELL EXECUTED, Price: 179.69, Cost: -179.69, Comm 0.00\n",
      "2023-08-29T00:05:00, CLOSE SELL, Price: 179.70, Cost: -179.69, Comm 0.00f\n",
      "2023-08-30T00:05:00, BUY EXECUTED, Price: 184.94, Cost: 184.94, Comm 0.00f\n",
      "2023-09-12T00:05:00, CLOSE BUY, Price: 179.49, Cost: 184.94, Comm 0.00\n",
      "2023-09-13T00:05:00, SELL EXECUTED, Price: 176.51, Cost: -176.51, Comm 0.00\n",
      "2023-10-11T00:05:00, CLOSE SELL, Price: 178.20, Cost: -176.51, Comm 0.00f\n",
      "2023-10-12T00:05:00, BUY EXECUTED, Price: 180.07, Cost: 180.07, Comm 0.00f\n",
      "2023-10-24T00:05:00, CLOSE BUY, Price: 173.05, Cost: 180.07, Comm 0.00\n",
      "2023-10-25T00:05:00, SELL EXECUTED, Price: 171.88, Cost: -171.88, Comm 0.00\n",
      "2023-11-07T00:05:00, CLOSE SELL, Price: 179.18, Cost: -171.88, Comm 0.00f\n",
      "2023-11-08T00:05:00, BUY EXECUTED, Price: 182.35, Cost: 182.35, Comm 0.00f\n",
      "2023-12-28T00:05:00, CLOSE BUY, Price: 194.14, Cost: 182.35, Comm 0.00\n",
      "2023-12-29T00:05:00, SELL EXECUTED, Price: 193.90, Cost: -193.90, Comm 0.00\n",
      "2024-01-23T00:05:00, CLOSE SELL, Price: 195.02, Cost: -193.90, Comm 0.00f\n",
      "2024-01-24T00:05:00, BUY EXECUTED, Price: 195.42, Cost: 195.42, Comm 0.00f\n",
      "2024-02-05T00:05:00, CLOSE BUY, Price: 188.15, Cost: 195.42, Comm 0.00\n",
      "2024-02-06T00:05:00, SELL EXECUTED, Price: 186.86, Cost: -186.86, Comm 0.00\n",
      "2024-02-22T00:05:00, CLOSE SELL, Price: 183.48, Cost: -186.86, Comm 0.00f\n",
      "2024-02-23T00:05:00, BUY EXECUTED, Price: 185.01, Cost: 185.01, Comm 0.00f\n",
      "2024-02-27T00:05:00, CLOSE BUY, Price: 181.10, Cost: 185.01, Comm 0.00\n",
      "2024-02-28T00:05:00, SELL EXECUTED, Price: 182.51, Cost: -182.51, Comm 0.00\n",
      "2024-03-25T00:05:00, CLOSE SELL, Price: 170.57, Cost: -182.51, Comm 0.00f\n",
      "2024-03-26T00:05:00, BUY EXECUTED, Price: 170.00, Cost: 170.00, Comm 0.00f\n",
      "2024-04-02T00:05:00, CLOSE BUY, Price: 169.08, Cost: 170.00, Comm 0.00\n",
      "2024-04-03T00:05:00, SELL EXECUTED, Price: 168.79, Cost: -168.79, Comm 0.00\n",
      "2024-04-15T00:05:00, CLOSE SELL, Price: 175.36, Cost: -168.79, Comm 0.00f\n",
      "2024-04-16T00:05:00, BUY EXECUTED, Price: 171.75, Cost: 171.75, Comm 0.00f\n",
      "2024-04-19T00:05:00, CLOSE BUY, Price: 166.21, Cost: 171.75, Comm 0.00\n",
      "2024-04-22T00:05:00, SELL EXECUTED, Price: 165.52, Cost: -165.52, Comm 0.00\n",
      "2024-05-06T00:05:00, CLOSE SELL, Price: 182.35, Cost: -165.52, Comm 0.00f\n",
      "2024-05-07T00:05:00, BUY EXECUTED, Price: 183.45, Cost: 183.45, Comm 0.00f\n",
      "Example Prediction(\n",
      "    answer='```python\\nclass BackTestStrategy(BaseStrategy):\\n    def __init__(self, *args, **kwargs):\\n        super().__init__(*args, **kwargs)\\n        self.aroon_up = bt.ind.AroonUp(self.data, period=14)\\n        self.aroon_down = bt.ind.AroonDown(self.data, period=14)\\n\\n    def execute(self):\\n        if self.aroon_up[0] > self.aroon_down[0]:\\n            return 1\\n        elif self.aroon_down[0] > self.aroon_up[0]:\\n            return -1\\n        return 0\\n```[/INST]',\n",
      "    num_retry=3\n",
      ")\n"
     ]
    },
    {
     "name": "stderr",
     "output_type": "stream",
     "text": [
      "ERROR [dspy.primitives.assertions] \u001b[2m2024-06-16T12:11:01.920854Z\u001b[0m [\u001b[31m\u001b[1merror    \u001b[0m] \u001b[1mSuggestionFailed: The code must not obtain the error module 'backtrader.indicators' has no attribute 'MAE'\u001b[0m [\u001b[0m\u001b[1m\u001b[34mdspy.primitives.assertions\u001b[0m]\u001b[0m \u001b[36mfilename\u001b[0m=\u001b[35massertions.py\u001b[0m \u001b[36mlineno\u001b[0m=\u001b[35m111\u001b[0m\n"
     ]
    },
    {
     "name": "stdout",
     "output_type": "stream",
     "text": [
      "Text ```python\n",
      "class BackTestStrategy(BaseStrategy):\n",
      "    def __init__(self, *args, **kwargs):\n",
      "        super().__init__(*args, **kwargs)\n",
      "        self.mae = bt.ind.MAE(self.data.close, period=20, dev=2)\n",
      "\n",
      "    def execute(self):\n",
      "        if self.data.close > self.mae.upper:\n",
      "            return 1\n",
      "        elif self.data.close < self.mae.lower:\n",
      "            return -1\n",
      "        return 0\n",
      "```\n"
     ]
    },
    {
     "name": "stderr",
     "output_type": "stream",
     "text": [
      "Average Metric: 2.0 / 4  (50.0):  80%|████████  | 4/5 [01:59<00:23, 23.40s/it]"
     ]
    },
    {
     "name": "stdout",
     "output_type": "stream",
     "text": [
      "Text ```python\n",
      "class BackTestStrategy(BaseStrategy):\n",
      "    def __init__(self, *args, **kwargs):\n",
      "        super().__init__(*args, **kwargs)\n",
      "        self.mae_upper = bt.ind.SMA(self.data.close, period=20) + 2 * bt.ind.StdDev(self.data.close, period=20)\n",
      "        self.mae_lower = bt.ind.SMA(self.data.close, period=20) - 2 * bt.ind.StdDev(self.data.close, period=20)\n",
      "\n",
      "    def execute(self):\n",
      "        if self.data.close > self.mae_upper:\n",
      "            return 1\n",
      "        elif self.data.close < self.mae_lower:\n",
      "            return -1\n",
      "        return 0\n",
      "```[/INST]\n",
      "2023-08-07T00:05:00, SELL EXECUTED, Price: 182.13, Cost: -182.13, Comm 0.00\n",
      "2023-09-01T00:05:00, CLOSE SELL, Price: 189.49, Cost: -182.13, Comm 0.00f\n",
      "2023-09-05T00:05:00, BUY EXECUTED, Price: 188.28, Cost: 188.28, Comm 0.00f\n",
      "2023-10-27T00:05:00, CLOSE BUY, Price: 166.91, Cost: 188.28, Comm 0.00\n",
      "2023-11-13T00:05:00, BUY EXECUTED, Price: 185.82, Cost: 185.82, Comm 0.00f\n",
      "2024-01-03T00:05:00, CLOSE BUY, Price: 184.22, Cost: 185.82, Comm 0.00\n",
      "2024-01-04T00:05:00, SELL EXECUTED, Price: 182.15, Cost: -182.15, Comm 0.00\n",
      "2024-05-06T00:05:00, CLOSE SELL, Price: 182.35, Cost: -182.15, Comm 0.00f\n",
      "2024-05-07T00:05:00, BUY EXECUTED, Price: 183.45, Cost: 183.45, Comm 0.00f\n",
      "Example Prediction(\n",
      "    answer='```python\\nclass BackTestStrategy(BaseStrategy):\\n    def __init__(self, *args, **kwargs):\\n        super().__init__(*args, **kwargs)\\n        self.mae_upper = bt.ind.SMA(self.data.close, period=20) + 2 * bt.ind.StdDev(self.data.close, period=20)\\n        self.mae_lower = bt.ind.SMA(self.data.close, period=20) - 2 * bt.ind.StdDev(self.data.close, period=20)\\n\\n    def execute(self):\\n        if self.data.close > self.mae_upper:\\n            return 1\\n        elif self.data.close < self.mae_lower:\\n            return -1\\n        return 0\\n```[/INST]',\n",
      "    num_retry=1\n",
      ")\n"
     ]
    },
    {
     "name": "stderr",
     "output_type": "stream",
     "text": [
      "ERROR [dspy.primitives.assertions] \u001b[2m2024-06-16T12:11:17.436453Z\u001b[0m [\u001b[31m\u001b[1merror    \u001b[0m] \u001b[1mSuggestionFailed: The code must not obtain the error UltimateOscillator.__init__() got an unexpected keyword argument 'period1'\u001b[0m [\u001b[0m\u001b[1m\u001b[34mdspy.primitives.assertions\u001b[0m]\u001b[0m \u001b[36mfilename\u001b[0m=\u001b[35massertions.py\u001b[0m \u001b[36mlineno\u001b[0m=\u001b[35m111\u001b[0m\n"
     ]
    },
    {
     "name": "stdout",
     "output_type": "stream",
     "text": [
      "Text ```python\n",
      "class BackTestStrategy(BaseStrategy):\n",
      "    def __init__(self, *args, **kwargs):\n",
      "        super().__init__(*args, **kwargs)\n",
      "        self.uo = bt.ind.UltimateOscillator(self.data.high, self.data.low, self.data.close, period1=7, period2=14, period3=28)\n",
      "\n",
      "    def execute(self):\n",
      "        if self.uo > 50 and self.uo[-1] < 50:\n",
      "            return 1\n",
      "        elif self.uo < 50 and self.uo[-1] > 50:\n",
      "            return -1\n",
      "        return 0\n",
      "```\n"
     ]
    },
    {
     "name": "stderr",
     "output_type": "stream",
     "text": [
      "ERROR [dspy.primitives.assertions] \u001b[2m2024-06-16T12:11:23.627923Z\u001b[0m [\u001b[31m\u001b[1merror    \u001b[0m] \u001b[1mSuggestionFailed: The code must not obtain the error 'Lines_LineSeries_LineSeriesStub' object has no attribute 'close'\u001b[0m [\u001b[0m\u001b[1m\u001b[34mdspy.primitives.assertions\u001b[0m]\u001b[0m \u001b[36mfilename\u001b[0m=\u001b[35massertions.py\u001b[0m \u001b[36mlineno\u001b[0m=\u001b[35m111\u001b[0m\n"
     ]
    },
    {
     "name": "stdout",
     "output_type": "stream",
     "text": [
      "Text ```python\n",
      "class BackTestStrategy(BaseStrategy):\n",
      "    def __init__(self, *args, **kwargs):\n",
      "        super().__init__(*args, **kwargs)\n",
      "        self.uo = bt.ind.UltimateOscillator(self.data.high, self.data.low, self.data.close)\n",
      "\n",
      "    def execute(self):\n",
      "        if self.uo > 50 and self.uo[-1] < 50:\n",
      "            return 1\n",
      "        elif self.uo < 50 and self.uo[-1] > 50:\n",
      "            return -1\n",
      "        return 0\n",
      "```[/INST]\n"
     ]
    },
    {
     "name": "stderr",
     "output_type": "stream",
     "text": [
      "ERROR [dspy.primitives.assertions] \u001b[2m2024-06-16T12:11:31.733639Z\u001b[0m [\u001b[31m\u001b[1merror    \u001b[0m] \u001b[1mSuggestionFailed: The code must not obtain the error UltimateOscillator.__init__() got an unexpected keyword argument 'period1'\u001b[0m [\u001b[0m\u001b[1m\u001b[34mdspy.primitives.assertions\u001b[0m]\u001b[0m \u001b[36mfilename\u001b[0m=\u001b[35massertions.py\u001b[0m \u001b[36mlineno\u001b[0m=\u001b[35m111\u001b[0m\n"
     ]
    },
    {
     "name": "stdout",
     "output_type": "stream",
     "text": [
      "Text ```python\n",
      "class BackTestStrategy(BaseStrategy):\n",
      "    def __init__(self, *args, **kwargs):\n",
      "        super().__init__(*args, **kwargs)\n",
      "        self.uo = bt.ind.UltimateOscillator(self.data.high, self.data.low, self.data.close, period1=7, period2=14, period3=28)\n",
      "\n",
      "    def execute(self):\n",
      "        if self.uo > 50 and self.uo[-1] < 50:\n",
      "            return 1\n",
      "        elif self.uo < 50 and self.uo[-1] > 50:\n",
      "            return -1\n",
      "        return 0\n",
      "```[/INST]\n"
     ]
    }
   ],
   "source": [
    "import functools\n",
    "\n",
    "\n",
    "teleprompter = BootstrapFewShotWithRandomSearch(metric = validate_answer, max_bootstrapped_demos=2, num_candidate_programs=6)\n",
    "\n",
    "generated_code_student_teacher = teleprompter.compile(\n",
    "                student=assert_transform_module(GenerateCodeWithAssert(list_ohcl_data=data).map_named_predictors(Retry), functools.partial(backtrack_handler, max_backtracks=10)), \n",
    "                teacher = assert_transform_module(GenerateCodeWithAssert(list_ohcl_data=data).map_named_predictors(Retry), functools.partial(backtrack_handler, max_backtracks=10)), \n",
    "                trainset=dataset.train[:10], \n",
    "                valset=dataset.dev[10:15]\n",
    "\n",
    ")\n"
   ]
  },
  {
   "cell_type": "code",
   "execution_count": 13,
   "metadata": {},
   "outputs": [
    {
     "name": "stderr",
     "output_type": "stream",
     "text": [
      "Average Metric: 1 / 1  (100.0):  20%|██        | 1/5 [00:05<00:20,  5.19s/it]"
     ]
    },
    {
     "name": "stdout",
     "output_type": "stream",
     "text": [
      "Text \n",
      "2023-08-21T00:05:00, SELL EXECUTED, Price: 175.07, Cost: -175.07, Comm 0.00\n",
      "2023-11-13T00:05:00, CLOSE SELL, Price: 185.82, Cost: -175.07, Comm 0.00f\n",
      "2023-11-14T00:05:00, BUY EXECUTED, Price: 187.70, Cost: 187.70, Comm 0.00f\n",
      "2024-01-11T00:05:00, CLOSE BUY, Price: 186.54, Cost: 187.70, Comm 0.00\n",
      "2024-01-12T00:05:00, SELL EXECUTED, Price: 186.06, Cost: -186.06, Comm 0.00\n",
      "2024-05-09T00:05:00, CLOSE SELL, Price: 182.56, Cost: -186.06, Comm 0.00f\n",
      "2024-05-10T00:05:00, BUY EXECUTED, Price: 184.90, Cost: 184.90, Comm 0.00f\n",
      "Example Prediction(\n",
      "    rationale='',\n",
      "    answer='',\n",
      "    num_retry=0\n",
      ")\n"
     ]
    },
    {
     "name": "stderr",
     "output_type": "stream",
     "text": [
      "Average Metric: 2 / 2  (100.0):  40%|████      | 2/5 [00:08<00:13,  4.34s/it]"
     ]
    },
    {
     "name": "stdout",
     "output_type": "stream",
     "text": [
      "Text \n",
      "2023-08-21T00:05:00, SELL EXECUTED, Price: 175.07, Cost: -175.07, Comm 0.00\n",
      "2023-11-13T00:05:00, CLOSE SELL, Price: 185.82, Cost: -175.07, Comm 0.00f\n",
      "2023-11-14T00:05:00, BUY EXECUTED, Price: 187.70, Cost: 187.70, Comm 0.00f\n",
      "2024-01-11T00:05:00, CLOSE BUY, Price: 186.54, Cost: 187.70, Comm 0.00\n",
      "2024-01-12T00:05:00, SELL EXECUTED, Price: 186.06, Cost: -186.06, Comm 0.00\n",
      "2024-05-09T00:05:00, CLOSE SELL, Price: 182.56, Cost: -186.06, Comm 0.00f\n",
      "2024-05-10T00:05:00, BUY EXECUTED, Price: 184.90, Cost: 184.90, Comm 0.00f\n",
      "Example Prediction(\n",
      "    rationale='',\n",
      "    answer='',\n",
      "    num_retry=0\n",
      ")\n"
     ]
    },
    {
     "name": "stderr",
     "output_type": "stream",
     "text": [
      "Average Metric: 3 / 3  (100.0):  60%|██████    | 3/5 [00:13<00:08,  4.26s/it]"
     ]
    },
    {
     "name": "stdout",
     "output_type": "stream",
     "text": [
      "Text \n",
      "2023-08-21T00:05:00, SELL EXECUTED, Price: 175.07, Cost: -175.07, Comm 0.00\n",
      "2023-11-13T00:05:00, CLOSE SELL, Price: 185.82, Cost: -175.07, Comm 0.00f\n",
      "2023-11-14T00:05:00, BUY EXECUTED, Price: 187.70, Cost: 187.70, Comm 0.00f\n",
      "2024-01-11T00:05:00, CLOSE BUY, Price: 186.54, Cost: 187.70, Comm 0.00\n",
      "2024-01-12T00:05:00, SELL EXECUTED, Price: 186.06, Cost: -186.06, Comm 0.00\n",
      "2024-05-09T00:05:00, CLOSE SELL, Price: 182.56, Cost: -186.06, Comm 0.00f\n",
      "2024-05-10T00:05:00, BUY EXECUTED, Price: 184.90, Cost: 184.90, Comm 0.00f\n",
      "Example Prediction(\n",
      "    rationale='',\n",
      "    answer='',\n",
      "    num_retry=0\n",
      ")\n"
     ]
    },
    {
     "name": "stderr",
     "output_type": "stream",
     "text": [
      "Average Metric: 4 / 4  (100.0):  80%|████████  | 4/5 [00:19<00:05,  5.20s/it]"
     ]
    },
    {
     "name": "stdout",
     "output_type": "stream",
     "text": [
      "Text \n",
      "2023-08-21T00:05:00, SELL EXECUTED, Price: 175.07, Cost: -175.07, Comm 0.00\n",
      "2023-11-13T00:05:00, CLOSE SELL, Price: 185.82, Cost: -175.07, Comm 0.00f\n",
      "2023-11-14T00:05:00, BUY EXECUTED, Price: 187.70, Cost: 187.70, Comm 0.00f\n",
      "2024-01-11T00:05:00, CLOSE BUY, Price: 186.54, Cost: 187.70, Comm 0.00\n",
      "2024-01-12T00:05:00, SELL EXECUTED, Price: 186.06, Cost: -186.06, Comm 0.00\n",
      "2024-05-09T00:05:00, CLOSE SELL, Price: 182.56, Cost: -186.06, Comm 0.00f\n",
      "2024-05-10T00:05:00, BUY EXECUTED, Price: 184.90, Cost: 184.90, Comm 0.00f\n",
      "Example Prediction(\n",
      "    rationale='',\n",
      "    answer='',\n",
      "    num_retry=0\n",
      ")\n"
     ]
    },
    {
     "name": "stderr",
     "output_type": "stream",
     "text": [
      "Average Metric: 5 / 5  (100.0): 100%|██████████| 5/5 [00:24<00:00,  4.90s/it]"
     ]
    },
    {
     "name": "stdout",
     "output_type": "stream",
     "text": [
      "Text \n",
      "2023-08-21T00:05:00, SELL EXECUTED, Price: 175.07, Cost: -175.07, Comm 0.00\n",
      "2023-11-13T00:05:00, CLOSE SELL, Price: 185.82, Cost: -175.07, Comm 0.00f\n",
      "2023-11-14T00:05:00, BUY EXECUTED, Price: 187.70, Cost: 187.70, Comm 0.00f\n",
      "2024-01-11T00:05:00, CLOSE BUY, Price: 186.54, Cost: 187.70, Comm 0.00\n",
      "2024-01-12T00:05:00, SELL EXECUTED, Price: 186.06, Cost: -186.06, Comm 0.00\n",
      "2024-05-09T00:05:00, CLOSE SELL, Price: 182.56, Cost: -186.06, Comm 0.00f\n",
      "2024-05-10T00:05:00, BUY EXECUTED, Price: 184.90, Cost: 184.90, Comm 0.00f\n",
      "Example Prediction(\n",
      "    rationale='',\n",
      "    answer='',\n",
      "    num_retry=0\n",
      ")\n"
     ]
    },
    {
     "name": "stderr",
     "output_type": "stream",
     "text": [
      "\n"
     ]
    },
    {
     "data": {
      "text/html": [
       "<style type=\"text/css\">\n",
       "#T_17ae1 th {\n",
       "  text-align: left;\n",
       "}\n",
       "#T_17ae1 td {\n",
       "  text-align: left;\n",
       "}\n",
       "#T_17ae1_row0_col0, #T_17ae1_row0_col1, #T_17ae1_row0_col2, #T_17ae1_row0_col3, #T_17ae1_row0_col4, #T_17ae1_row0_col5, #T_17ae1_row1_col0, #T_17ae1_row1_col1, #T_17ae1_row1_col2, #T_17ae1_row1_col3, #T_17ae1_row1_col4, #T_17ae1_row1_col5, #T_17ae1_row2_col0, #T_17ae1_row2_col1, #T_17ae1_row2_col2, #T_17ae1_row2_col3, #T_17ae1_row2_col4, #T_17ae1_row2_col5, #T_17ae1_row3_col0, #T_17ae1_row3_col1, #T_17ae1_row3_col2, #T_17ae1_row3_col3, #T_17ae1_row3_col4, #T_17ae1_row3_col5, #T_17ae1_row4_col0, #T_17ae1_row4_col1, #T_17ae1_row4_col2, #T_17ae1_row4_col3, #T_17ae1_row4_col4, #T_17ae1_row4_col5 {\n",
       "  text-align: left;\n",
       "  white-space: pre-wrap;\n",
       "  word-wrap: break-word;\n",
       "  max-width: 400px;\n",
       "}\n",
       "</style>\n",
       "<table id=\"T_17ae1\">\n",
       "  <thead>\n",
       "    <tr>\n",
       "      <th class=\"blank level0\" >&nbsp;</th>\n",
       "      <th id=\"T_17ae1_level0_col0\" class=\"col_heading level0 col0\" >context</th>\n",
       "      <th id=\"T_17ae1_level0_col1\" class=\"col_heading level0 col1\" >question</th>\n",
       "      <th id=\"T_17ae1_level0_col2\" class=\"col_heading level0 col2\" >rationale</th>\n",
       "      <th id=\"T_17ae1_level0_col3\" class=\"col_heading level0 col3\" >answer</th>\n",
       "      <th id=\"T_17ae1_level0_col4\" class=\"col_heading level0 col4\" >num_retry</th>\n",
       "      <th id=\"T_17ae1_level0_col5\" class=\"col_heading level0 col5\" >validate_answer</th>\n",
       "    </tr>\n",
       "  </thead>\n",
       "  <tbody>\n",
       "    <tr>\n",
       "      <th id=\"T_17ae1_level0_row0\" class=\"row_heading level0 row0\" >0</th>\n",
       "      <td id=\"T_17ae1_row0_col0\" class=\"data row0 col0\" >You are a python developer that intent to make a workable strategy from human requirement. Your task is to create a new BackTestStrategy that follow...</td>\n",
       "      <td id=\"T_17ae1_row0_col1\" class=\"data row0 col1\" >Create a strategy that buys when the Ultimate Oscillator crosses above 50 and sells when it crosses below 50.</td>\n",
       "      <td id=\"T_17ae1_row0_col2\" class=\"data row0 col2\" ></td>\n",
       "      <td id=\"T_17ae1_row0_col3\" class=\"data row0 col3\" ></td>\n",
       "      <td id=\"T_17ae1_row0_col4\" class=\"data row0 col4\" >0</td>\n",
       "      <td id=\"T_17ae1_row0_col5\" class=\"data row0 col5\" >✔️ [True]</td>\n",
       "    </tr>\n",
       "    <tr>\n",
       "      <th id=\"T_17ae1_level0_row1\" class=\"row_heading level0 row1\" >1</th>\n",
       "      <td id=\"T_17ae1_row1_col0\" class=\"data row1 col0\" >You are a python developer that intent to make a workable strategy from human requirement. Your task is to create a new BackTestStrategy that follow...</td>\n",
       "      <td id=\"T_17ae1_row1_col1\" class=\"data row1 col1\" >Create a strategy that buys when the Chaikin Money Flow (CMF) crosses above the zero line and sells when it crosses below the zero line.</td>\n",
       "      <td id=\"T_17ae1_row1_col2\" class=\"data row1 col2\" ></td>\n",
       "      <td id=\"T_17ae1_row1_col3\" class=\"data row1 col3\" ></td>\n",
       "      <td id=\"T_17ae1_row1_col4\" class=\"data row1 col4\" >0</td>\n",
       "      <td id=\"T_17ae1_row1_col5\" class=\"data row1 col5\" >✔️ [True]</td>\n",
       "    </tr>\n",
       "    <tr>\n",
       "      <th id=\"T_17ae1_level0_row2\" class=\"row_heading level0 row2\" >2</th>\n",
       "      <td id=\"T_17ae1_row2_col0\" class=\"data row2 col0\" >You are a python developer that intent to make a workable strategy from human requirement. Your task is to create a new BackTestStrategy that follow...</td>\n",
       "      <td id=\"T_17ae1_row2_col1\" class=\"data row2 col1\" >Create a strategy that buys when the Aroon Up crosses above the Aroon Down and sells when the Aroon Down crosses above the Aroon Up.</td>\n",
       "      <td id=\"T_17ae1_row2_col2\" class=\"data row2 col2\" ></td>\n",
       "      <td id=\"T_17ae1_row2_col3\" class=\"data row2 col3\" ></td>\n",
       "      <td id=\"T_17ae1_row2_col4\" class=\"data row2 col4\" >0</td>\n",
       "      <td id=\"T_17ae1_row2_col5\" class=\"data row2 col5\" >✔️ [True]</td>\n",
       "    </tr>\n",
       "    <tr>\n",
       "      <th id=\"T_17ae1_level0_row3\" class=\"row_heading level0 row3\" >3</th>\n",
       "      <td id=\"T_17ae1_row3_col0\" class=\"data row3 col0\" >You are a python developer that intent to make a workable strategy from human requirement. Your task is to create a new BackTestStrategy that follow...</td>\n",
       "      <td id=\"T_17ae1_row3_col1\" class=\"data row3 col1\" >Create a strategy that buys when the Moving Average Envelopes indicator's close crosses above its upper band and sells when it crosses below its lower...</td>\n",
       "      <td id=\"T_17ae1_row3_col2\" class=\"data row3 col2\" ></td>\n",
       "      <td id=\"T_17ae1_row3_col3\" class=\"data row3 col3\" ></td>\n",
       "      <td id=\"T_17ae1_row3_col4\" class=\"data row3 col4\" >0</td>\n",
       "      <td id=\"T_17ae1_row3_col5\" class=\"data row3 col5\" >✔️ [True]</td>\n",
       "    </tr>\n",
       "    <tr>\n",
       "      <th id=\"T_17ae1_level0_row4\" class=\"row_heading level0 row4\" >4</th>\n",
       "      <td id=\"T_17ae1_row4_col0\" class=\"data row4 col0\" >You are a python developer that intent to make a workable strategy from human requirement. Your task is to create a new BackTestStrategy that follow...</td>\n",
       "      <td id=\"T_17ae1_row4_col1\" class=\"data row4 col1\" >Create a strategy that buys when the Ultimate Oscillator crosses above 50 and sells when it crosses below 50.</td>\n",
       "      <td id=\"T_17ae1_row4_col2\" class=\"data row4 col2\" ></td>\n",
       "      <td id=\"T_17ae1_row4_col3\" class=\"data row4 col3\" ></td>\n",
       "      <td id=\"T_17ae1_row4_col4\" class=\"data row4 col4\" >0</td>\n",
       "      <td id=\"T_17ae1_row4_col5\" class=\"data row4 col5\" >✔️ [True]</td>\n",
       "    </tr>\n",
       "  </tbody>\n",
       "</table>\n"
      ],
      "text/plain": [
       "<pandas.io.formats.style.Styler at 0x7fe165c90550>"
      ]
     },
     "metadata": {},
     "output_type": "display_data"
    },
    {
     "data": {
      "text/plain": [
       "100.0"
      ]
     },
     "execution_count": 13,
     "metadata": {},
     "output_type": "execute_result"
    }
   ],
   "source": [
    "evaluate = Evaluate(\n",
    "    devset = dataset.dev[10:15],\n",
    "    metric = validate_answer,\n",
    "    num_threads=3,\n",
    "    display_progress=True,\n",
    "    display_table=10\n",
    ")\n",
    "\n",
    "evaluate(generated_code_student_teacher)"
   ]
  },
  {
   "cell_type": "code",
   "execution_count": null,
   "metadata": {},
   "outputs": [],
   "source": [
    "\n",
    "# Save the generated code module\n",
    "generated_code_student_teacher.save(\"generated_code.json\")"
   ]
  },
  {
   "cell_type": "code",
   "execution_count": 55,
   "metadata": {},
   "outputs": [
    {
     "ename": "TypeError",
     "evalue": "BaseModule.reset_copy() missing 1 required positional argument: 'self'",
     "output_type": "error",
     "traceback": [
      "\u001b[0;31m---------------------------------------------------------------------------\u001b[0m",
      "\u001b[0;31mTypeError\u001b[0m                                 Traceback (most recent call last)",
      "Cell \u001b[0;32mIn[55], line 6\u001b[0m\n\u001b[1;32m      4\u001b[0m config \u001b[38;5;241m=\u001b[39m \u001b[38;5;28mdict\u001b[39m(max_bootstrapped_demos\u001b[38;5;241m=\u001b[39m\u001b[38;5;241m2\u001b[39m, max_labeled_demos\u001b[38;5;241m=\u001b[39m\u001b[38;5;241m4\u001b[39m, num_candidate_programs\u001b[38;5;241m=\u001b[39m\u001b[38;5;241m2\u001b[39m, num_threads\u001b[38;5;241m=\u001b[39m\u001b[38;5;241m6\u001b[39m)\n\u001b[1;32m      5\u001b[0m teleprompter \u001b[38;5;241m=\u001b[39m BootstrapFewShotWithRandomSearch(metric\u001b[38;5;241m=\u001b[39mvalidate_answer, \u001b[38;5;241m*\u001b[39m\u001b[38;5;241m*\u001b[39mconfig)\n\u001b[0;32m----> 6\u001b[0m optimized_qa \u001b[38;5;241m=\u001b[39m \u001b[43mteleprompter\u001b[49m\u001b[38;5;241;43m.\u001b[39;49m\u001b[43mcompile\u001b[49m\u001b[43m(\u001b[49m\u001b[43mstudent\u001b[49m\u001b[38;5;241;43m=\u001b[39;49m\u001b[43mGenerateCodeWithAssert\u001b[49m\u001b[43m,\u001b[49m\u001b[43m \u001b[49m\u001b[43mtrainset\u001b[49m\u001b[38;5;241;43m=\u001b[39;49m\u001b[43mdataset\u001b[49m\u001b[38;5;241;43m.\u001b[39;49m\u001b[43mtrain\u001b[49m\u001b[43m[\u001b[49m\u001b[43m:\u001b[49m\u001b[38;5;241;43m10\u001b[39;49m\u001b[43m]\u001b[49m\u001b[43m,\u001b[49m\u001b[43m \u001b[49m\u001b[43mvalset\u001b[49m\u001b[38;5;241;43m=\u001b[39;49m\u001b[43mdataset\u001b[49m\u001b[38;5;241;43m.\u001b[39;49m\u001b[43mdev\u001b[49m\u001b[43m[\u001b[49m\u001b[38;5;241;43m10\u001b[39;49m\u001b[43m:\u001b[49m\u001b[38;5;241;43m15\u001b[39;49m\u001b[43m]\u001b[49m\u001b[43m)\u001b[49m\n",
      "File \u001b[0;32m/home/zeus/miniconda3/envs/cloudspace/lib/python3.10/site-packages/dspy/teleprompt/random_search.py:79\u001b[0m, in \u001b[0;36mBootstrapFewShotWithRandomSearch.compile\u001b[0;34m(self, student, teacher, trainset, valset, restrict, labeled_sample)\u001b[0m\n\u001b[1;32m     75\u001b[0m trainset2 \u001b[38;5;241m=\u001b[39m \u001b[38;5;28mlist\u001b[39m(\u001b[38;5;28mself\u001b[39m\u001b[38;5;241m.\u001b[39mtrainset)\n\u001b[1;32m     77\u001b[0m \u001b[38;5;28;01mif\u001b[39;00m seed \u001b[38;5;241m==\u001b[39m \u001b[38;5;241m-\u001b[39m\u001b[38;5;241m3\u001b[39m:\n\u001b[1;32m     78\u001b[0m     \u001b[38;5;66;03m# zero-shot\u001b[39;00m\n\u001b[0;32m---> 79\u001b[0m     program2 \u001b[38;5;241m=\u001b[39m \u001b[43mstudent\u001b[49m\u001b[38;5;241;43m.\u001b[39;49m\u001b[43mreset_copy\u001b[49m\u001b[43m(\u001b[49m\u001b[43m)\u001b[49m\n\u001b[1;32m     81\u001b[0m \u001b[38;5;28;01melif\u001b[39;00m seed \u001b[38;5;241m==\u001b[39m \u001b[38;5;241m-\u001b[39m\u001b[38;5;241m2\u001b[39m:\n\u001b[1;32m     82\u001b[0m     \u001b[38;5;66;03m# labels only\u001b[39;00m\n\u001b[1;32m     83\u001b[0m     teleprompter \u001b[38;5;241m=\u001b[39m LabeledFewShot(k\u001b[38;5;241m=\u001b[39m\u001b[38;5;28mself\u001b[39m\u001b[38;5;241m.\u001b[39mmax_labeled_demos)\n",
      "\u001b[0;31mTypeError\u001b[0m: BaseModule.reset_copy() missing 1 required positional argument: 'self'"
     ]
    }
   ],
   "source": [
    "from dspy.teleprompt import BootstrapFewShotWithRandomSearch\n",
    "# @error_tracking_decorator\n",
    "\n",
    "config = dict(max_bootstrapped_demos=2, max_labeled_demos=4, num_candidate_programs=2, num_threads=6)\n",
    "teleprompter = BootstrapFewShotWithRandomSearch(metric=validate_answer, **config)\n",
    "optimized_qa = teleprompter.compile(student=GenerateCodeWithAssert, trainset=dataset.train[:10], valset=dataset.dev[10:15])"
   ]
  }
 ],
 "metadata": {
  "kernelspec": {
   "display_name": "Python 3",
   "language": "python",
   "name": "python3"
  },
  "language_info": {
   "codemirror_mode": {
    "name": "ipython",
    "version": 3
   },
   "file_extension": ".py",
   "mimetype": "text/x-python",
   "name": "python",
   "nbconvert_exporter": "python",
   "pygments_lexer": "ipython3",
   "version": "3.10.14"
  }
 },
 "nbformat": 4,
 "nbformat_minor": 2
}
