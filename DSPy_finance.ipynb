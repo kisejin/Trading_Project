{
 "cells": [
  {
   "cell_type": "code",
   "execution_count": null,
   "metadata": {},
   "outputs": [],
   "source": [
    "!pip install arize-phoenix openinference-instrumentation-dspy opentelemetry-exporter-otlp"
   ]
  },
  {
   "cell_type": "code",
   "execution_count": null,
   "metadata": {},
   "outputs": [],
   "source": [
    "!pip install \"dspy-ai[mongodb]\" cohere"
   ]
  },
  {
   "cell_type": "code",
   "execution_count": 1,
   "metadata": {},
   "outputs": [],
   "source": [
    "%load_ext autoreload\n",
    "%autoreload 2"
   ]
  },
  {
   "cell_type": "code",
   "execution_count": 2,
   "metadata": {},
   "outputs": [
    {
     "name": "stdout",
     "output_type": "stream",
     "text": [
      "🌍 To view the Phoenix app in your browser, visit http://localhost:6006/\n",
      "📖 For more information on how to use Phoenix, check out https://docs.arize.com/phoenix\n"
     ]
    },
    {
     "data": {
      "text/plain": [
       "<phoenix.session.session.ThreadSession at 0x7f1e5fc86f20>"
      ]
     },
     "execution_count": 2,
     "metadata": {},
     "output_type": "execute_result"
    }
   ],
   "source": [
    "import phoenix as px\n",
    "\n",
    "px.launch_app()"
   ]
  },
  {
   "cell_type": "code",
   "execution_count": 3,
   "metadata": {},
   "outputs": [],
   "source": [
    "from openinference.instrumentation.dspy import DSPyInstrumentor\n",
    "from opentelemetry import trace as trace_api\n",
    "from opentelemetry.exporter.otlp.proto.http.trace_exporter import OTLPSpanExporter\n",
    "from opentelemetry.sdk import trace as trace_sdk\n",
    "from opentelemetry.sdk.resources import Resource\n",
    "from opentelemetry.sdk.trace.export import SimpleSpanProcessor\n",
    "import dspy\n",
    "import dsp\n",
    "import cohere\n",
    "import json\n",
    "from dotenv import load_dotenv\n",
    "import os\n",
    "import requests\n",
    "from datetime import datetime\n",
    "import backtrader as bt\n",
    "load_dotenv('/teamspace/studios/this_studio/sentiment_analysis/.env')\n",
    "\n",
    "endpoint = \"http://127.0.0.1:6006/v1/traces\"\n",
    "resource = Resource(attributes={})\n",
    "tracer_provider = trace_sdk.TracerProvider(resource=resource)\n",
    "span_otlp_exporter = OTLPSpanExporter(endpoint=endpoint)\n",
    "tracer_provider.add_span_processor(SimpleSpanProcessor(span_exporter=span_otlp_exporter))\n",
    "trace_api.set_tracer_provider(tracer_provider=tracer_provider)\n",
    "DSPyInstrumentor().instrument()"
   ]
  },
  {
   "cell_type": "code",
   "execution_count": 4,
   "metadata": {},
   "outputs": [],
   "source": [
    "def init_cerebro_object(strategy, list_of_data, stake = 100, cash=20000):\n",
    "    cerebro = bt.Cerebro()\n",
    "    cerebro.addstrategy(strategy)\n",
    "    for data in list_of_data:\n",
    "        cerebro.adddata(data)\n",
    "    cerebro.broker.set_cash(cash)\n",
    "    return cerebro\n",
    "\n",
    "def run_cerebro(strategy, list_data, stake=100, cash=20000):\n",
    "    cerebro = init_cerebro_object(strategy, list_data, stake, cash)\n",
    "    thestrats = cerebro.run()\n",
    "    return cerebro, thestrats\n",
    "\n",
    "\n",
    "def get_code_from_text(text):\n",
    "    \"\"\"Extracts the Python code segment from the provided text.\"\"\"\n",
    "    print(\"Text\",text)\n",
    "    code_segment = text.split(\"```\")[1]\n",
    "    if \"```python\" in text:\n",
    "        code_segment = code_segment[6:]\n",
    "    return code_segment.strip()\n",
    "\n",
    "def load_base_strategy():\n",
    "    \"\"\"Loads the base strategy code from the base_strategy.py file.\"\"\"\n",
    "    with open(\"base_strategy.py\", \"r\") as f:\n",
    "        base_strats = \"\\n\".join(f.readlines())\n",
    "    return base_strats\n",
    "\n",
    "def extract_error_message(error):\n",
    "    error_lines = str(error).split('\\n')\n",
    "    for line in error_lines:\n",
    "        if 'Error' in line or 'Exception' in line:\n",
    "            return line.strip()\n",
    "    return error_lines[-1].strip()"
   ]
  },
  {
   "cell_type": "code",
   "execution_count": 5,
   "metadata": {},
   "outputs": [],
   "source": [
    "base_strats = load_base_strategy()\n",
    "\n",
    "prompt = \"Please create a strategy that buys when the price moves a certain percentage above the ATR value and sells when the price moves the same percentage below the ATR value\"\n",
    "\n",
    "instruction = f\"\"\"\n",
    "    You are a python developer that intent to make a workable strategy from human requirement.\n",
    "    Your task is to create a new BackTestStrategy that follow below msg\n",
    "    Note: Only return class strategy and change `execute` function only, nothing else.\n",
    "       \n",
    "    And below is the structure of the codebase, you can read the MovingAverageStrategy as an example to make your strategy but only change the `execute` function.\n",
    "    Please name your class strategy as BackTestStrategy\n",
    "    ----------------------------\n",
    "    \"{base_strats}\"\n",
    "    \"\"\""
   ]
  },
  {
   "cell_type": "code",
   "execution_count": 6,
   "metadata": {},
   "outputs": [],
   "source": [
    "# Get example\n",
    "import pandas as pd\n",
    "from dspy.datasets.dataset import Dataset\n",
    "\n",
    "# Define a simple signature for basic question answering\n",
    "# Define a signature for generating a specific finance strategy from Python code\n",
    "class FinanceStrategyGenerator(dspy.Signature):\n",
    "    \"\"\"Generate Python code for a specified finance strategy. \"\"\"\n",
    "    instruction = dspy.InputField(desc=\"Code structure and instruction for the finance strategy.\")\n",
    "    query = dspy.InputField(desc=\"Query of the finance strategy.\")\n",
    "    # generated_code = dspy.OutputField(desc=\"Generated Python code format for the strategy inside ```python``` block.\")\n",
    "    generated_code = dspy.OutputField(desc=\"Generated Python code for the strategy, formatted inside ```python``` block. If Backtrader is indicated, the code will inherit from Backtrader's Indicator class; otherwise, it will generate an LLM's knowledge indicator.\")\n",
    "\n",
    "    \n",
    "class CSVDataset:\n",
    "    def __init__(self, file_path, instruction=None) -> None:\n",
    "        \n",
    "        # Load the CSV file\n",
    "        df = pd.read_csv(file_path)\n",
    "        \n",
    "        # Change name of the columns\n",
    "        df.columns = ['query', 'generated_code']\n",
    "        \n",
    "        instruction = instruction if instruction else \"You are a data scientist that intent to make a workable strategy from human requirement\"\n",
    "        \n",
    "        df['instruction'] = [instruction] * len(df)\n",
    "        df = df.sample(frac=1).reset_index(drop=True)\n",
    "        \n",
    "        \n",
    "        self.train = self._change_input(df.iloc[:70].to_dict(orient='records'))\n",
    "        self.dev = self._change_input(df.iloc[70:].to_dict(orient='records'))\n",
    "        \n",
    "    \n",
    "    def _change_input(self, input_data):\n",
    "        \n",
    "        ds = []\n",
    "        for d in input_data:\n",
    "            ds.append(\n",
    "                dspy.Example(\n",
    "                    instruction=d['instruction'],\n",
    "                    query=d['query'],\n",
    "                    generated_code=d['generated_code']\n",
    "                ).with_inputs(\"instruction\", \"query\")\n",
    "            )\n",
    "        \n",
    "        return ds\n",
    "    \n",
    "\n",
    "file_path = \"/teamspace/studios/this_studio/Data/complex_trading_strategies.csv\"\n",
    "dataset = CSVDataset(file_path=file_path, instruction=instruction)"
   ]
  },
  {
   "cell_type": "code",
   "execution_count": 7,
   "metadata": {},
   "outputs": [],
   "source": [
    "def check_valid_code(strategy, list_data):\n",
    "    try:\n",
    "        cerebro, thestrats = run_cerebro(strategy, list_data)\n",
    "        return True, \"\"\n",
    "    except Exception as e:\n",
    "        error_message = extract_error_message(e)\n",
    "        return False, error_message\n",
    "\n",
    "\n",
    "class GenerateCodeWithAssert(dspy.Module):\n",
    "  def __init__(self, list_ohcl_data):\n",
    "    super().__init__()\n",
    "    self.generate_result = dspy.ChainOfThought(FinanceStrategyGenerator)\n",
    "    self.ohcl_data = list_ohcl_data\n",
    "  \n",
    "  def forward(self, input: dspy.Example):\n",
    "    ex = self.generate_result(instruction=input.instruction, query=input.query)\n",
    "    exec(get_code_from_text(ex.generated_code), globals())\n",
    "    check, error = check_valid_code(BackTestStrategy, self.ohcl_data)\n",
    "    # dspy.Assert(check, f\"Fix error {error}\")\n",
    "\n",
    "    dspy.Suggest(check, f\"The code must not obtain the error {error}\")\n",
    "\n",
    "    return ex"
   ]
  },
  {
   "cell_type": "code",
   "execution_count": 12,
   "metadata": {},
   "outputs": [
    {
     "name": "stderr",
     "output_type": "stream",
     "text": [
      "[*********************100%%**********************]  1 of 1 completed"
     ]
    },
    {
     "name": "stderr",
     "output_type": "stream",
     "text": [
      "\n",
      "ERROR [dspy.primitives.assertions] \u001b[2m2024-06-16T01:35:41.418970Z\u001b[0m [\u001b[31m\u001b[1merror    \u001b[0m] \u001b[1mSuggestionFailed: The code must not obtain the error UltimateOscillator.__init__() got an unexpected keyword argument 'period1'\u001b[0m [\u001b[0m\u001b[1m\u001b[34mdspy.primitives.assertions\u001b[0m]\u001b[0m \u001b[36mfilename\u001b[0m=\u001b[35massertions.py\u001b[0m \u001b[36mlineno\u001b[0m=\u001b[35m111\u001b[0m\n"
     ]
    },
    {
     "name": "stdout",
     "output_type": "stream",
     "text": [
      "Text ```python\n",
      "class BackTestStrategy(BaseStrategy):\n",
      "    def __init__(self, *args, **kwargs):\n",
      "        super().__init__(*args, **kwargs)\n",
      "        self.uo = bt.ind.UltimateOscillator(self.data.close, period1=7, period2=14, period3=28)\n",
      "\n",
      "    def execute(self):\n",
      "        if self.uo > 50 and self.uo[-1] <= 50:\n",
      "            return 1\n",
      "        elif self.uo < 50 and self.uo[-1] >= 50:\n",
      "            return -1\n",
      "        else:\n",
      "            return 0\n",
      "```\n"
     ]
    },
    {
     "name": "stderr",
     "output_type": "stream",
     "text": [
      "ERROR [dspy.primitives.assertions] \u001b[2m2024-06-16T01:35:46.099443Z\u001b[0m [\u001b[31m\u001b[1merror    \u001b[0m] \u001b[1mSuggestionFailed: The code must not obtain the error UltimateOscillator.__init__() got an unexpected keyword argument 'period1'\u001b[0m [\u001b[0m\u001b[1m\u001b[34mdspy.primitives.assertions\u001b[0m]\u001b[0m \u001b[36mfilename\u001b[0m=\u001b[35massertions.py\u001b[0m \u001b[36mlineno\u001b[0m=\u001b[35m111\u001b[0m\n"
     ]
    },
    {
     "name": "stdout",
     "output_type": "stream",
     "text": [
      "Text ```python\n",
      "class BackTestStrategy(BaseStrategy):\n",
      "    def __init__(self, *args, **kwargs):\n",
      "        super().__init__(*args, **kwargs)\n",
      "        self.uo = bt.ind.UltimateOscillator(self.data, period1=7, period2=14, period3=28)\n",
      "    def execute(self):\n",
      "        if self.uo > 50 and self.uo[-1] <= 50:\n",
      "            return 1\n",
      "        elif self.uo < 50 and self.uo[-1] >= 50:\n",
      "            return -1\n",
      "        else:\n",
      "            return 0\n",
      "```\n"
     ]
    },
    {
     "name": "stderr",
     "output_type": "stream",
     "text": [
      "ERROR [dspy.primitives.assertions] \u001b[2m2024-06-16T01:35:52.007924Z\u001b[0m [\u001b[31m\u001b[1merror    \u001b[0m] \u001b[1mSuggestionFailed: The code must not obtain the error UltimateOscillator.__init__() got an unexpected keyword argument 'period1'\u001b[0m [\u001b[0m\u001b[1m\u001b[34mdspy.primitives.assertions\u001b[0m]\u001b[0m \u001b[36mfilename\u001b[0m=\u001b[35massertions.py\u001b[0m \u001b[36mlineno\u001b[0m=\u001b[35m108\u001b[0m\n"
     ]
    },
    {
     "name": "stdout",
     "output_type": "stream",
     "text": [
      "Text ```python\n",
      "class BackTestStrategy(BaseStrategy):\n",
      "    def __init__(self, *args, **kwargs):\n",
      "        super().__init__(*args, **kwargs)\n",
      "        self.uo = bt.ind.UltimateOscillator(self.data, period1=7, period2=14, period3=28)\n",
      "    def execute(self):\n",
      "        if self.uo[0] > 50 and self.uo[-1] <= 50:\n",
      "            return 1\n",
      "        elif self.uo[0] < 50 and self.uo[-1] >= 50:\n",
      "            return -1\n",
      "        else:\n",
      "            return 0\n",
      "```\n",
      "Question: Please create a strategy that buys when the price moves a certain percentage above the ATR value and sells when the price moves the same percentage below the ATR value\n",
      "Final Predicted Answer (after CoT process): ```python\n",
      "class BackTestStrategy(BaseStrategy):\n",
      "    def __init__(self, *args, **kwargs):\n",
      "        super().__init__(*args, **kwargs)\n",
      "        self.uo = bt.ind.UltimateOscillator(self.data, period1=7, period2=14, period3=28)\n",
      "    def execute(self):\n",
      "        if self.uo[0] > 50 and self.uo[-1] <= 50:\n",
      "            return 1\n",
      "        elif self.uo[0] < 50 and self.uo[-1] >= 50:\n",
      "            return -1\n",
      "        else:\n",
      "            return 0\n",
      "```\n"
     ]
    }
   ],
   "source": [
    "from dspy.primitives.assertions import assert_transform_module, backtrack_handler\n",
    "from ver_3.data_loader import load_stock_data\n",
    "from ver_3.base_strategy import BaseStrategy\n",
    "from dspy.predict import Retry\n",
    "\n",
    "\n",
    "lm = dspy.Anyscale(\n",
    "    model=\"meta-llama/Meta-Llama-3-70B-Instruct\",\n",
    "    max_tokens=512, \n",
    "    use_chat_api=True\n",
    ")\n",
    "\n",
    "dspy.settings.configure(lm=lm, trace=[])\n",
    "\n",
    "data = [bt.feeds.PandasData(\n",
    "                dataname=load_stock_data(ticker='AAPL', period=\"1y\"), datetime=\"Date\", \n",
    "                timeframe=bt.TimeFrame.Minutes)]\n",
    "\n",
    "generate_with_assert = assert_transform_module(GenerateCodeWithAssert(list_ohcl_data=data).map_named_predictors(Retry), backtrack_handler)\n",
    "\n",
    "example = generate_with_assert(dataset.train[30])\n",
    "\n",
    "print(f\"Question: {prompt}\")\n",
    "print(f\"Final Predicted Answer (after CoT process): {example.generated_code}\")"
   ]
  },
  {
   "cell_type": "code",
   "execution_count": 10,
   "metadata": {},
   "outputs": [
    {
     "name": "stdout",
     "output_type": "stream",
     "text": [
      "\n",
      "\n",
      "\n",
      "Generate Python code for a specified finance strategy.\n",
      "\n",
      "---\n",
      "\n",
      "Follow the following format.\n",
      "\n",
      "Instruction: Code structure and instruction for the finance strategy.\n",
      "\n",
      "Query: Query of the finance strategy.\n",
      "\n",
      "Reasoning: Let's think step by step in order to ${produce the generated_code}. We ...\n",
      "\n",
      "Generated Code: Generated Python code for the strategy, formatted inside ```python``` block. If Backtrader is indicated, the code will inherit from Backtrader's Indicator class; otherwise, it will generate an LLM's knowledge indicator.\n",
      "\n",
      "---\n",
      "\n",
      "Instruction: You are a python developer that intent to make a workable strategy from human requirement. Your task is to create a new BackTestStrategy that follow below msg Note: Only return class strategy and change `execute` function only, nothing else. And below is the structure of the codebase, you can read the MovingAverageStrategy as an example to make your strategy but only change the `execute` function. Please name your class strategy as BackTestStrategy ---------------------------- \"import backtrader as bt class BaseStrategy(bt.Strategy): def __init__(self, debug=True): \"\"\" final signal: 1 -> long, 0 -> neutral ->, -1 sell \"\"\" # To keep track of pending orders and buy price/commission self.countBuy = 0 self.countSell = 0 self.final_signal = None self.debug = debug def log(self, txt, dt=None): \"\"\"Logging function fot this strategy\"\"\" if self.debug: dt_day = self.datas[0].datetime.date(0) dt_value = dt or self.datas[0].datetime.time(0) print(\"%sT%s, %s\" % (dt_day, dt_value.isoformat(), txt)) else: pass def notify_order(self, order): if order.status in [order.Submitted, order.Accepted]: # Buy/Sell order submitted/accepted to/by broker - Nothing to do return if order.status in [order.Completed]: if order.isbuy(): if self.countSell > 0: info_trade = \"CLOSE SELL\" self.countSell -= 1 else: info_trade = \"BUY EXECUTED\" self.countBuy += 1 self.log( f\"{info_trade}, Price: %.2f, Cost: %.2f, Comm %.2ff\" % ( order.executed.price, order.executed.value, order.executed.comm ) ) else: if self.countBuy > 0: info_trade = \"CLOSE BUY\" self.countBuy -= 1 else: info_trade = \"SELL EXECUTED\" self.countSell += 1 self.log( f\"{info_trade}, Price: %.2f, Cost: %.2f, Comm %.2f\" % ( order.executed.price, order.executed.value, order.executed.comm ) ) self.bar_executed = len(self) elif order.status in [order.Canceled, order.Margin, order.Rejected]: self.log(\"Order Canceled/Margin/Rejected\") # Write down: no pending order self.order = None def execute(self) -> int: \"\"\" Return final signal: 1 -> long, 0 -> neutral ->, -1 sell None if execute do not have any signal yet. \"\"\" raise NotImplementedError def next(self): cur_time = self.data.datetime.time(0) # if cur_time.hour < 10 or cur_time.hour >= 15: # # Only trade after 9am # return # if cur_time.hour == 12: # # Sleep time # return # if cur_time.hour == 14 and cur_time.minute >= 25: # # Close end of the day # if self.position: # self.order = self.close() # return self.final_signal = self.execute() if self.final_signal is None: return if self.final_signal > 0: if self.position: if self.countSell: self.order = self.close() else: self.order = self.buy() elif self.final_signal < 0: if self.position: if self.countBuy: self.order = self.close() else: self.order = self.sell() class MovingAverageStrategy(BaseStrategy): def __init__(self, *args, **kwargs): super().__init__(*args, **kwargs) self.sma = bt.ind.SMA(self.data.close, period=15) def execute(self): if self.sma > self.data.close: return 1 elif self.sma < self.data.close: return -1 class RSI(BaseStrategy): def __init__(self, *args, **kwargs): super().__init__(*args, **kwargs) self.rsi = bt.ind.RSI(self.data.close, period=14) self.upperband = 70 self.lowerband = 30 def execute(self): if self.rsi > self.upperband: return 1 elif self.rsi < self.lowerband: return -1\"\n",
      "\n",
      "Query: Create a strategy that buys when the Ultimate Oscillator crosses above 50 and sells when it crosses below 50.\n",
      "\n",
      "Reasoning: Let's think step by step in order to\u001b[32mproduce the generated_code. We need to create a new strategy class that inherits from the BaseStrategy class. This strategy will use the Ultimate Oscillator indicator to generate buy and sell signals. The Ultimate Oscillator indicator will be calculated using the bt.ind.UltimateOscillator class from Backtrader. We will then override the execute method to return 1 when the Ultimate Oscillator crosses above 50 and -1 when it crosses below 50.\n",
      "\n",
      "Generated Code:\n",
      "```python\n",
      "class BackTestStrategy(BaseStrategy):\n",
      "    def __init__(self, *args, **kwargs):\n",
      "        super().__init__(*args, **kwargs)\n",
      "        self.uo = bt.ind.UltimateOscillator(self.data.close, period1=7, period2=14, period3=28)\n",
      "\n",
      "    def execute(self):\n",
      "        if self.uo > 50 and self.uo[-1] <= 50:\n",
      "            return 1\n",
      "        elif self.uo < 50 and self.uo[-1] >= 50:\n",
      "            return -1\n",
      "        else:\n",
      "            return 0\n",
      "```\u001b[0m\n",
      "\n",
      "\n",
      "\n",
      "\n",
      "\n",
      "Generate Python code for a specified finance strategy.\n",
      "\n",
      "---\n",
      "\n",
      "Follow the following format.\n",
      "\n",
      "Instruction: Code structure and instruction for the finance strategy.\n",
      "\n",
      "Query: Query of the finance strategy.\n",
      "\n",
      "Past Generated Code: past output with errors\n",
      "\n",
      "Instructions: Some instructions you must satisfy\n",
      "\n",
      "Generated Code: Generated Python code for the strategy, formatted inside ```python``` block. If Backtrader is indicated, the code will inherit from Backtrader's Indicator class; otherwise, it will generate an LLM's knowledge indicator.\n",
      "\n",
      "---\n",
      "\n",
      "Instruction: You are a python developer that intent to make a workable strategy from human requirement. Your task is to create a new BackTestStrategy that follow below msg Note: Only return class strategy and change `execute` function only, nothing else. And below is the structure of the codebase, you can read the MovingAverageStrategy as an example to make your strategy but only change the `execute` function. Please name your class strategy as BackTestStrategy ---------------------------- \"import backtrader as bt class BaseStrategy(bt.Strategy): def __init__(self, debug=True): \"\"\" final signal: 1 -> long, 0 -> neutral ->, -1 sell \"\"\" # To keep track of pending orders and buy price/commission self.countBuy = 0 self.countSell = 0 self.final_signal = None self.debug = debug def log(self, txt, dt=None): \"\"\"Logging function fot this strategy\"\"\" if self.debug: dt_day = self.datas[0].datetime.date(0) dt_value = dt or self.datas[0].datetime.time(0) print(\"%sT%s, %s\" % (dt_day, dt_value.isoformat(), txt)) else: pass def notify_order(self, order): if order.status in [order.Submitted, order.Accepted]: # Buy/Sell order submitted/accepted to/by broker - Nothing to do return if order.status in [order.Completed]: if order.isbuy(): if self.countSell > 0: info_trade = \"CLOSE SELL\" self.countSell -= 1 else: info_trade = \"BUY EXECUTED\" self.countBuy += 1 self.log( f\"{info_trade}, Price: %.2f, Cost: %.2f, Comm %.2ff\" % ( order.executed.price, order.executed.value, order.executed.comm ) ) else: if self.countBuy > 0: info_trade = \"CLOSE BUY\" self.countBuy -= 1 else: info_trade = \"SELL EXECUTED\" self.countSell += 1 self.log( f\"{info_trade}, Price: %.2f, Cost: %.2f, Comm %.2f\" % ( order.executed.price, order.executed.value, order.executed.comm ) ) self.bar_executed = len(self) elif order.status in [order.Canceled, order.Margin, order.Rejected]: self.log(\"Order Canceled/Margin/Rejected\") # Write down: no pending order self.order = None def execute(self) -> int: \"\"\" Return final signal: 1 -> long, 0 -> neutral ->, -1 sell None if execute do not have any signal yet. \"\"\" raise NotImplementedError def next(self): cur_time = self.data.datetime.time(0) # if cur_time.hour < 10 or cur_time.hour >= 15: # # Only trade after 9am # return # if cur_time.hour == 12: # # Sleep time # return # if cur_time.hour == 14 and cur_time.minute >= 25: # # Close end of the day # if self.position: # self.order = self.close() # return self.final_signal = self.execute() if self.final_signal is None: return if self.final_signal > 0: if self.position: if self.countSell: self.order = self.close() else: self.order = self.buy() elif self.final_signal < 0: if self.position: if self.countBuy: self.order = self.close() else: self.order = self.sell() class MovingAverageStrategy(BaseStrategy): def __init__(self, *args, **kwargs): super().__init__(*args, **kwargs) self.sma = bt.ind.SMA(self.data.close, period=15) def execute(self): if self.sma > self.data.close: return 1 elif self.sma < self.data.close: return -1 class RSI(BaseStrategy): def __init__(self, *args, **kwargs): super().__init__(*args, **kwargs) self.rsi = bt.ind.RSI(self.data.close, period=14) self.upperband = 70 self.lowerband = 30 def execute(self): if self.rsi > self.upperband: return 1 elif self.rsi < self.lowerband: return -1\"\n",
      "\n",
      "Query: Create a strategy that buys when the Ultimate Oscillator crosses above 50 and sells when it crosses below 50.\n",
      "\n",
      "Past Generated Code: ```python class BackTestStrategy(BaseStrategy): def __init__(self, *args, **kwargs): super().__init__(*args, **kwargs) self.uo = bt.ind.UltimateOscillator(self.data.close, period1=7, period2=14, period3=28) def execute(self): if self.uo > 50 and self.uo[-1] <= 50: return 1 elif self.uo < 50 and self.uo[-1] >= 50: return -1 else: return 0 ```\n",
      "\n",
      "Instructions: The code must not obtain the error UltimateOscillator.__init__() got an unexpected keyword argument 'period1'\n",
      "\n",
      "Generated Code:\u001b[32m```python\n",
      "class BackTestStrategy(BaseStrategy):\n",
      "    def __init__(self, *args, **kwargs):\n",
      "        super().__init__(*args, **kwargs)\n",
      "        self.uo = bt.ind.UltimateOscillator(self.data, period1=7, period2=14, period3=28)\n",
      "    def execute(self):\n",
      "        if self.uo > 50 and self.uo[-1] <= 50:\n",
      "            return 1\n",
      "        elif self.uo < 50 and self.uo[-1] >= 50:\n",
      "            return -1\n",
      "        else:\n",
      "            return 0\n",
      "```\u001b[0m\n",
      "\n",
      "\n",
      "\n",
      "\n",
      "\n",
      "Generate Python code for a specified finance strategy.\n",
      "\n",
      "---\n",
      "\n",
      "Follow the following format.\n",
      "\n",
      "Instruction: Code structure and instruction for the finance strategy.\n",
      "\n",
      "Query: Query of the finance strategy.\n",
      "\n",
      "Past Generated Code: past output with errors\n",
      "\n",
      "Instructions: Some instructions you must satisfy\n",
      "\n",
      "Generated Code: Generated Python code for the strategy, formatted inside ```python``` block. If Backtrader is indicated, the code will inherit from Backtrader's Indicator class; otherwise, it will generate an LLM's knowledge indicator.\n",
      "\n",
      "---\n",
      "\n",
      "Instruction: You are a python developer that intent to make a workable strategy from human requirement. Your task is to create a new BackTestStrategy that follow below msg Note: Only return class strategy and change `execute` function only, nothing else. And below is the structure of the codebase, you can read the MovingAverageStrategy as an example to make your strategy but only change the `execute` function. Please name your class strategy as BackTestStrategy ---------------------------- \"import backtrader as bt class BaseStrategy(bt.Strategy): def __init__(self, debug=True): \"\"\" final signal: 1 -> long, 0 -> neutral ->, -1 sell \"\"\" # To keep track of pending orders and buy price/commission self.countBuy = 0 self.countSell = 0 self.final_signal = None self.debug = debug def log(self, txt, dt=None): \"\"\"Logging function fot this strategy\"\"\" if self.debug: dt_day = self.datas[0].datetime.date(0) dt_value = dt or self.datas[0].datetime.time(0) print(\"%sT%s, %s\" % (dt_day, dt_value.isoformat(), txt)) else: pass def notify_order(self, order): if order.status in [order.Submitted, order.Accepted]: # Buy/Sell order submitted/accepted to/by broker - Nothing to do return if order.status in [order.Completed]: if order.isbuy(): if self.countSell > 0: info_trade = \"CLOSE SELL\" self.countSell -= 1 else: info_trade = \"BUY EXECUTED\" self.countBuy += 1 self.log( f\"{info_trade}, Price: %.2f, Cost: %.2f, Comm %.2ff\" % ( order.executed.price, order.executed.value, order.executed.comm ) ) else: if self.countBuy > 0: info_trade = \"CLOSE BUY\" self.countBuy -= 1 else: info_trade = \"SELL EXECUTED\" self.countSell += 1 self.log( f\"{info_trade}, Price: %.2f, Cost: %.2f, Comm %.2f\" % ( order.executed.price, order.executed.value, order.executed.comm ) ) self.bar_executed = len(self) elif order.status in [order.Canceled, order.Margin, order.Rejected]: self.log(\"Order Canceled/Margin/Rejected\") # Write down: no pending order self.order = None def execute(self) -> int: \"\"\" Return final signal: 1 -> long, 0 -> neutral ->, -1 sell None if execute do not have any signal yet. \"\"\" raise NotImplementedError def next(self): cur_time = self.data.datetime.time(0) # if cur_time.hour < 10 or cur_time.hour >= 15: # # Only trade after 9am # return # if cur_time.hour == 12: # # Sleep time # return # if cur_time.hour == 14 and cur_time.minute >= 25: # # Close end of the day # if self.position: # self.order = self.close() # return self.final_signal = self.execute() if self.final_signal is None: return if self.final_signal > 0: if self.position: if self.countSell: self.order = self.close() else: self.order = self.buy() elif self.final_signal < 0: if self.position: if self.countBuy: self.order = self.close() else: self.order = self.sell() class MovingAverageStrategy(BaseStrategy): def __init__(self, *args, **kwargs): super().__init__(*args, **kwargs) self.sma = bt.ind.SMA(self.data.close, period=15) def execute(self): if self.sma > self.data.close: return 1 elif self.sma < self.data.close: return -1 class RSI(BaseStrategy): def __init__(self, *args, **kwargs): super().__init__(*args, **kwargs) self.rsi = bt.ind.RSI(self.data.close, period=14) self.upperband = 70 self.lowerband = 30 def execute(self): if self.rsi > self.upperband: return 1 elif self.rsi < self.lowerband: return -1\"\n",
      "\n",
      "Query: Create a strategy that buys when the Ultimate Oscillator crosses above 50 and sells when it crosses below 50.\n",
      "\n",
      "Past Generated Code: ```python class BackTestStrategy(BaseStrategy): def __init__(self, *args, **kwargs): super().__init__(*args, **kwargs) self.uo = bt.ind.UltimateOscillator(self.data, period1=7, period2=14, period3=28) def execute(self): if self.uo > 50 and self.uo[-1] <= 50: return 1 elif self.uo < 50 and self.uo[-1] >= 50: return -1 else: return 0 ```\n",
      "\n",
      "Instructions: The code must not obtain the error UltimateOscillator.__init__() got an unexpected keyword argument 'period1'\n",
      "\n",
      "Generated Code:\u001b[32m```python\n",
      "class BackTestStrategy(BaseStrategy):\n",
      "    def __init__(self, *args, **kwargs):\n",
      "        super().__init__(*args, **kwargs)\n",
      "        self.uo = bt.ind.UltimateOscillator(self.data, period1=7, period2=14, period3=28)\n",
      "    def execute(self):\n",
      "        if self.uo[0] > 50 and self.uo[-1] <= 50:\n",
      "            return 1\n",
      "        elif self.uo[0] < 50 and self.uo[-1] >= 50:\n",
      "            return -1\n",
      "        else:\n",
      "            return 0\n",
      "```\u001b[0m\n",
      "\n",
      "\n",
      "\n"
     ]
    },
    {
     "data": {
      "text/plain": [
       "'\\n\\n\\nGenerate Python code for a specified finance strategy.\\n\\n---\\n\\nFollow the following format.\\n\\nInstruction: Code structure and instruction for the finance strategy.\\n\\nQuery: Query of the finance strategy.\\n\\nReasoning: Let\\'s think step by step in order to ${produce the generated_code}. We ...\\n\\nGenerated Code: Generated Python code for the strategy, formatted inside ```python``` block. If Backtrader is indicated, the code will inherit from Backtrader\\'s Indicator class; otherwise, it will generate an LLM\\'s knowledge indicator.\\n\\n---\\n\\nInstruction: You are a python developer that intent to make a workable strategy from human requirement. Your task is to create a new BackTestStrategy that follow below msg Note: Only return class strategy and change `execute` function only, nothing else. And below is the structure of the codebase, you can read the MovingAverageStrategy as an example to make your strategy but only change the `execute` function. Please name your class strategy as BackTestStrategy ---------------------------- \"import backtrader as bt class BaseStrategy(bt.Strategy): def __init__(self, debug=True): \"\"\" final signal: 1 -> long, 0 -> neutral ->, -1 sell \"\"\" # To keep track of pending orders and buy price/commission self.countBuy = 0 self.countSell = 0 self.final_signal = None self.debug = debug def log(self, txt, dt=None): \"\"\"Logging function fot this strategy\"\"\" if self.debug: dt_day = self.datas[0].datetime.date(0) dt_value = dt or self.datas[0].datetime.time(0) print(\"%sT%s, %s\" % (dt_day, dt_value.isoformat(), txt)) else: pass def notify_order(self, order): if order.status in [order.Submitted, order.Accepted]: # Buy/Sell order submitted/accepted to/by broker - Nothing to do return if order.status in [order.Completed]: if order.isbuy(): if self.countSell > 0: info_trade = \"CLOSE SELL\" self.countSell -= 1 else: info_trade = \"BUY EXECUTED\" self.countBuy += 1 self.log( f\"{info_trade}, Price: %.2f, Cost: %.2f, Comm %.2ff\" % ( order.executed.price, order.executed.value, order.executed.comm ) ) else: if self.countBuy > 0: info_trade = \"CLOSE BUY\" self.countBuy -= 1 else: info_trade = \"SELL EXECUTED\" self.countSell += 1 self.log( f\"{info_trade}, Price: %.2f, Cost: %.2f, Comm %.2f\" % ( order.executed.price, order.executed.value, order.executed.comm ) ) self.bar_executed = len(self) elif order.status in [order.Canceled, order.Margin, order.Rejected]: self.log(\"Order Canceled/Margin/Rejected\") # Write down: no pending order self.order = None def execute(self) -> int: \"\"\" Return final signal: 1 -> long, 0 -> neutral ->, -1 sell None if execute do not have any signal yet. \"\"\" raise NotImplementedError def next(self): cur_time = self.data.datetime.time(0) # if cur_time.hour < 10 or cur_time.hour >= 15: # # Only trade after 9am # return # if cur_time.hour == 12: # # Sleep time # return # if cur_time.hour == 14 and cur_time.minute >= 25: # # Close end of the day # if self.position: # self.order = self.close() # return self.final_signal = self.execute() if self.final_signal is None: return if self.final_signal > 0: if self.position: if self.countSell: self.order = self.close() else: self.order = self.buy() elif self.final_signal < 0: if self.position: if self.countBuy: self.order = self.close() else: self.order = self.sell() class MovingAverageStrategy(BaseStrategy): def __init__(self, *args, **kwargs): super().__init__(*args, **kwargs) self.sma = bt.ind.SMA(self.data.close, period=15) def execute(self): if self.sma > self.data.close: return 1 elif self.sma < self.data.close: return -1 class RSI(BaseStrategy): def __init__(self, *args, **kwargs): super().__init__(*args, **kwargs) self.rsi = bt.ind.RSI(self.data.close, period=14) self.upperband = 70 self.lowerband = 30 def execute(self): if self.rsi > self.upperband: return 1 elif self.rsi < self.lowerband: return -1\"\\n\\nQuery: Create a strategy that buys when the Ultimate Oscillator crosses above 50 and sells when it crosses below 50.\\n\\nReasoning: Let\\'s think step by step in order to\\x1b[32mproduce the generated_code. We need to create a new strategy class that inherits from the BaseStrategy class. This strategy will use the Ultimate Oscillator indicator to generate buy and sell signals. The Ultimate Oscillator indicator will be calculated using the bt.ind.UltimateOscillator class from Backtrader. We will then override the execute method to return 1 when the Ultimate Oscillator crosses above 50 and -1 when it crosses below 50.\\n\\nGenerated Code:\\n```python\\nclass BackTestStrategy(BaseStrategy):\\n    def __init__(self, *args, **kwargs):\\n        super().__init__(*args, **kwargs)\\n        self.uo = bt.ind.UltimateOscillator(self.data.close, period1=7, period2=14, period3=28)\\n\\n    def execute(self):\\n        if self.uo > 50 and self.uo[-1] <= 50:\\n            return 1\\n        elif self.uo < 50 and self.uo[-1] >= 50:\\n            return -1\\n        else:\\n            return 0\\n```\\x1b[0m\\n\\n\\n\\n\\n\\nGenerate Python code for a specified finance strategy.\\n\\n---\\n\\nFollow the following format.\\n\\nInstruction: Code structure and instruction for the finance strategy.\\n\\nQuery: Query of the finance strategy.\\n\\nPast Generated Code: past output with errors\\n\\nInstructions: Some instructions you must satisfy\\n\\nGenerated Code: Generated Python code for the strategy, formatted inside ```python``` block. If Backtrader is indicated, the code will inherit from Backtrader\\'s Indicator class; otherwise, it will generate an LLM\\'s knowledge indicator.\\n\\n---\\n\\nInstruction: You are a python developer that intent to make a workable strategy from human requirement. Your task is to create a new BackTestStrategy that follow below msg Note: Only return class strategy and change `execute` function only, nothing else. And below is the structure of the codebase, you can read the MovingAverageStrategy as an example to make your strategy but only change the `execute` function. Please name your class strategy as BackTestStrategy ---------------------------- \"import backtrader as bt class BaseStrategy(bt.Strategy): def __init__(self, debug=True): \"\"\" final signal: 1 -> long, 0 -> neutral ->, -1 sell \"\"\" # To keep track of pending orders and buy price/commission self.countBuy = 0 self.countSell = 0 self.final_signal = None self.debug = debug def log(self, txt, dt=None): \"\"\"Logging function fot this strategy\"\"\" if self.debug: dt_day = self.datas[0].datetime.date(0) dt_value = dt or self.datas[0].datetime.time(0) print(\"%sT%s, %s\" % (dt_day, dt_value.isoformat(), txt)) else: pass def notify_order(self, order): if order.status in [order.Submitted, order.Accepted]: # Buy/Sell order submitted/accepted to/by broker - Nothing to do return if order.status in [order.Completed]: if order.isbuy(): if self.countSell > 0: info_trade = \"CLOSE SELL\" self.countSell -= 1 else: info_trade = \"BUY EXECUTED\" self.countBuy += 1 self.log( f\"{info_trade}, Price: %.2f, Cost: %.2f, Comm %.2ff\" % ( order.executed.price, order.executed.value, order.executed.comm ) ) else: if self.countBuy > 0: info_trade = \"CLOSE BUY\" self.countBuy -= 1 else: info_trade = \"SELL EXECUTED\" self.countSell += 1 self.log( f\"{info_trade}, Price: %.2f, Cost: %.2f, Comm %.2f\" % ( order.executed.price, order.executed.value, order.executed.comm ) ) self.bar_executed = len(self) elif order.status in [order.Canceled, order.Margin, order.Rejected]: self.log(\"Order Canceled/Margin/Rejected\") # Write down: no pending order self.order = None def execute(self) -> int: \"\"\" Return final signal: 1 -> long, 0 -> neutral ->, -1 sell None if execute do not have any signal yet. \"\"\" raise NotImplementedError def next(self): cur_time = self.data.datetime.time(0) # if cur_time.hour < 10 or cur_time.hour >= 15: # # Only trade after 9am # return # if cur_time.hour == 12: # # Sleep time # return # if cur_time.hour == 14 and cur_time.minute >= 25: # # Close end of the day # if self.position: # self.order = self.close() # return self.final_signal = self.execute() if self.final_signal is None: return if self.final_signal > 0: if self.position: if self.countSell: self.order = self.close() else: self.order = self.buy() elif self.final_signal < 0: if self.position: if self.countBuy: self.order = self.close() else: self.order = self.sell() class MovingAverageStrategy(BaseStrategy): def __init__(self, *args, **kwargs): super().__init__(*args, **kwargs) self.sma = bt.ind.SMA(self.data.close, period=15) def execute(self): if self.sma > self.data.close: return 1 elif self.sma < self.data.close: return -1 class RSI(BaseStrategy): def __init__(self, *args, **kwargs): super().__init__(*args, **kwargs) self.rsi = bt.ind.RSI(self.data.close, period=14) self.upperband = 70 self.lowerband = 30 def execute(self): if self.rsi > self.upperband: return 1 elif self.rsi < self.lowerband: return -1\"\\n\\nQuery: Create a strategy that buys when the Ultimate Oscillator crosses above 50 and sells when it crosses below 50.\\n\\nPast Generated Code: ```python class BackTestStrategy(BaseStrategy): def __init__(self, *args, **kwargs): super().__init__(*args, **kwargs) self.uo = bt.ind.UltimateOscillator(self.data.close, period1=7, period2=14, period3=28) def execute(self): if self.uo > 50 and self.uo[-1] <= 50: return 1 elif self.uo < 50 and self.uo[-1] >= 50: return -1 else: return 0 ```\\n\\nInstructions: The code must not obtain the error UltimateOscillator.__init__() got an unexpected keyword argument \\'period1\\'\\n\\nGenerated Code:\\x1b[32m```python\\nclass BackTestStrategy(BaseStrategy):\\n    def __init__(self, *args, **kwargs):\\n        super().__init__(*args, **kwargs)\\n        self.uo = bt.ind.UltimateOscillator(self.data, period1=7, period2=14, period3=28)\\n    def execute(self):\\n        if self.uo > 50 and self.uo[-1] <= 50:\\n            return 1\\n        elif self.uo < 50 and self.uo[-1] >= 50:\\n            return -1\\n        else:\\n            return 0\\n```\\x1b[0m\\n\\n\\n\\n\\n\\nGenerate Python code for a specified finance strategy.\\n\\n---\\n\\nFollow the following format.\\n\\nInstruction: Code structure and instruction for the finance strategy.\\n\\nQuery: Query of the finance strategy.\\n\\nPast Generated Code: past output with errors\\n\\nInstructions: Some instructions you must satisfy\\n\\nGenerated Code: Generated Python code for the strategy, formatted inside ```python``` block. If Backtrader is indicated, the code will inherit from Backtrader\\'s Indicator class; otherwise, it will generate an LLM\\'s knowledge indicator.\\n\\n---\\n\\nInstruction: You are a python developer that intent to make a workable strategy from human requirement. Your task is to create a new BackTestStrategy that follow below msg Note: Only return class strategy and change `execute` function only, nothing else. And below is the structure of the codebase, you can read the MovingAverageStrategy as an example to make your strategy but only change the `execute` function. Please name your class strategy as BackTestStrategy ---------------------------- \"import backtrader as bt class BaseStrategy(bt.Strategy): def __init__(self, debug=True): \"\"\" final signal: 1 -> long, 0 -> neutral ->, -1 sell \"\"\" # To keep track of pending orders and buy price/commission self.countBuy = 0 self.countSell = 0 self.final_signal = None self.debug = debug def log(self, txt, dt=None): \"\"\"Logging function fot this strategy\"\"\" if self.debug: dt_day = self.datas[0].datetime.date(0) dt_value = dt or self.datas[0].datetime.time(0) print(\"%sT%s, %s\" % (dt_day, dt_value.isoformat(), txt)) else: pass def notify_order(self, order): if order.status in [order.Submitted, order.Accepted]: # Buy/Sell order submitted/accepted to/by broker - Nothing to do return if order.status in [order.Completed]: if order.isbuy(): if self.countSell > 0: info_trade = \"CLOSE SELL\" self.countSell -= 1 else: info_trade = \"BUY EXECUTED\" self.countBuy += 1 self.log( f\"{info_trade}, Price: %.2f, Cost: %.2f, Comm %.2ff\" % ( order.executed.price, order.executed.value, order.executed.comm ) ) else: if self.countBuy > 0: info_trade = \"CLOSE BUY\" self.countBuy -= 1 else: info_trade = \"SELL EXECUTED\" self.countSell += 1 self.log( f\"{info_trade}, Price: %.2f, Cost: %.2f, Comm %.2f\" % ( order.executed.price, order.executed.value, order.executed.comm ) ) self.bar_executed = len(self) elif order.status in [order.Canceled, order.Margin, order.Rejected]: self.log(\"Order Canceled/Margin/Rejected\") # Write down: no pending order self.order = None def execute(self) -> int: \"\"\" Return final signal: 1 -> long, 0 -> neutral ->, -1 sell None if execute do not have any signal yet. \"\"\" raise NotImplementedError def next(self): cur_time = self.data.datetime.time(0) # if cur_time.hour < 10 or cur_time.hour >= 15: # # Only trade after 9am # return # if cur_time.hour == 12: # # Sleep time # return # if cur_time.hour == 14 and cur_time.minute >= 25: # # Close end of the day # if self.position: # self.order = self.close() # return self.final_signal = self.execute() if self.final_signal is None: return if self.final_signal > 0: if self.position: if self.countSell: self.order = self.close() else: self.order = self.buy() elif self.final_signal < 0: if self.position: if self.countBuy: self.order = self.close() else: self.order = self.sell() class MovingAverageStrategy(BaseStrategy): def __init__(self, *args, **kwargs): super().__init__(*args, **kwargs) self.sma = bt.ind.SMA(self.data.close, period=15) def execute(self): if self.sma > self.data.close: return 1 elif self.sma < self.data.close: return -1 class RSI(BaseStrategy): def __init__(self, *args, **kwargs): super().__init__(*args, **kwargs) self.rsi = bt.ind.RSI(self.data.close, period=14) self.upperband = 70 self.lowerband = 30 def execute(self): if self.rsi > self.upperband: return 1 elif self.rsi < self.lowerband: return -1\"\\n\\nQuery: Create a strategy that buys when the Ultimate Oscillator crosses above 50 and sells when it crosses below 50.\\n\\nPast Generated Code: ```python class BackTestStrategy(BaseStrategy): def __init__(self, *args, **kwargs): super().__init__(*args, **kwargs) self.uo = bt.ind.UltimateOscillator(self.data, period1=7, period2=14, period3=28) def execute(self): if self.uo > 50 and self.uo[-1] <= 50: return 1 elif self.uo < 50 and self.uo[-1] >= 50: return -1 else: return 0 ```\\n\\nInstructions: The code must not obtain the error UltimateOscillator.__init__() got an unexpected keyword argument \\'period1\\'\\n\\nGenerated Code:\\x1b[32m```python\\nclass BackTestStrategy(BaseStrategy):\\n    def __init__(self, *args, **kwargs):\\n        super().__init__(*args, **kwargs)\\n        self.uo = bt.ind.UltimateOscillator(self.data, period1=7, period2=14, period3=28)\\n    def execute(self):\\n        if self.uo[0] > 50 and self.uo[-1] <= 50:\\n            return 1\\n        elif self.uo[0] < 50 and self.uo[-1] >= 50:\\n            return -1\\n        else:\\n            return 0\\n```\\x1b[0m\\n\\n\\n'"
      ]
     },
     "execution_count": 10,
     "metadata": {},
     "output_type": "execute_result"
    }
   ],
   "source": [
    "lm.inspect_history(n=3)"
   ]
  },
  {
   "cell_type": "code",
   "execution_count": 11,
   "metadata": {},
   "outputs": [
    {
     "ename": "TypeError",
     "evalue": "UltimateOscillator.__init__() got an unexpected keyword argument 'period1'",
     "output_type": "error",
     "traceback": [
      "\u001b[0;31m---------------------------------------------------------------------------\u001b[0m",
      "\u001b[0;31mTypeError\u001b[0m                                 Traceback (most recent call last)",
      "Cell \u001b[0;32mIn[11], line 3\u001b[0m\n\u001b[1;32m      1\u001b[0m \u001b[38;5;28;01mimport\u001b[39;00m \u001b[38;5;21;01mmatplotlib\u001b[39;00m\n\u001b[1;32m      2\u001b[0m get_ipython()\u001b[38;5;241m.\u001b[39mrun_line_magic(\u001b[38;5;124m'\u001b[39m\u001b[38;5;124mmatplotlib\u001b[39m\u001b[38;5;124m'\u001b[39m, \u001b[38;5;124m'\u001b[39m\u001b[38;5;124minline\u001b[39m\u001b[38;5;124m'\u001b[39m)\n\u001b[0;32m----> 3\u001b[0m cerebro, thestrats \u001b[38;5;241m=\u001b[39m \u001b[43mrun_cerebro\u001b[49m\u001b[43m(\u001b[49m\u001b[43mstrategy\u001b[49m\u001b[38;5;241;43m=\u001b[39;49m\u001b[43mBackTestStrategy\u001b[49m\u001b[43m,\u001b[49m\u001b[43m \u001b[49m\u001b[43mlist_data\u001b[49m\u001b[38;5;241;43m=\u001b[39;49m\u001b[43mdata\u001b[49m\u001b[43m,\u001b[49m\u001b[43m \u001b[49m\u001b[43mstake\u001b[49m\u001b[38;5;241;43m=\u001b[39;49m\u001b[38;5;241;43m100\u001b[39;49m\u001b[43m,\u001b[49m\u001b[43m \u001b[49m\u001b[43mcash\u001b[49m\u001b[38;5;241;43m=\u001b[39;49m\u001b[38;5;241;43m1000\u001b[39;49m\u001b[43m)\u001b[49m\n\u001b[1;32m      4\u001b[0m     \u001b[38;5;66;03m#thestrat = thestrats[0]\u001b[39;00m\n\u001b[1;32m      6\u001b[0m \u001b[38;5;28mprint\u001b[39m(\u001b[38;5;124m\"\u001b[39m\u001b[38;5;124mFinal Portfolio Value: \u001b[39m\u001b[38;5;132;01m%.2f\u001b[39;00m\u001b[38;5;124m\"\u001b[39m \u001b[38;5;241m%\u001b[39m cerebro\u001b[38;5;241m.\u001b[39mbroker\u001b[38;5;241m.\u001b[39mgetvalue())\n",
      "Cell \u001b[0;32mIn[4], line 11\u001b[0m, in \u001b[0;36mrun_cerebro\u001b[0;34m(strategy, list_data, stake, cash)\u001b[0m\n\u001b[1;32m      9\u001b[0m \u001b[38;5;28;01mdef\u001b[39;00m \u001b[38;5;21mrun_cerebro\u001b[39m(strategy, list_data, stake\u001b[38;5;241m=\u001b[39m\u001b[38;5;241m100\u001b[39m, cash\u001b[38;5;241m=\u001b[39m\u001b[38;5;241m20000\u001b[39m):\n\u001b[1;32m     10\u001b[0m     cerebro \u001b[38;5;241m=\u001b[39m init_cerebro_object(strategy, list_data, stake, cash)\n\u001b[0;32m---> 11\u001b[0m     thestrats \u001b[38;5;241m=\u001b[39m \u001b[43mcerebro\u001b[49m\u001b[38;5;241;43m.\u001b[39;49m\u001b[43mrun\u001b[49m\u001b[43m(\u001b[49m\u001b[43m)\u001b[49m\n\u001b[1;32m     12\u001b[0m     \u001b[38;5;28;01mreturn\u001b[39;00m cerebro, thestrats\n",
      "File \u001b[0;32m/home/zeus/miniconda3/envs/cloudspace/lib/python3.10/site-packages/backtrader/cerebro.py:1132\u001b[0m, in \u001b[0;36mCerebro.run\u001b[0;34m(self, **kwargs)\u001b[0m\n\u001b[1;32m   1128\u001b[0m \u001b[38;5;28;01mif\u001b[39;00m \u001b[38;5;129;01mnot\u001b[39;00m \u001b[38;5;28mself\u001b[39m\u001b[38;5;241m.\u001b[39m_dooptimize \u001b[38;5;129;01mor\u001b[39;00m \u001b[38;5;28mself\u001b[39m\u001b[38;5;241m.\u001b[39mp\u001b[38;5;241m.\u001b[39mmaxcpus \u001b[38;5;241m==\u001b[39m \u001b[38;5;241m1\u001b[39m:\n\u001b[1;32m   1129\u001b[0m     \u001b[38;5;66;03m# If no optimmization is wished ... or 1 core is to be used\u001b[39;00m\n\u001b[1;32m   1130\u001b[0m     \u001b[38;5;66;03m# let's skip process \"spawning\"\u001b[39;00m\n\u001b[1;32m   1131\u001b[0m     \u001b[38;5;28;01mfor\u001b[39;00m iterstrat \u001b[38;5;129;01min\u001b[39;00m iterstrats:\n\u001b[0;32m-> 1132\u001b[0m         runstrat \u001b[38;5;241m=\u001b[39m \u001b[38;5;28;43mself\u001b[39;49m\u001b[38;5;241;43m.\u001b[39;49m\u001b[43mrunstrategies\u001b[49m\u001b[43m(\u001b[49m\u001b[43miterstrat\u001b[49m\u001b[43m)\u001b[49m\n\u001b[1;32m   1133\u001b[0m         \u001b[38;5;28mself\u001b[39m\u001b[38;5;241m.\u001b[39mrunstrats\u001b[38;5;241m.\u001b[39mappend(runstrat)\n\u001b[1;32m   1134\u001b[0m         \u001b[38;5;28;01mif\u001b[39;00m \u001b[38;5;28mself\u001b[39m\u001b[38;5;241m.\u001b[39m_dooptimize:\n",
      "File \u001b[0;32m/home/zeus/miniconda3/envs/cloudspace/lib/python3.10/site-packages/backtrader/cerebro.py:1222\u001b[0m, in \u001b[0;36mCerebro.runstrategies\u001b[0;34m(self, iterstrat, predata)\u001b[0m\n\u001b[1;32m   1220\u001b[0m sargs \u001b[38;5;241m=\u001b[39m \u001b[38;5;28mself\u001b[39m\u001b[38;5;241m.\u001b[39mdatas \u001b[38;5;241m+\u001b[39m \u001b[38;5;28mlist\u001b[39m(sargs)\n\u001b[1;32m   1221\u001b[0m \u001b[38;5;28;01mtry\u001b[39;00m:\n\u001b[0;32m-> 1222\u001b[0m     strat \u001b[38;5;241m=\u001b[39m \u001b[43mstratcls\u001b[49m\u001b[43m(\u001b[49m\u001b[38;5;241;43m*\u001b[39;49m\u001b[43msargs\u001b[49m\u001b[43m,\u001b[49m\u001b[43m \u001b[49m\u001b[38;5;241;43m*\u001b[39;49m\u001b[38;5;241;43m*\u001b[39;49m\u001b[43mskwargs\u001b[49m\u001b[43m)\u001b[49m\n\u001b[1;32m   1223\u001b[0m \u001b[38;5;28;01mexcept\u001b[39;00m bt\u001b[38;5;241m.\u001b[39merrors\u001b[38;5;241m.\u001b[39mStrategySkipError:\n\u001b[1;32m   1224\u001b[0m     \u001b[38;5;28;01mcontinue\u001b[39;00m  \u001b[38;5;66;03m# do not add strategy to the mix\u001b[39;00m\n",
      "File \u001b[0;32m/home/zeus/miniconda3/envs/cloudspace/lib/python3.10/site-packages/backtrader/metabase.py:88\u001b[0m, in \u001b[0;36mMetaBase.__call__\u001b[0;34m(cls, *args, **kwargs)\u001b[0m\n\u001b[1;32m     86\u001b[0m _obj, args, kwargs \u001b[38;5;241m=\u001b[39m \u001b[38;5;28mcls\u001b[39m\u001b[38;5;241m.\u001b[39mdonew(\u001b[38;5;241m*\u001b[39margs, \u001b[38;5;241m*\u001b[39m\u001b[38;5;241m*\u001b[39mkwargs)\n\u001b[1;32m     87\u001b[0m _obj, args, kwargs \u001b[38;5;241m=\u001b[39m \u001b[38;5;28mcls\u001b[39m\u001b[38;5;241m.\u001b[39mdopreinit(_obj, \u001b[38;5;241m*\u001b[39margs, \u001b[38;5;241m*\u001b[39m\u001b[38;5;241m*\u001b[39mkwargs)\n\u001b[0;32m---> 88\u001b[0m _obj, args, kwargs \u001b[38;5;241m=\u001b[39m \u001b[38;5;28;43mcls\u001b[39;49m\u001b[38;5;241;43m.\u001b[39;49m\u001b[43mdoinit\u001b[49m\u001b[43m(\u001b[49m\u001b[43m_obj\u001b[49m\u001b[43m,\u001b[49m\u001b[43m \u001b[49m\u001b[38;5;241;43m*\u001b[39;49m\u001b[43margs\u001b[49m\u001b[43m,\u001b[49m\u001b[43m \u001b[49m\u001b[38;5;241;43m*\u001b[39;49m\u001b[38;5;241;43m*\u001b[39;49m\u001b[43mkwargs\u001b[49m\u001b[43m)\u001b[49m\n\u001b[1;32m     89\u001b[0m _obj, args, kwargs \u001b[38;5;241m=\u001b[39m \u001b[38;5;28mcls\u001b[39m\u001b[38;5;241m.\u001b[39mdopostinit(_obj, \u001b[38;5;241m*\u001b[39margs, \u001b[38;5;241m*\u001b[39m\u001b[38;5;241m*\u001b[39mkwargs)\n\u001b[1;32m     90\u001b[0m \u001b[38;5;28;01mreturn\u001b[39;00m _obj\n",
      "File \u001b[0;32m/home/zeus/miniconda3/envs/cloudspace/lib/python3.10/site-packages/backtrader/metabase.py:78\u001b[0m, in \u001b[0;36mMetaBase.doinit\u001b[0;34m(cls, _obj, *args, **kwargs)\u001b[0m\n\u001b[1;32m     77\u001b[0m \u001b[38;5;28;01mdef\u001b[39;00m \u001b[38;5;21mdoinit\u001b[39m(\u001b[38;5;28mcls\u001b[39m, _obj, \u001b[38;5;241m*\u001b[39margs, \u001b[38;5;241m*\u001b[39m\u001b[38;5;241m*\u001b[39mkwargs):\n\u001b[0;32m---> 78\u001b[0m     \u001b[43m_obj\u001b[49m\u001b[38;5;241;43m.\u001b[39;49m\u001b[38;5;21;43m__init__\u001b[39;49m\u001b[43m(\u001b[49m\u001b[38;5;241;43m*\u001b[39;49m\u001b[43margs\u001b[49m\u001b[43m,\u001b[49m\u001b[43m \u001b[49m\u001b[38;5;241;43m*\u001b[39;49m\u001b[38;5;241;43m*\u001b[39;49m\u001b[43mkwargs\u001b[49m\u001b[43m)\u001b[49m\n\u001b[1;32m     79\u001b[0m     \u001b[38;5;28;01mreturn\u001b[39;00m _obj, args, kwargs\n",
      "File \u001b[0;32m<string>:4\u001b[0m, in \u001b[0;36m__init__\u001b[0;34m(self, *args, **kwargs)\u001b[0m\n",
      "File \u001b[0;32m/home/zeus/miniconda3/envs/cloudspace/lib/python3.10/site-packages/backtrader/indicator.py:53\u001b[0m, in \u001b[0;36mMetaIndicator.__call__\u001b[0;34m(cls, *args, **kwargs)\u001b[0m\n\u001b[1;32m     51\u001b[0m \u001b[38;5;28;01mdef\u001b[39;00m \u001b[38;5;21m__call__\u001b[39m(\u001b[38;5;28mcls\u001b[39m, \u001b[38;5;241m*\u001b[39margs, \u001b[38;5;241m*\u001b[39m\u001b[38;5;241m*\u001b[39mkwargs):\n\u001b[1;32m     52\u001b[0m     \u001b[38;5;28;01mif\u001b[39;00m \u001b[38;5;129;01mnot\u001b[39;00m \u001b[38;5;28mcls\u001b[39m\u001b[38;5;241m.\u001b[39m_icacheuse:\n\u001b[0;32m---> 53\u001b[0m         \u001b[38;5;28;01mreturn\u001b[39;00m \u001b[38;5;28;43msuper\u001b[39;49m\u001b[43m(\u001b[49m\u001b[43mMetaIndicator\u001b[49m\u001b[43m,\u001b[49m\u001b[43m \u001b[49m\u001b[38;5;28;43mcls\u001b[39;49m\u001b[43m)\u001b[49m\u001b[38;5;241;43m.\u001b[39;49m\u001b[38;5;21;43m__call__\u001b[39;49m\u001b[43m(\u001b[49m\u001b[38;5;241;43m*\u001b[39;49m\u001b[43margs\u001b[49m\u001b[43m,\u001b[49m\u001b[43m \u001b[49m\u001b[38;5;241;43m*\u001b[39;49m\u001b[38;5;241;43m*\u001b[39;49m\u001b[43mkwargs\u001b[49m\u001b[43m)\u001b[49m\n\u001b[1;32m     55\u001b[0m     \u001b[38;5;66;03m# implement a cache to avoid duplicating lines actions\u001b[39;00m\n\u001b[1;32m     56\u001b[0m     ckey \u001b[38;5;241m=\u001b[39m (\u001b[38;5;28mcls\u001b[39m, \u001b[38;5;28mtuple\u001b[39m(args), \u001b[38;5;28mtuple\u001b[39m(kwargs\u001b[38;5;241m.\u001b[39mitems()))  \u001b[38;5;66;03m# tuples hashable\u001b[39;00m\n",
      "File \u001b[0;32m/home/zeus/miniconda3/envs/cloudspace/lib/python3.10/site-packages/backtrader/metabase.py:88\u001b[0m, in \u001b[0;36mMetaBase.__call__\u001b[0;34m(cls, *args, **kwargs)\u001b[0m\n\u001b[1;32m     86\u001b[0m _obj, args, kwargs \u001b[38;5;241m=\u001b[39m \u001b[38;5;28mcls\u001b[39m\u001b[38;5;241m.\u001b[39mdonew(\u001b[38;5;241m*\u001b[39margs, \u001b[38;5;241m*\u001b[39m\u001b[38;5;241m*\u001b[39mkwargs)\n\u001b[1;32m     87\u001b[0m _obj, args, kwargs \u001b[38;5;241m=\u001b[39m \u001b[38;5;28mcls\u001b[39m\u001b[38;5;241m.\u001b[39mdopreinit(_obj, \u001b[38;5;241m*\u001b[39margs, \u001b[38;5;241m*\u001b[39m\u001b[38;5;241m*\u001b[39mkwargs)\n\u001b[0;32m---> 88\u001b[0m _obj, args, kwargs \u001b[38;5;241m=\u001b[39m \u001b[38;5;28;43mcls\u001b[39;49m\u001b[38;5;241;43m.\u001b[39;49m\u001b[43mdoinit\u001b[49m\u001b[43m(\u001b[49m\u001b[43m_obj\u001b[49m\u001b[43m,\u001b[49m\u001b[43m \u001b[49m\u001b[38;5;241;43m*\u001b[39;49m\u001b[43margs\u001b[49m\u001b[43m,\u001b[49m\u001b[43m \u001b[49m\u001b[38;5;241;43m*\u001b[39;49m\u001b[38;5;241;43m*\u001b[39;49m\u001b[43mkwargs\u001b[49m\u001b[43m)\u001b[49m\n\u001b[1;32m     89\u001b[0m _obj, args, kwargs \u001b[38;5;241m=\u001b[39m \u001b[38;5;28mcls\u001b[39m\u001b[38;5;241m.\u001b[39mdopostinit(_obj, \u001b[38;5;241m*\u001b[39margs, \u001b[38;5;241m*\u001b[39m\u001b[38;5;241m*\u001b[39mkwargs)\n\u001b[1;32m     90\u001b[0m \u001b[38;5;28;01mreturn\u001b[39;00m _obj\n",
      "File \u001b[0;32m/home/zeus/miniconda3/envs/cloudspace/lib/python3.10/site-packages/backtrader/metabase.py:78\u001b[0m, in \u001b[0;36mMetaBase.doinit\u001b[0;34m(cls, _obj, *args, **kwargs)\u001b[0m\n\u001b[1;32m     77\u001b[0m \u001b[38;5;28;01mdef\u001b[39;00m \u001b[38;5;21mdoinit\u001b[39m(\u001b[38;5;28mcls\u001b[39m, _obj, \u001b[38;5;241m*\u001b[39margs, \u001b[38;5;241m*\u001b[39m\u001b[38;5;241m*\u001b[39mkwargs):\n\u001b[0;32m---> 78\u001b[0m     \u001b[43m_obj\u001b[49m\u001b[38;5;241;43m.\u001b[39;49m\u001b[38;5;21;43m__init__\u001b[39;49m\u001b[43m(\u001b[49m\u001b[38;5;241;43m*\u001b[39;49m\u001b[43margs\u001b[49m\u001b[43m,\u001b[49m\u001b[43m \u001b[49m\u001b[38;5;241;43m*\u001b[39;49m\u001b[38;5;241;43m*\u001b[39;49m\u001b[43mkwargs\u001b[49m\u001b[43m)\u001b[49m\n\u001b[1;32m     79\u001b[0m     \u001b[38;5;28;01mreturn\u001b[39;00m _obj, args, kwargs\n",
      "\u001b[0;31mTypeError\u001b[0m: UltimateOscillator.__init__() got an unexpected keyword argument 'period1'"
     ]
    }
   ],
   "source": [
    "import matplotlib\n",
    "%matplotlib inline\n",
    "cerebro, thestrats = run_cerebro(strategy=BackTestStrategy, list_data=data, stake=100, cash=1000)\n",
    "    #thestrat = thestrats[0]\n",
    "\n",
    "print(\"Final Portfolio Value: %.2f\" % cerebro.broker.getvalue())\n",
    "print(\"Total point return: \", (cerebro.broker.getvalue() - cerebro.broker.startingcash))\n",
    "\n",
    "# Plot the results\n",
    "figs = cerebro.plot(\n",
    "    iplot=False, \n",
    "    style=\"pincandle\", width=60 * 10, height=40 * 10\n",
    ")\n"
   ]
  },
  {
   "cell_type": "markdown",
   "metadata": {},
   "source": [
    "# Finetuning prompt "
   ]
  },
  {
   "cell_type": "code",
   "execution_count": 28,
   "metadata": {},
   "outputs": [
    {
     "data": {
      "text/plain": [
       "Example({'instruction': '\\n    You are a python developer that intent to make a workable strategy from human requirement.\\n    Your task is to create a new BackTestStrategy that follow below msg\\n    Note: Only return class strategy and change `execute` function only, nothing else.\\n       \\n    And below is the structure of the codebase, you can read the MovingAverageStrategy as an example to make your strategy but only change the `execute` function.\\n    Please name your class strategy as BackTestStrategy\\n    ----------------------------\\n    \"import backtrader as bt\\n\\n\\n\\n\\n\\nclass BaseStrategy(bt.Strategy):\\n\\n    def __init__(self, debug=True):\\n\\n        \"\"\"\\n\\n        final signal: 1 -> long, 0 -> neutral ->, -1 sell\\n\\n        \"\"\"\\n\\n        # To keep track of pending orders and buy price/commission\\n\\n        self.countBuy = 0\\n\\n        self.countSell = 0\\n\\n        self.final_signal = None\\n\\n        self.debug = debug\\n\\n\\n\\n    def log(self, txt, dt=None):\\n\\n        \"\"\"Logging function fot this strategy\"\"\"\\n\\n        if self.debug:\\n\\n            dt_day = self.datas[0].datetime.date(0)\\n\\n            dt_value = dt or self.datas[0].datetime.time(0)\\n\\n            print(\"%sT%s, %s\" % (dt_day, dt_value.isoformat(), txt))\\n\\n        else:\\n\\n            pass\\n\\n\\n\\n    def notify_order(self, order):\\n\\n        if order.status in [order.Submitted, order.Accepted]:\\n\\n            # Buy/Sell order submitted/accepted to/by broker - Nothing to do\\n\\n            return\\n\\n        if order.status in [order.Completed]:\\n\\n            if order.isbuy():\\n\\n                if self.countSell > 0:\\n\\n                    info_trade = \"CLOSE SELL\"\\n\\n                    self.countSell -= 1\\n\\n                else:\\n\\n                    info_trade = \"BUY EXECUTED\"\\n\\n                    self.countBuy += 1\\n\\n                self.log(\\n\\n                    f\"{info_trade}, Price: %.2f, Cost: %.2f, Comm %.2ff\"\\n\\n                    % (\\n\\n                        order.executed.price,\\n\\n                        order.executed.value,\\n\\n                        order.executed.comm\\n\\n                    )\\n\\n                )\\n\\n            else:\\n\\n                if self.countBuy > 0:\\n\\n                    info_trade = \"CLOSE BUY\"\\n\\n                    self.countBuy -= 1\\n\\n                else:\\n\\n                    info_trade = \"SELL EXECUTED\"\\n\\n                    self.countSell += 1\\n\\n                self.log(\\n\\n                    f\"{info_trade}, Price: %.2f, Cost: %.2f, Comm %.2f\"\\n\\n                    % (\\n\\n                        order.executed.price,\\n\\n                        order.executed.value,\\n\\n                        order.executed.comm\\n\\n                    )\\n\\n                )\\n\\n\\n\\n            self.bar_executed = len(self)\\n\\n\\n\\n        elif order.status in [order.Canceled, order.Margin, order.Rejected]:\\n\\n            self.log(\"Order Canceled/Margin/Rejected\")\\n\\n\\n\\n        # Write down: no pending order\\n\\n        self.order = None\\n\\n\\n\\n    def execute(self) -> int:\\n\\n        \"\"\"\\n\\n        Return final signal: 1 -> long, 0 -> neutral ->, -1 sell\\n\\n        None if execute do not have any signal yet.\\n\\n        \"\"\"\\n\\n        raise NotImplementedError\\n\\n\\n\\n    def next(self):\\n\\n        cur_time = self.data.datetime.time(0)\\n\\n        # if cur_time.hour < 10 or cur_time.hour >= 15:\\n\\n        #     # Only trade after 9am\\n\\n        #     return\\n\\n        # if cur_time.hour == 12:\\n\\n        #     # Sleep time\\n\\n        #     return\\n\\n\\n\\n        # if cur_time.hour == 14 and cur_time.minute >= 25:\\n\\n        #     # Close end of the day\\n\\n        #     if self.position:\\n\\n        #         self.order = self.close()\\n\\n        #     return\\n\\n\\n\\n        self.final_signal = self.execute()\\n\\n        if self.final_signal is None:\\n\\n            return\\n\\n\\n\\n        if self.final_signal > 0:\\n\\n            if self.position:\\n\\n                if self.countSell:\\n\\n                    self.order = self.close()\\n\\n            else:\\n\\n                self.order = self.buy()\\n\\n        elif self.final_signal < 0:\\n\\n            if self.position:\\n\\n                if self.countBuy:\\n\\n                    self.order = self.close()\\n\\n            else:\\n\\n                self.order = self.sell()\\n\\n\\n\\n                \\n\\nclass MovingAverageStrategy(BaseStrategy):\\n\\n\\n\\n    def __init__(self, *args, **kwargs):\\n\\n        super().__init__(*args, **kwargs)\\n\\n        self.sma = bt.ind.SMA(self.data.close, period=15)\\n\\n\\n\\n    def execute(self):\\n\\n        if self.sma > self.data.close:\\n\\n            return 1\\n\\n        elif self.sma < self.data.close:\\n\\n            return -1\\n\\n\\n\\n\\n\\nclass RSI(BaseStrategy):\\n\\n\\n\\n    def __init__(self, *args, **kwargs):\\n\\n        super().__init__(*args, **kwargs)\\n\\n        self.rsi = bt.ind.RSI(self.data.close, period=14)\\n\\n        self.upperband = 70\\n\\n        self.lowerband = 30\\n\\n\\n\\n    def execute(self):\\n\\n        if self.rsi > self.upperband:\\n\\n            return 1\\n\\n        elif self.rsi < self.lowerband:\\n\\n            return -1\"\\n    ', 'query': 'Create a strategy that buys when the Aroon Up crosses above the Aroon Down and sells when the Aroon Down crosses above the Aroon Up.', 'generated_code': '\\nimport backtrader as bt\\n\\nclass BackTestStrategy(bt.Strategy):\\n    def __init__(self, *args, **kwargs):\\n        super().__init__(*args, **kwargs)\\n        self.aroon = bt.ind.AroonIndicator(self.data.close, period=25)\\n\\n    def execute(self):\\n        if self.aroon.aroonup[0] > self.aroon.aroondown[0] and self.aroon.aroonup[-1] <= self.aroon.aroondown[-1]:\\n            return 1  # Buy signal\\n        elif self.aroon.aroondown[0] > self.aroon.aroonup[0] and self.aroon.aroondown[-1] <= self.aroon.aroonup[-1]:\\n            return -1  # Sell signal\\n        else:\\n            return 0  # No signal\\n        '}) (input_keys={'query', 'instruction'})"
      ]
     },
     "execution_count": 28,
     "metadata": {},
     "output_type": "execute_result"
    }
   ],
   "source": [
    "dataset.train[0]"
   ]
  },
  {
   "cell_type": "code",
   "execution_count": 20,
   "metadata": {},
   "outputs": [
    {
     "name": "stderr",
     "output_type": "stream",
     "text": [
      "ERROR [dspy.evaluate.evaluate] \u001b[2m2024-06-15T16:28:50.048042Z\u001b[0m [\u001b[31m\u001b[1merror    \u001b[0m] \u001b[1mError for example in dev set: \t\t missing a required argument: 'input'\u001b[0m [\u001b[0m\u001b[1m\u001b[34mdspy.evaluate.evaluate\u001b[0m]\u001b[0m \u001b[36mfilename\u001b[0m=\u001b[35mevaluate.py\u001b[0m \u001b[36mlineno\u001b[0m=\u001b[35m149\u001b[0m\n",
      "ERROR [dspy.evaluate.evaluate] \u001b[2m2024-06-15T16:28:50.050397Z\u001b[0m [\u001b[31m\u001b[1merror    \u001b[0m] \u001b[1mError for example in dev set: \t\t missing a required argument: 'input'\u001b[0m [\u001b[0m\u001b[1m\u001b[34mdspy.evaluate.evaluate\u001b[0m]\u001b[0m \u001b[36mfilename\u001b[0m=\u001b[35mevaluate.py\u001b[0m \u001b[36mlineno\u001b[0m=\u001b[35m149\u001b[0m\n"
     ]
    },
    {
     "name": "stdout",
     "output_type": "stream",
     "text": [
      "3\n",
      "3\n",
      "3\n",
      "3\n",
      "3\n",
      "3\n",
      "3\n"
     ]
    },
    {
     "name": "stderr",
     "output_type": "stream",
     "text": [
      "Average Metric: 0.0 / 2  (0.0):   3%|▎         | 1/30 [00:00<00:00, 382.48it/s]ERROR [dspy.evaluate.evaluate] \u001b[2m2024-06-15T16:28:50.051527Z\u001b[0m [\u001b[31m\u001b[1merror    \u001b[0m] \u001b[1mError for example in dev set: \t\t missing a required argument: 'input'\u001b[0m [\u001b[0m\u001b[1m\u001b[34mdspy.evaluate.evaluate\u001b[0m]\u001b[0m \u001b[36mfilename\u001b[0m=\u001b[35mevaluate.py\u001b[0m \u001b[36mlineno\u001b[0m=\u001b[35m149\u001b[0m\n",
      "ERROR [dspy.evaluate.evaluate] \u001b[2m2024-06-15T16:28:50.053206Z\u001b[0m [\u001b[31m\u001b[1merror    \u001b[0m] \u001b[1mError for example in dev set: \t\t missing a required argument: 'input'\u001b[0m [\u001b[0m\u001b[1m\u001b[34mdspy.evaluate.evaluate\u001b[0m]\u001b[0m \u001b[36mfilename\u001b[0m=\u001b[35mevaluate.py\u001b[0m \u001b[36mlineno\u001b[0m=\u001b[35m149\u001b[0m\n",
      "Average Metric: 0.0 / 4  (0.0):  10%|█         | 3/30 [00:00<00:00, 298.45it/s]ERROR [dspy.evaluate.evaluate] \u001b[2m2024-06-15T16:28:50.053434Z\u001b[0m [\u001b[31m\u001b[1merror    \u001b[0m] \u001b[1mError for example in dev set: \t\t missing a required argument: 'input'\u001b[0m [\u001b[0m\u001b[1m\u001b[34mdspy.evaluate.evaluate\u001b[0m]\u001b[0m \u001b[36mfilename\u001b[0m=\u001b[35mevaluate.py\u001b[0m \u001b[36mlineno\u001b[0m=\u001b[35m149\u001b[0m\n",
      "ERROR [dspy.evaluate.evaluate] \u001b[2m2024-06-15T16:28:50.054020Z\u001b[0m [\u001b[31m\u001b[1merror    \u001b[0m] \u001b[1mError for example in dev set: \t\t missing a required argument: 'input'\u001b[0m [\u001b[0m\u001b[1m\u001b[34mdspy.evaluate.evaluate\u001b[0m]\u001b[0m \u001b[36mfilename\u001b[0m=\u001b[35mevaluate.py\u001b[0m \u001b[36mlineno\u001b[0m=\u001b[35m149\u001b[0m\n",
      "ERROR [dspy.evaluate.evaluate] \u001b[2m2024-06-15T16:28:50.054652Z\u001b[0m [\u001b[31m\u001b[1merror    \u001b[0m] \u001b[1mError for example in dev set: \t\t missing a required argument: 'input'\u001b[0m [\u001b[0m\u001b[1m\u001b[34mdspy.evaluate.evaluate\u001b[0m]\u001b[0m \u001b[36mfilename\u001b[0m=\u001b[35mevaluate.py\u001b[0m \u001b[36mlineno\u001b[0m=\u001b[35m149\u001b[0m\n",
      "ERROR [dspy.evaluate.evaluate] \u001b[2m2024-06-15T16:28:50.062294Z\u001b[0m [\u001b[31m\u001b[1merror    \u001b[0m] \u001b[1mError for example in dev set: \t\t missing a required argument: 'input'\u001b[0m [\u001b[0m\u001b[1m\u001b[34mdspy.evaluate.evaluate\u001b[0m]\u001b[0m \u001b[36mfilename\u001b[0m=\u001b[35mevaluate.py\u001b[0m \u001b[36mlineno\u001b[0m=\u001b[35m149\u001b[0m\n",
      "ERROR [dspy.evaluate.evaluate] \u001b[2m2024-06-15T16:28:50.064787Z\u001b[0m [\u001b[31m\u001b[1merror    \u001b[0m] \u001b[1mError for example in dev set: \t\t missing a required argument: 'input'\u001b[0m [\u001b[0m\u001b[1m\u001b[34mdspy.evaluate.evaluate\u001b[0m]\u001b[0m \u001b[36mfilename\u001b[0m=\u001b[35mevaluate.py\u001b[0m \u001b[36mlineno\u001b[0m=\u001b[35m149\u001b[0m\n"
     ]
    },
    {
     "name": "stdout",
     "output_type": "stream",
     "text": [
      "3\n",
      "3\n",
      "3\n",
      "3\n",
      "3\n",
      "3\n",
      "3\n",
      "3\n",
      "3\n",
      "3\n",
      "3\n",
      "3\n",
      "3\n",
      "3\n",
      "3\n",
      "3\n",
      "3\n",
      "3\n",
      "3\n",
      "3\n",
      "3\n",
      "3\n",
      "3\n"
     ]
    },
    {
     "ename": "TypeError",
     "evalue": "missing a required argument: 'input'",
     "output_type": "error",
     "traceback": [
      "\u001b[0;31m---------------------------------------------------------------------------\u001b[0m",
      "\u001b[0;31mTypeError\u001b[0m                                 Traceback (most recent call last)",
      "Cell \u001b[0;32mIn[20], line 9\u001b[0m\n\u001b[1;32m      5\u001b[0m     \u001b[38;5;28;01mreturn\u001b[39;00m example\u001b[38;5;241m.\u001b[39mgenerated_code\u001b[38;5;241m.\u001b[39mlower() \u001b[38;5;241m==\u001b[39m pred\u001b[38;5;241m.\u001b[39mgenerated_code\u001b[38;5;241m.\u001b[39mlower()\n\u001b[1;32m      7\u001b[0m teleprompter \u001b[38;5;241m=\u001b[39m BootstrapFewShotWithRandomSearch(metric \u001b[38;5;241m=\u001b[39m validate_answer, max_bootstrapped_demos\u001b[38;5;241m=\u001b[39m\u001b[38;5;241m2\u001b[39m, num_candidate_programs\u001b[38;5;241m=\u001b[39m\u001b[38;5;241m6\u001b[39m)\n\u001b[0;32m----> 9\u001b[0m generated_code_student_teacher \u001b[38;5;241m=\u001b[39m \u001b[43mteleprompter\u001b[49m\u001b[38;5;241;43m.\u001b[39;49m\u001b[43mcompile\u001b[49m\u001b[43m(\u001b[49m\n\u001b[1;32m     10\u001b[0m \u001b[43m                \u001b[49m\u001b[43mstudent\u001b[49m\u001b[38;5;241;43m=\u001b[39;49m\u001b[43massert_transform_module\u001b[49m\u001b[43m(\u001b[49m\u001b[43mGenerateCodeWithAssert\u001b[49m\u001b[43m(\u001b[49m\u001b[43mlist_ohcl_data\u001b[49m\u001b[38;5;241;43m=\u001b[39;49m\u001b[43mdata\u001b[49m\u001b[43m)\u001b[49m\u001b[38;5;241;43m.\u001b[39;49m\u001b[43mmap_named_predictors\u001b[49m\u001b[43m(\u001b[49m\u001b[43mRetry\u001b[49m\u001b[43m)\u001b[49m\u001b[43m,\u001b[49m\u001b[43m \u001b[49m\u001b[43mbacktrack_handler\u001b[49m\u001b[43m)\u001b[49m\u001b[43m,\u001b[49m\u001b[43m \u001b[49m\n\u001b[1;32m     11\u001b[0m \u001b[43m                \u001b[49m\u001b[43mteacher\u001b[49m\u001b[43m \u001b[49m\u001b[38;5;241;43m=\u001b[39;49m\u001b[43m \u001b[49m\u001b[43massert_transform_module\u001b[49m\u001b[43m(\u001b[49m\u001b[43mGenerateCodeWithAssert\u001b[49m\u001b[43m(\u001b[49m\u001b[43mlist_ohcl_data\u001b[49m\u001b[38;5;241;43m=\u001b[39;49m\u001b[43mdata\u001b[49m\u001b[43m)\u001b[49m\u001b[38;5;241;43m.\u001b[39;49m\u001b[43mmap_named_predictors\u001b[49m\u001b[43m(\u001b[49m\u001b[43mRetry\u001b[49m\u001b[43m)\u001b[49m\u001b[43m,\u001b[49m\u001b[43m \u001b[49m\u001b[43mbacktrack_handler\u001b[49m\u001b[43m)\u001b[49m\u001b[43m,\u001b[49m\u001b[43m \u001b[49m\n\u001b[1;32m     12\u001b[0m \u001b[43m                \u001b[49m\u001b[43mtrainset\u001b[49m\u001b[38;5;241;43m=\u001b[39;49m\u001b[43mdataset\u001b[49m\u001b[38;5;241;43m.\u001b[39;49m\u001b[43mtrain\u001b[49m\u001b[43m,\u001b[49m\u001b[43m \u001b[49m\n\u001b[1;32m     13\u001b[0m \u001b[43m                \u001b[49m\u001b[43mvalset\u001b[49m\u001b[38;5;241;43m=\u001b[39;49m\u001b[43mdataset\u001b[49m\u001b[38;5;241;43m.\u001b[39;49m\u001b[43mdev\u001b[49m\n\u001b[1;32m     14\u001b[0m \u001b[43m)\u001b[49m\n\u001b[1;32m     17\u001b[0m \u001b[38;5;66;03m# evaluate(cited_longformqa_student_teacher)\u001b[39;00m\n",
      "File \u001b[0;32m/home/zeus/miniconda3/envs/cloudspace/lib/python3.10/site-packages/dspy/teleprompt/random_search.py:124\u001b[0m, in \u001b[0;36mBootstrapFewShotWithRandomSearch.compile\u001b[0;34m(self, student, teacher, trainset, valset, restrict, labeled_sample)\u001b[0m\n\u001b[1;32m    113\u001b[0m     program2 \u001b[38;5;241m=\u001b[39m teleprompter\u001b[38;5;241m.\u001b[39mcompile(student, teacher\u001b[38;5;241m=\u001b[39mteacher, trainset\u001b[38;5;241m=\u001b[39mtrainset2)\n\u001b[1;32m    115\u001b[0m evaluate \u001b[38;5;241m=\u001b[39m Evaluate(\n\u001b[1;32m    116\u001b[0m     devset\u001b[38;5;241m=\u001b[39m\u001b[38;5;28mself\u001b[39m\u001b[38;5;241m.\u001b[39mvalset,\n\u001b[1;32m    117\u001b[0m     metric\u001b[38;5;241m=\u001b[39m\u001b[38;5;28mself\u001b[39m\u001b[38;5;241m.\u001b[39mmetric,\n\u001b[0;32m   (...)\u001b[0m\n\u001b[1;32m    121\u001b[0m     display_progress\u001b[38;5;241m=\u001b[39m\u001b[38;5;28;01mTrue\u001b[39;00m,\n\u001b[1;32m    122\u001b[0m )\n\u001b[0;32m--> 124\u001b[0m score, subscores \u001b[38;5;241m=\u001b[39m \u001b[43mevaluate\u001b[49m\u001b[43m(\u001b[49m\u001b[43mprogram2\u001b[49m\u001b[43m,\u001b[49m\u001b[43m \u001b[49m\u001b[43mreturn_all_scores\u001b[49m\u001b[38;5;241;43m=\u001b[39;49m\u001b[38;5;28;43;01mTrue\u001b[39;49;00m\u001b[43m)\u001b[49m\n\u001b[1;32m    126\u001b[0m all_subscores\u001b[38;5;241m.\u001b[39mappend(subscores)\n\u001b[1;32m    128\u001b[0m \u001b[38;5;66;03m############ Assertion-aware Optimization ############\u001b[39;00m\n",
      "File \u001b[0;32m/home/zeus/miniconda3/envs/cloudspace/lib/python3.10/site-packages/dspy/evaluate/evaluate.py:162\u001b[0m, in \u001b[0;36mEvaluate.__call__\u001b[0;34m(self, program, metric, devset, num_threads, display_progress, display_table, return_all_scores, return_outputs)\u001b[0m\n\u001b[1;32m    160\u001b[0m     reordered_devset, ncorrect, ntotal \u001b[38;5;241m=\u001b[39m \u001b[38;5;28mself\u001b[39m\u001b[38;5;241m.\u001b[39m_execute_single_thread(wrapped_program, devset, display_progress)\n\u001b[1;32m    161\u001b[0m \u001b[38;5;28;01melse\u001b[39;00m:\n\u001b[0;32m--> 162\u001b[0m     reordered_devset, ncorrect, ntotal \u001b[38;5;241m=\u001b[39m \u001b[38;5;28;43mself\u001b[39;49m\u001b[38;5;241;43m.\u001b[39;49m\u001b[43m_execute_multi_thread\u001b[49m\u001b[43m(\u001b[49m\n\u001b[1;32m    163\u001b[0m \u001b[43m        \u001b[49m\u001b[43mwrapped_program\u001b[49m\u001b[43m,\u001b[49m\n\u001b[1;32m    164\u001b[0m \u001b[43m        \u001b[49m\u001b[43mdevset\u001b[49m\u001b[43m,\u001b[49m\n\u001b[1;32m    165\u001b[0m \u001b[43m        \u001b[49m\u001b[43mnum_threads\u001b[49m\u001b[43m,\u001b[49m\n\u001b[1;32m    166\u001b[0m \u001b[43m        \u001b[49m\u001b[43mdisplay_progress\u001b[49m\u001b[43m,\u001b[49m\n\u001b[1;32m    167\u001b[0m \u001b[43m    \u001b[49m\u001b[43m)\u001b[49m\n\u001b[1;32m    169\u001b[0m dspy\u001b[38;5;241m.\u001b[39mlogger\u001b[38;5;241m.\u001b[39minfo(\u001b[38;5;124mf\u001b[39m\u001b[38;5;124m\"\u001b[39m\u001b[38;5;124mAverage Metric: \u001b[39m\u001b[38;5;132;01m{\u001b[39;00mncorrect\u001b[38;5;132;01m}\u001b[39;00m\u001b[38;5;124m / \u001b[39m\u001b[38;5;132;01m{\u001b[39;00mntotal\u001b[38;5;132;01m}\u001b[39;00m\u001b[38;5;124m (\u001b[39m\u001b[38;5;132;01m{\u001b[39;00m\u001b[38;5;28mround\u001b[39m(\u001b[38;5;241m100\u001b[39m\u001b[38;5;250m \u001b[39m\u001b[38;5;241m*\u001b[39m\u001b[38;5;250m \u001b[39mncorrect\u001b[38;5;250m \u001b[39m\u001b[38;5;241m/\u001b[39m\u001b[38;5;250m \u001b[39mntotal,\u001b[38;5;250m \u001b[39m\u001b[38;5;241m1\u001b[39m)\u001b[38;5;132;01m}\u001b[39;00m\u001b[38;5;124m%)\u001b[39m\u001b[38;5;124m\"\u001b[39m)\n\u001b[1;32m    171\u001b[0m predicted_devset \u001b[38;5;241m=\u001b[39m \u001b[38;5;28msorted\u001b[39m(reordered_devset)\n",
      "File \u001b[0;32m/home/zeus/miniconda3/envs/cloudspace/lib/python3.10/site-packages/dspy/evaluate/evaluate.py:87\u001b[0m, in \u001b[0;36mEvaluate._execute_multi_thread\u001b[0;34m(self, wrapped_program, devset, num_threads, display_progress)\u001b[0m\n\u001b[1;32m     84\u001b[0m pbar \u001b[38;5;241m=\u001b[39m tqdm\u001b[38;5;241m.\u001b[39mtqdm(total\u001b[38;5;241m=\u001b[39m\u001b[38;5;28mlen\u001b[39m(devset), dynamic_ncols\u001b[38;5;241m=\u001b[39m\u001b[38;5;28;01mTrue\u001b[39;00m, disable\u001b[38;5;241m=\u001b[39m\u001b[38;5;129;01mnot\u001b[39;00m display_progress)\n\u001b[1;32m     86\u001b[0m \u001b[38;5;28;01mfor\u001b[39;00m future \u001b[38;5;129;01min\u001b[39;00m as_completed(futures):\n\u001b[0;32m---> 87\u001b[0m     example_idx, example, prediction, score \u001b[38;5;241m=\u001b[39m \u001b[43mfuture\u001b[49m\u001b[38;5;241;43m.\u001b[39;49m\u001b[43mresult\u001b[49m\u001b[43m(\u001b[49m\u001b[43m)\u001b[49m\n\u001b[1;32m     88\u001b[0m     reordered_devset\u001b[38;5;241m.\u001b[39mappend((example_idx, example, prediction, score))\n\u001b[1;32m     89\u001b[0m     ncorrect \u001b[38;5;241m+\u001b[39m\u001b[38;5;241m=\u001b[39m score\n",
      "File \u001b[0;32m/home/zeus/miniconda3/envs/cloudspace/lib/python3.10/concurrent/futures/_base.py:451\u001b[0m, in \u001b[0;36mFuture.result\u001b[0;34m(self, timeout)\u001b[0m\n\u001b[1;32m    449\u001b[0m     \u001b[38;5;28;01mraise\u001b[39;00m CancelledError()\n\u001b[1;32m    450\u001b[0m \u001b[38;5;28;01melif\u001b[39;00m \u001b[38;5;28mself\u001b[39m\u001b[38;5;241m.\u001b[39m_state \u001b[38;5;241m==\u001b[39m FINISHED:\n\u001b[0;32m--> 451\u001b[0m     \u001b[38;5;28;01mreturn\u001b[39;00m \u001b[38;5;28;43mself\u001b[39;49m\u001b[38;5;241;43m.\u001b[39;49m\u001b[43m__get_result\u001b[49m\u001b[43m(\u001b[49m\u001b[43m)\u001b[49m\n\u001b[1;32m    453\u001b[0m \u001b[38;5;28mself\u001b[39m\u001b[38;5;241m.\u001b[39m_condition\u001b[38;5;241m.\u001b[39mwait(timeout)\n\u001b[1;32m    455\u001b[0m \u001b[38;5;28;01mif\u001b[39;00m \u001b[38;5;28mself\u001b[39m\u001b[38;5;241m.\u001b[39m_state \u001b[38;5;129;01min\u001b[39;00m [CANCELLED, CANCELLED_AND_NOTIFIED]:\n",
      "File \u001b[0;32m/home/zeus/miniconda3/envs/cloudspace/lib/python3.10/concurrent/futures/_base.py:403\u001b[0m, in \u001b[0;36mFuture.__get_result\u001b[0;34m(self)\u001b[0m\n\u001b[1;32m    401\u001b[0m \u001b[38;5;28;01mif\u001b[39;00m \u001b[38;5;28mself\u001b[39m\u001b[38;5;241m.\u001b[39m_exception:\n\u001b[1;32m    402\u001b[0m     \u001b[38;5;28;01mtry\u001b[39;00m:\n\u001b[0;32m--> 403\u001b[0m         \u001b[38;5;28;01mraise\u001b[39;00m \u001b[38;5;28mself\u001b[39m\u001b[38;5;241m.\u001b[39m_exception\n\u001b[1;32m    404\u001b[0m     \u001b[38;5;28;01mfinally\u001b[39;00m:\n\u001b[1;32m    405\u001b[0m         \u001b[38;5;66;03m# Break a reference cycle with the exception in self._exception\u001b[39;00m\n\u001b[1;32m    406\u001b[0m         \u001b[38;5;28mself\u001b[39m \u001b[38;5;241m=\u001b[39m \u001b[38;5;28;01mNone\u001b[39;00m\n",
      "File \u001b[0;32m/home/zeus/miniconda3/envs/cloudspace/lib/python3.10/concurrent/futures/thread.py:58\u001b[0m, in \u001b[0;36m_WorkItem.run\u001b[0;34m(self)\u001b[0m\n\u001b[1;32m     55\u001b[0m     \u001b[38;5;28;01mreturn\u001b[39;00m\n\u001b[1;32m     57\u001b[0m \u001b[38;5;28;01mtry\u001b[39;00m:\n\u001b[0;32m---> 58\u001b[0m     result \u001b[38;5;241m=\u001b[39m \u001b[38;5;28;43mself\u001b[39;49m\u001b[38;5;241;43m.\u001b[39;49m\u001b[43mfn\u001b[49m\u001b[43m(\u001b[49m\u001b[38;5;241;43m*\u001b[39;49m\u001b[38;5;28;43mself\u001b[39;49m\u001b[38;5;241;43m.\u001b[39;49m\u001b[43margs\u001b[49m\u001b[43m,\u001b[49m\u001b[43m \u001b[49m\u001b[38;5;241;43m*\u001b[39;49m\u001b[38;5;241;43m*\u001b[39;49m\u001b[38;5;28;43mself\u001b[39;49m\u001b[38;5;241;43m.\u001b[39;49m\u001b[43mkwargs\u001b[49m\u001b[43m)\u001b[49m\n\u001b[1;32m     59\u001b[0m \u001b[38;5;28;01mexcept\u001b[39;00m \u001b[38;5;167;01mBaseException\u001b[39;00m \u001b[38;5;28;01mas\u001b[39;00m exc:\n\u001b[1;32m     60\u001b[0m     \u001b[38;5;28mself\u001b[39m\u001b[38;5;241m.\u001b[39mfuture\u001b[38;5;241m.\u001b[39mset_exception(exc)\n",
      "File \u001b[0;32m/home/zeus/miniconda3/envs/cloudspace/lib/python3.10/site-packages/dspy/evaluate/evaluate.py:147\u001b[0m, in \u001b[0;36mEvaluate.__call__.<locals>.wrapped_program\u001b[0;34m(example_idx, example)\u001b[0m\n\u001b[1;32m    145\u001b[0m     current_error_count \u001b[38;5;241m=\u001b[39m \u001b[38;5;28mself\u001b[39m\u001b[38;5;241m.\u001b[39merror_count\n\u001b[1;32m    146\u001b[0m \u001b[38;5;28;01mif\u001b[39;00m current_error_count \u001b[38;5;241m>\u001b[39m\u001b[38;5;241m=\u001b[39m \u001b[38;5;28mself\u001b[39m\u001b[38;5;241m.\u001b[39mmax_errors:\n\u001b[0;32m--> 147\u001b[0m     \u001b[38;5;28;01mraise\u001b[39;00m e\n\u001b[1;32m    149\u001b[0m dspy\u001b[38;5;241m.\u001b[39mlogger\u001b[38;5;241m.\u001b[39merror(\u001b[38;5;124mf\u001b[39m\u001b[38;5;124m\"\u001b[39m\u001b[38;5;124mError for example in dev set: \u001b[39m\u001b[38;5;130;01m\\t\u001b[39;00m\u001b[38;5;130;01m\\t\u001b[39;00m\u001b[38;5;124m \u001b[39m\u001b[38;5;132;01m{\u001b[39;00me\u001b[38;5;132;01m}\u001b[39;00m\u001b[38;5;124m\"\u001b[39m)\n\u001b[1;32m    151\u001b[0m \u001b[38;5;28;01mreturn\u001b[39;00m example_idx, example, {}, \u001b[38;5;241m0.0\u001b[39m\n",
      "File \u001b[0;32m/home/zeus/miniconda3/envs/cloudspace/lib/python3.10/site-packages/dspy/evaluate/evaluate.py:128\u001b[0m, in \u001b[0;36mEvaluate.__call__.<locals>.wrapped_program\u001b[0;34m(example_idx, example)\u001b[0m\n\u001b[1;32m    126\u001b[0m \u001b[38;5;28;01mtry\u001b[39;00m:\n\u001b[1;32m    127\u001b[0m     \u001b[38;5;28mprint\u001b[39m(\u001b[38;5;28mlen\u001b[39m(example))\n\u001b[0;32m--> 128\u001b[0m     prediction \u001b[38;5;241m=\u001b[39m \u001b[43mprogram\u001b[49m\u001b[43m(\u001b[49m\u001b[38;5;241;43m*\u001b[39;49m\u001b[38;5;241;43m*\u001b[39;49m\u001b[43mexample\u001b[49m\u001b[38;5;241;43m.\u001b[39;49m\u001b[43minputs\u001b[49m\u001b[43m(\u001b[49m\u001b[43m)\u001b[49m\u001b[43m)\u001b[49m\n\u001b[1;32m    129\u001b[0m     \u001b[38;5;28mprint\u001b[39m(\u001b[38;5;241m1\u001b[39m)\n\u001b[1;32m    130\u001b[0m     score \u001b[38;5;241m=\u001b[39m metric(\n\u001b[1;32m    131\u001b[0m         example,\n\u001b[1;32m    132\u001b[0m         prediction,\n\u001b[1;32m    133\u001b[0m     )  \u001b[38;5;66;03m# FIXME: TODO: What's the right order? Maybe force name-based kwargs!\u001b[39;00m\n",
      "File \u001b[0;32m/home/zeus/miniconda3/envs/cloudspace/lib/python3.10/site-packages/openinference/instrumentation/dspy/__init__.py:366\u001b[0m, in \u001b[0;36m_ModuleForwardWrapper.__call__\u001b[0;34m(self, wrapped, instance, args, kwargs)\u001b[0m\n\u001b[1;32m    354\u001b[0m     \u001b[38;5;28;01mreturn\u001b[39;00m wrapped(\u001b[38;5;241m*\u001b[39margs, \u001b[38;5;241m*\u001b[39m\u001b[38;5;241m*\u001b[39mkwargs)\n\u001b[1;32m    355\u001b[0m span_name \u001b[38;5;241m=\u001b[39m instance\u001b[38;5;241m.\u001b[39m\u001b[38;5;18m__class__\u001b[39m\u001b[38;5;241m.\u001b[39m\u001b[38;5;18m__name__\u001b[39m \u001b[38;5;241m+\u001b[39m \u001b[38;5;124m\"\u001b[39m\u001b[38;5;124m.forward\u001b[39m\u001b[38;5;124m\"\u001b[39m\n\u001b[1;32m    356\u001b[0m \u001b[38;5;28;01mwith\u001b[39;00m \u001b[38;5;28mself\u001b[39m\u001b[38;5;241m.\u001b[39m_tracer\u001b[38;5;241m.\u001b[39mstart_as_current_span(\n\u001b[1;32m    357\u001b[0m     span_name,\n\u001b[1;32m    358\u001b[0m     attributes\u001b[38;5;241m=\u001b[39m\u001b[38;5;28mdict\u001b[39m(\n\u001b[1;32m    359\u001b[0m         _flatten(\n\u001b[1;32m    360\u001b[0m             {\n\u001b[1;32m    361\u001b[0m                 OPENINFERENCE_SPAN_KIND: CHAIN\u001b[38;5;241m.\u001b[39mvalue,\n\u001b[1;32m    362\u001b[0m                 \u001b[38;5;66;03m# At this time, dspy.Module does not have an abstract forward\u001b[39;00m\n\u001b[1;32m    363\u001b[0m                 \u001b[38;5;66;03m# method, but assumes that user-defined subclasses implement the\u001b[39;00m\n\u001b[1;32m    364\u001b[0m                 \u001b[38;5;66;03m# forward method.\u001b[39;00m\n\u001b[1;32m    365\u001b[0m                 \u001b[38;5;241m*\u001b[39m\u001b[38;5;241m*\u001b[39m(\n\u001b[0;32m--> 366\u001b[0m                     {INPUT_VALUE: \u001b[43m_get_input_value\u001b[49m\u001b[43m(\u001b[49m\u001b[43mforward_method\u001b[49m\u001b[43m,\u001b[49m\u001b[43m \u001b[49m\u001b[38;5;241;43m*\u001b[39;49m\u001b[43margs\u001b[49m\u001b[43m,\u001b[49m\u001b[43m \u001b[49m\u001b[38;5;241;43m*\u001b[39;49m\u001b[38;5;241;43m*\u001b[39;49m\u001b[43mkwargs\u001b[49m\u001b[43m)\u001b[49m}\n\u001b[1;32m    367\u001b[0m                     \u001b[38;5;28;01mif\u001b[39;00m (forward_method \u001b[38;5;241m:=\u001b[39m \u001b[38;5;28mgetattr\u001b[39m(instance\u001b[38;5;241m.\u001b[39m\u001b[38;5;18m__class__\u001b[39m, \u001b[38;5;124m\"\u001b[39m\u001b[38;5;124mforward\u001b[39m\u001b[38;5;124m\"\u001b[39m, \u001b[38;5;28;01mNone\u001b[39;00m))\n\u001b[1;32m    368\u001b[0m                     \u001b[38;5;28;01melse\u001b[39;00m {}\n\u001b[1;32m    369\u001b[0m                 ),\n\u001b[1;32m    370\u001b[0m                 INPUT_MIME_TYPE: OpenInferenceMimeTypeValues\u001b[38;5;241m.\u001b[39mJSON\u001b[38;5;241m.\u001b[39mvalue,\n\u001b[1;32m    371\u001b[0m             }\n\u001b[1;32m    372\u001b[0m         )\n\u001b[1;32m    373\u001b[0m     ),\n\u001b[1;32m    374\u001b[0m ) \u001b[38;5;28;01mas\u001b[39;00m span:\n\u001b[1;32m    375\u001b[0m     span\u001b[38;5;241m.\u001b[39mset_attributes(\u001b[38;5;28mdict\u001b[39m(get_attributes_from_context()))\n\u001b[1;32m    376\u001b[0m     \u001b[38;5;28;01mtry\u001b[39;00m:\n",
      "File \u001b[0;32m/home/zeus/miniconda3/envs/cloudspace/lib/python3.10/site-packages/openinference/instrumentation/dspy/__init__.py:561\u001b[0m, in \u001b[0;36m_get_input_value\u001b[0;34m(method, *args, **kwargs)\u001b[0m\n\u001b[1;32m    559\u001b[0m first_parameter_name \u001b[38;5;241m=\u001b[39m \u001b[38;5;28mnext\u001b[39m(\u001b[38;5;28miter\u001b[39m(method_signature\u001b[38;5;241m.\u001b[39mparameters), \u001b[38;5;28;01mNone\u001b[39;00m)\n\u001b[1;32m    560\u001b[0m signature_contains_self_parameter \u001b[38;5;241m=\u001b[39m first_parameter_name \u001b[38;5;129;01min\u001b[39;00m [\u001b[38;5;124m\"\u001b[39m\u001b[38;5;124mself\u001b[39m\u001b[38;5;124m\"\u001b[39m]\n\u001b[0;32m--> 561\u001b[0m bound_arguments \u001b[38;5;241m=\u001b[39m \u001b[43mmethod_signature\u001b[49m\u001b[38;5;241;43m.\u001b[39;49m\u001b[43mbind\u001b[49m\u001b[43m(\u001b[49m\n\u001b[1;32m    562\u001b[0m \u001b[43m    \u001b[49m\u001b[38;5;241;43m*\u001b[39;49m\u001b[43m(\u001b[49m\n\u001b[1;32m    563\u001b[0m \u001b[43m        \u001b[49m\u001b[43m[\u001b[49m\u001b[38;5;28;43;01mNone\u001b[39;49;00m\u001b[43m]\u001b[49m\u001b[43m  \u001b[49m\u001b[38;5;66;43;03m# the value bound to the method's self argument is discarded below, so pass None\u001b[39;49;00m\n\u001b[1;32m    564\u001b[0m \u001b[43m        \u001b[49m\u001b[38;5;28;43;01mif\u001b[39;49;00m\u001b[43m \u001b[49m\u001b[43msignature_contains_self_parameter\u001b[49m\n\u001b[1;32m    565\u001b[0m \u001b[43m        \u001b[49m\u001b[38;5;28;43;01melse\u001b[39;49;00m\u001b[43m \u001b[49m\u001b[43m[\u001b[49m\u001b[43m]\u001b[49m\u001b[43m  \u001b[49m\u001b[38;5;66;43;03m# no self parameter, so no need to pass a value\u001b[39;49;00m\n\u001b[1;32m    566\u001b[0m \u001b[43m    \u001b[49m\u001b[43m)\u001b[49m\u001b[43m,\u001b[49m\n\u001b[1;32m    567\u001b[0m \u001b[43m    \u001b[49m\u001b[38;5;241;43m*\u001b[39;49m\u001b[43margs\u001b[49m\u001b[43m,\u001b[49m\n\u001b[1;32m    568\u001b[0m \u001b[43m    \u001b[49m\u001b[38;5;241;43m*\u001b[39;49m\u001b[38;5;241;43m*\u001b[39;49m\u001b[43mkwargs\u001b[49m\u001b[43m,\u001b[49m\n\u001b[1;32m    569\u001b[0m \u001b[43m\u001b[49m\u001b[43m)\u001b[49m\n\u001b[1;32m    570\u001b[0m \u001b[38;5;28;01mreturn\u001b[39;00m safe_json_dumps(\n\u001b[1;32m    571\u001b[0m     {\n\u001b[1;32m    572\u001b[0m         \u001b[38;5;241m*\u001b[39m\u001b[38;5;241m*\u001b[39m{\n\u001b[0;32m   (...)\u001b[0m\n\u001b[1;32m    579\u001b[0m     \u001b[38;5;28mcls\u001b[39m\u001b[38;5;241m=\u001b[39mDSPyJSONEncoder,\n\u001b[1;32m    580\u001b[0m )\n",
      "File \u001b[0;32m/home/zeus/miniconda3/envs/cloudspace/lib/python3.10/inspect.py:3186\u001b[0m, in \u001b[0;36mSignature.bind\u001b[0;34m(self, *args, **kwargs)\u001b[0m\n\u001b[1;32m   3181\u001b[0m \u001b[38;5;28;01mdef\u001b[39;00m \u001b[38;5;21mbind\u001b[39m(\u001b[38;5;28mself\u001b[39m, \u001b[38;5;241m/\u001b[39m, \u001b[38;5;241m*\u001b[39margs, \u001b[38;5;241m*\u001b[39m\u001b[38;5;241m*\u001b[39mkwargs):\n\u001b[1;32m   3182\u001b[0m \u001b[38;5;250m    \u001b[39m\u001b[38;5;124;03m\"\"\"Get a BoundArguments object, that maps the passed `args`\u001b[39;00m\n\u001b[1;32m   3183\u001b[0m \u001b[38;5;124;03m    and `kwargs` to the function's signature.  Raises `TypeError`\u001b[39;00m\n\u001b[1;32m   3184\u001b[0m \u001b[38;5;124;03m    if the passed arguments can not be bound.\u001b[39;00m\n\u001b[1;32m   3185\u001b[0m \u001b[38;5;124;03m    \"\"\"\u001b[39;00m\n\u001b[0;32m-> 3186\u001b[0m     \u001b[38;5;28;01mreturn\u001b[39;00m \u001b[38;5;28;43mself\u001b[39;49m\u001b[38;5;241;43m.\u001b[39;49m\u001b[43m_bind\u001b[49m\u001b[43m(\u001b[49m\u001b[43margs\u001b[49m\u001b[43m,\u001b[49m\u001b[43m \u001b[49m\u001b[43mkwargs\u001b[49m\u001b[43m)\u001b[49m\n",
      "File \u001b[0;32m/home/zeus/miniconda3/envs/cloudspace/lib/python3.10/inspect.py:3101\u001b[0m, in \u001b[0;36mSignature._bind\u001b[0;34m(self, args, kwargs, partial)\u001b[0m\n\u001b[1;32m   3099\u001b[0m                 msg \u001b[38;5;241m=\u001b[39m \u001b[38;5;124m'\u001b[39m\u001b[38;5;124mmissing a required argument: \u001b[39m\u001b[38;5;132;01m{arg!r}\u001b[39;00m\u001b[38;5;124m'\u001b[39m\n\u001b[1;32m   3100\u001b[0m                 msg \u001b[38;5;241m=\u001b[39m msg\u001b[38;5;241m.\u001b[39mformat(arg\u001b[38;5;241m=\u001b[39mparam\u001b[38;5;241m.\u001b[39mname)\n\u001b[0;32m-> 3101\u001b[0m                 \u001b[38;5;28;01mraise\u001b[39;00m \u001b[38;5;167;01mTypeError\u001b[39;00m(msg) \u001b[38;5;28;01mfrom\u001b[39;00m \u001b[38;5;28;01mNone\u001b[39;00m\n\u001b[1;32m   3102\u001b[0m \u001b[38;5;28;01melse\u001b[39;00m:\n\u001b[1;32m   3103\u001b[0m     \u001b[38;5;66;03m# We have a positional argument to process\u001b[39;00m\n\u001b[1;32m   3104\u001b[0m     \u001b[38;5;28;01mtry\u001b[39;00m:\n",
      "\u001b[0;31mTypeError\u001b[0m: missing a required argument: 'input'"
     ]
    }
   ],
   "source": [
    "from dspy.teleprompt import BootstrapFewShotWithRandomSearch\n",
    "from dspy.evaluate.metrics import answer_exact_match\n",
    "\n",
    "def validate_answer(example, pred, trace=None):\n",
    "    return example.generated_code.lower() == pred.generated_code.lower()\n",
    "\n",
    "teleprompter = BootstrapFewShotWithRandomSearch(metric = validate_answer, max_bootstrapped_demos=2, num_candidate_programs=6)\n",
    "\n",
    "generated_code_student_teacher = teleprompter.compile(\n",
    "                student=assert_transform_module(GenerateCodeWithAssert(list_ohcl_data=data).map_named_predictors(Retry), backtrack_handler), \n",
    "                teacher = assert_transform_module(GenerateCodeWithAssert(list_ohcl_data=data).map_named_predictors(Retry), backtrack_handler), \n",
    "                trainset=dataset.train, \n",
    "                valset=dataset.dev\n",
    ")\n",
    "\n",
    "\n",
    "# evaluate(cited_longformqa_student_teacher)"
   ]
  },
  {
   "cell_type": "code",
   "execution_count": null,
   "metadata": {},
   "outputs": [],
   "source": [
    "\n",
    "# Save the generated code module\n",
    "generated_code_student_teacher.save(\"generated_code.json\")"
   ]
  }
 ],
 "metadata": {
  "kernelspec": {
   "display_name": "Python 3",
   "language": "python",
   "name": "python3"
  },
  "language_info": {
   "codemirror_mode": {
    "name": "ipython",
    "version": 3
   },
   "file_extension": ".py",
   "mimetype": "text/x-python",
   "name": "python",
   "nbconvert_exporter": "python",
   "pygments_lexer": "ipython3",
   "version": "3.10.14"
  }
 },
 "nbformat": 4,
 "nbformat_minor": 2
}
