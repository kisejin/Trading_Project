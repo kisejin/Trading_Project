{
 "cells": [
  {
   "cell_type": "code",
   "execution_count": 18,
   "metadata": {},
   "outputs": [],
   "source": [
    "%load_ext autoreload\n",
    "%autoreload 2"
   ]
  },
  {
   "cell_type": "code",
   "execution_count": 11,
   "metadata": {},
   "outputs": [
    {
     "name": "stdout",
     "output_type": "stream",
     "text": [
      "Inside decorator\n"
     ]
    },
    {
     "data": {
      "text/plain": [
       "1"
      ]
     },
     "execution_count": 11,
     "metadata": {},
     "output_type": "execute_result"
    }
   ],
   "source": [
    "def decorator(func):\n",
    "    print(\"Inside decorator\")\n",
    "     \n",
    "    def wrapper(*args, **kwargs):\n",
    "         \n",
    "        # code functionality here\n",
    "        print(\"Inside inner function\")\n",
    "        print(\"I like\")\n",
    "        # print(kwargs['message'])\n",
    "        func(*args, **kwargs)\n",
    "         \n",
    "    # returning inner function    \n",
    "    return wrapper\n",
    "\n",
    "tmp = \"hello\"\n",
    "@decorator\n",
    "def my_func():\n",
    "    print(\"Inside actual function\")\n",
    "\n",
    "x"
   ]
  },
  {
   "cell_type": "code",
   "execution_count": 76,
   "metadata": {},
   "outputs": [
    {
     "data": {
      "text/plain": [
       "'Error in function my_func \\n===================================================\\nFilename: /tmp/ipykernel_130327/762026832.py,\\nFunction name: my_func, params: {}\\n\\t-----\\n\\tLine: 9,     result = plus(\\'1\\',2)\\n \\t-----\\n\\tNote: This error is from your code\\n===================================================\\nFilename: /tmp/ipykernel_130327/762026832.py,\\nFunction name: plus, params: {\\'a\\': \\'1\\', \\'b\\': 2}\\n\\t-----\\n\\tLine: 4,     return a + b\\n \\t-->ROOT CAUSE: TypeError: can only concatenate str (not \"int\") to str \\n\\t-----\\n\\tNote: This error is from your code\\n'"
      ]
     },
     "execution_count": 76,
     "metadata": {},
     "output_type": "execute_result"
    }
   ],
   "source": [
    "from final_project.Trading_Project.utils.errors_handler import error_tracking_decorator, get_root_cause_error\n",
    "\n",
    "def plus(a, b):\n",
    "    return a + b\n",
    "\n",
    "\n",
    "@error_tracking_decorator\n",
    "def my_func():\n",
    "    result = plus(1,2)\n",
    "\n",
    "s = my_func()\n",
    "s"
   ]
  },
  {
   "cell_type": "code",
   "execution_count": null,
   "metadata": {},
   "outputs": [],
   "source": [
    "ss = [('\\n'.join([ssi for ssi in s.split('\\n') if '-----' not in ssi and 'Note' not in ssi and 'Filename' not in ssi])).strip().replace('\\t', '') for s in s.split(\"===================================================\")]\n",
    "ss\n"
   ]
  },
  {
   "cell_type": "code",
   "execution_count": 54,
   "metadata": {},
   "outputs": [
    {
     "data": {
      "text/plain": [
       "['Error in function my_func',\n",
       " \"Function name: my_func, params: {}\\nLine: 9,     result = plus('1',2)\",\n",
       " 'Function name: plus, params: {\\'a\\': \\'1\\', \\'b\\': 2}\\nLine: 4,     return a + b\\n -->ROOT CAUSE: TypeError: can only concatenate str (not \"int\") to str ']"
      ]
     },
     "execution_count": 54,
     "metadata": {},
     "output_type": "execute_result"
    }
   ],
   "source": [
    "\n",
    "processed_strings = [process_string(clean_string(string)) for string in s.split(\"===================================================\")]\n",
    "processed_strings\n"
   ]
  },
  {
   "cell_type": "code",
   "execution_count": 69,
   "metadata": {},
   "outputs": [
    {
     "name": "stdout",
     "output_type": "stream",
     "text": [
      "import backtrader as bt\n",
      "\n",
      "class CustomIchimokuIndicator(bt.Indicator):\n",
      "    \"\"\"\n",
      "    Custom Ichimoku Cloud indicator.\n",
      "    \"\"\"\n",
      "    lines = (\"tenkan\", \"kijun\", \"senkou_a\", \"senkou_b\")\n",
      "    params = ((\"tenkan_period\", 9), (\"kijun_period\", 26), (\"senkou_period\", 52))\n",
      "\n",
      "    def __init__(self):\n",
      "        self.addminperiod(self.params.tenkan_period)\n",
      "        self.addminperiod(self.params.kijun_period)\n",
      "        self.addminperiod(self.params.senkou_period)\n",
      "\n",
      "    def next(self):\n",
      "        high = self.data.high.get(size=self.params.tenkan_period)\n",
      "        low = self.data.low.get(size=self.params.tenkan_period)\n",
      "        close = self.data.close.get(size=self.params.tenkan_period)\n",
      "        tenkan = (max(high) + min(low)) / 2\n",
      "        kijun = (max(high.get(size=self.params.kijun_period)) + min(low.get(size=self.params.kijun_period))) / 2\n",
      "        senkou_a = (tenkan + kijun) / 2\n",
      "        senkou_b = (max(high.get(size=self.params.senkou_period)) + min(low.get(size=self.params.senkou_period))) / 2\n",
      "        self.lines.tenkan[0] = tenkan\n",
      "        self.lines.kijun[0] = kijun\n",
      "        self.lines.senkou_a[0] = senkou_a\n",
      "        self.lines.senkou_b[0] = senkou_b\n",
      "\n",
      "\n",
      "class BackTestStrategy(BaseStrategy):\n",
      "    def __init__(self, *args, **kwargs):\n",
      "        super().__init__(*args, **kwargs)\n",
      "        self.ichimoku = CustomIchimokuIndicator()\n",
      "\n",
      "    def execute(self):\n",
      "        \"\"\"\n",
      "        Define the trading logic based on the Ichimoku Cloud indicator.\n",
      "\n",
      "        Returns:\n",
      "        int: Trading signal: 1 (long), -1 (sell), or None if no signal.\n",
      "        \"\"\"\n",
      "        if self.ichimoku.tenkan[0] > self.ichimoku.kijun[0] and self.ichimoku.senkou_a[0] > self.ichimoku.senkou_b[0]:\n",
      "            return 1  # Long signal\n",
      "        elif self.ichimoku.tenkan[0] < self.ichimoku.kijun[0] and self.ichimoku.senkou_a[0] < self.ichimoku.senkou_b[0]:\n",
      "            return -1  # Short signal\n",
      "        return None  # No signal\n",
      "\n"
     ]
    }
   ],
   "source": [
    "\n",
    "print(\"import backtrader as bt\\n\\nclass CustomIchimokuIndicator(bt.Indicator):\\n    \\\"\\\"\\\"\\n    Custom Ichimoku Cloud indicator.\\n    \\\"\\\"\\\"\\n    lines = (\\\"tenkan\\\", \\\"kijun\\\", \\\"senkou_a\\\", \\\"senkou_b\\\")\\n    params = ((\\\"tenkan_period\\\", 9), (\\\"kijun_period\\\", 26), (\\\"senkou_period\\\", 52))\\n\\n    def __init__(self):\\n        self.addminperiod(self.params.tenkan_period)\\n        self.addminperiod(self.params.kijun_period)\\n        self.addminperiod(self.params.senkou_period)\\n\\n    def next(self):\\n        high = self.data.high.get(size=self.params.tenkan_period)\\n        low = self.data.low.get(size=self.params.tenkan_period)\\n        close = self.data.close.get(size=self.params.tenkan_period)\\n        tenkan = (max(high) + min(low)) / 2\\n        kijun = (max(high.get(size=self.params.kijun_period)) + min(low.get(size=self.params.kijun_period))) / 2\\n        senkou_a = (tenkan + kijun) / 2\\n        senkou_b = (max(high.get(size=self.params.senkou_period)) + min(low.get(size=self.params.senkou_period))) / 2\\n        self.lines.tenkan[0] = tenkan\\n        self.lines.kijun[0] = kijun\\n        self.lines.senkou_a[0] = senkou_a\\n        self.lines.senkou_b[0] = senkou_b\\n\\n\\nclass BackTestStrategy(BaseStrategy):\\n    def __init__(self, *args, **kwargs):\\n        super().__init__(*args, **kwargs)\\n        self.ichimoku = CustomIchimokuIndicator()\\n\\n    def execute(self):\\n        \\\"\\\"\\\"\\n        Define the trading logic based on the Ichimoku Cloud indicator.\\n\\n        Returns:\\n        int: Trading signal: 1 (long), -1 (sell), or None if no signal.\\n        \\\"\\\"\\\"\\n        if self.ichimoku.tenkan[0] > self.ichimoku.kijun[0] and self.ichimoku.senkou_a[0] > self.ichimoku.senkou_b[0]:\\n            return 1  # Long signal\\n        elif self.ichimoku.tenkan[0] < self.ichimoku.kijun[0] and self.ichimoku.senkou_a[0] < self.ichimoku.senkou_b[0]:\\n            return -1  # Short signal\\n        return None  # No signal\\n\")"
   ]
  },
  {
   "cell_type": "code",
   "execution_count": 70,
   "metadata": {},
   "outputs": [],
   "source": [
    "import backtrader as bt\n",
    "\n",
    "class CustomIchimokuIndicator(bt.Indicator):\n",
    "    \"\"\"\n",
    "    Custom Ichimoku Cloud indicator.\n",
    "    \"\"\"\n",
    "    lines = (\"tenkan\", \"kijun\", \"senkou_a\", \"senkou_b\")\n",
    "    params = ((\"tenkan_period\", 9), (\"kijun_period\", 26), (\"senkou_period\", 52))\n",
    "\n",
    "    def __init__(self):\n",
    "        self.addminperiod(self.params.tenkan_period)\n",
    "        self.addminperiod(self.params.kijun_period)\n",
    "        self.addminperiod(self.params.senkou_period)\n",
    "\n",
    "    def next(self):\n",
    "        high = self.data.high.get(size=self.params.tenkan_period)\n",
    "        low = self.data.low.get(size=self.params.tenkan_period)\n",
    "        close = self.data.close.get(size=self.params.tenkan_period)\n",
    "        tenkan = (max(high) + min(low)) / 2\n",
    "        kijun = (max(high.get(size=self.params.kijun_period)) + min(low.get(size=self.params.kijun_period))) / 2\n",
    "        senkou_a = (tenkan + kijun) / 2\n",
    "        senkou_b = (max(high.get(size=self.params.senkou_period)) + min(low.get(size=self.params.senkou_period))) / 2\n",
    "        self.lines.tenkan[0] = tenkan\n",
    "        self.lines.kijun[0] = kijun\n",
    "        self.lines.senkou_a[0] = senkou_a\n",
    "        self.lines.senkou_b[0] = senkou_b\n",
    "\n",
    "\n",
    "class BackTestStrategy(BaseStrategy):\n",
    "    def __init__(self, *args, **kwargs):\n",
    "        super().__init__(*args, **kwargs)\n",
    "        self.ichimoku = CustomIchimokuIndicator()\n",
    "\n",
    "    def execute(self):\n",
    "        \"\"\"\n",
    "        Define the trading logic based on the Ichimoku Cloud indicator.\n",
    "\n",
    "        Returns:\n",
    "        int: Trading signal: 1 (long), -1 (sell), or None if no signal.\n",
    "        \"\"\"\n",
    "        if self.ichimoku.tenkan[0] > self.ichimoku.kijun[0] and self.ichimoku.senkou_a[0] > self.ichimoku.senkou_b[0]:\n",
    "            return 1  # Long signal\n",
    "        elif self.ichimoku.tenkan[0] < self.ichimoku.kijun[0] and self.ichimoku.senkou_a[0] < self.ichimoku.senkou_b[0]:\n",
    "            return -1  # Short signal\n",
    "        return None  # No signal"
   ]
  },
  {
   "cell_type": "code",
   "execution_count": 60,
   "metadata": {},
   "outputs": [
    {
     "name": "stderr",
     "output_type": "stream",
     "text": [
      "[*********************100%%**********************]  1 of 1 completed\n"
     ]
    }
   ],
   "source": [
    "from final_project.Trading_Project.data_loader import load_stock_data\n",
    "\n",
    "data = [bt.feeds.PandasData(\n",
    "                dataname=load_stock_data(ticker='AAPL', period=\"1y\"), datetime=\"Date\", \n",
    "                timeframe=bt.TimeFrame.Minutes)]\n",
    "\n"
   ]
  },
  {
   "cell_type": "code",
   "execution_count": 77,
   "metadata": {},
   "outputs": [
    {
     "data": {
      "text/plain": [
       "[\"AttributeError: 'array.array' object has no attribute 'get'\",\n",
       " 'Function name: next, params: {\\'high\\': \"array(\\'d\\', [178.4199981689453, 1...\", \\'low\\': \"array(\\'d\\', [174.8000030517578, 1...\", \\'close\\': \"array(\\'d\\', [177.14999389648438, ...\", \\'tenkan\\': 172.0449981689453}',\n",
       " 'Line: 20,         kijun = (max(high.get(size=self.params.kijun_period)) + min(low.get(size=self.params.kijun_period))) / 2']"
      ]
     },
     "execution_count": 77,
     "metadata": {},
     "output_type": "execute_result"
    }
   ],
   "source": [
    "class MyBuySell(bt.observers.BuySell):\n",
    "    plotlines = dict(\n",
    "        buy=dict(marker='$\\u21E7$', markersize=12.0),\n",
    "        sell=dict(marker='$\\u21E9$', markersize=12.0)\n",
    "    )\n",
    "\n",
    "class CelebroCreator:\n",
    "    def __init__(self, strategy, list_of_data, stake=100, cash=20000):\n",
    "        self.cerebro = bt.Cerebro(cheat_on_open=True)\n",
    "\n",
    "        self.cerebro.addstrategy(strategy)\n",
    "        self.cerebro.addanalyzer(bt.analyzers.PyFolio, _name='pyfolio')\n",
    "        self.cerebro.addanalyzer(bt.analyzers.SharpeRatio, _name='SharpeRatio')\n",
    "        self.cerebro.addanalyzer(bt.analyzers.Returns, _name='Returns')\n",
    "        self.cerebro.addobserver(bt.observers.Value)\n",
    "\n",
    "        for data in list_of_data:\n",
    "            self.cerebro.adddata(data)\n",
    "        self.cerebro.broker.set_cash(cash)\n",
    "        bt.observers.BuySell = MyBuySell\n",
    "        self.strats = self.cerebro.run()\n",
    "\n",
    "\n",
    "    def show(self):\n",
    "        print(\"Final Portfolio Value: %.2f\" % self.cerebro.broker.getvalue())\n",
    "        print(\"Total point return: \", (self.cerebro.broker.getvalue() - self.cerebro.broker.startingcash))\n",
    "\n",
    "        try:\n",
    "            sharpe_ratio = self.strats[0].analyzers.SharpeRatio.get_analysis()['sharperatio']\n",
    "        except:\n",
    "            print('No Buy/Sell Signal! No Sharpe Ratio!')\n",
    "        # Plot the results\n",
    "        figs = self.cerebro.plot(\n",
    "            iplot=False, \n",
    "            # style=\"pincandle\", \n",
    "            # width=60 * 10, height=40 * 10,\n",
    "            figsize=(100, 80),\n",
    "            # sharpe_ratio=sharpe_ratio\n",
    "        )\n",
    "\n",
    "def check_valid_code(strategy, list_data):\n",
    "    \n",
    "    @error_tracking_decorator\n",
    "    def extract_error_message(strategy, list_data):\n",
    "        CelebroCreator(strategy,list_data)\n",
    "        \n",
    "    message = extract_error_message(BackTestStrategy, data)\n",
    "    root_error = get_root_cause_error(message) if message else \"\"\n",
    "    return root_error\n",
    "\n",
    "check_valid_code(BackTestStrategy, data)"
   ]
  }
 ],
 "metadata": {
  "kernelspec": {
   "display_name": "cloudspace",
   "language": "python",
   "name": "python3"
  },
  "language_info": {
   "codemirror_mode": {
    "name": "ipython",
    "version": 3
   },
   "file_extension": ".py",
   "mimetype": "text/x-python",
   "name": "python",
   "nbconvert_exporter": "python",
   "pygments_lexer": "ipython3",
   "version": "3.10.14"
  }
 },
 "nbformat": 4,
 "nbformat_minor": 2
}
