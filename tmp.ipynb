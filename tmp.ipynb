{
 "cells": [
  {
   "cell_type": "code",
   "execution_count": 1,
   "metadata": {},
   "outputs": [],
   "source": [
    "%load_ext autoreload\n",
    "%autoreload 2"
   ]
  },
  {
   "cell_type": "code",
   "execution_count": 2,
   "metadata": {},
   "outputs": [
    {
     "data": {
      "text/plain": [
       "'Error in function my_func \\n===================================================\\nFilename: /tmp/ipykernel_79758/746703035.py,\\nFunction name: my_func, params: {}\\n\\t-----\\n\\tLine: 9,     result = plus(\"1\",2)\\n \\t-----\\n\\tNote: This error is from your code\\n===================================================\\nFilename: /tmp/ipykernel_79758/746703035.py,\\nFunction name: plus, params: {\\'a\\': \\'1\\', \\'b\\': 2}\\n\\t-----\\n\\tLine: 4,     return a + b\\n \\t-->ROOT CAUSE: TypeError: can only concatenate str (not \"int\") to str \\n\\t-----\\n\\tNote: This error is from your code\\n'"
      ]
     },
     "execution_count": 2,
     "metadata": {},
     "output_type": "execute_result"
    }
   ],
   "source": [
    "from final_project.Trading_Project.utils.errors_handler import error_tracking_decorator, get_root_cause_error\n",
    "\n",
    "def plus(a, b):\n",
    "    return a + b\n",
    "\n",
    "\n",
    "@error_tracking_decorator\n",
    "def my_func():\n",
    "    result = plus(\"1\",2)\n",
    "\n",
    "r, s = my_func()\n",
    "s"
   ]
  },
  {
   "cell_type": "code",
   "execution_count": 17,
   "metadata": {},
   "outputs": [
    {
     "data": {
      "text/plain": [
       "['Error in function my_func',\n",
       " 'Function name: my_func, params: {}\\nLine: 9,     result = plus(\"1\",2)',\n",
       " 'Function name: plus, params: {\\'a\\': \\'1\\', \\'b\\': 2}\\nLine: 4,     return a + b\\n -->ROOT CAUSE: TypeError: can only concatenate str (not \"int\") to str']"
      ]
     },
     "execution_count": 17,
     "metadata": {},
     "output_type": "execute_result"
    }
   ],
   "source": [
    "ss = [('\\n'.join([ssi for ssi in s.split('\\n') if '-----' not in ssi and 'Note' not in ssi and 'Filename' not in ssi])).strip().replace('\\t', '') for s in s.split(\"===================================================\")]\n",
    "ss\n"
   ]
  },
  {
   "cell_type": "code",
   "execution_count": 54,
   "metadata": {},
   "outputs": [
    {
     "data": {
      "text/plain": [
       "['Error in function my_func',\n",
       " \"Function name: my_func, params: {}\\nLine: 9,     result = plus('1',2)\",\n",
       " 'Function name: plus, params: {\\'a\\': \\'1\\', \\'b\\': 2}\\nLine: 4,     return a + b\\n -->ROOT CAUSE: TypeError: can only concatenate str (not \"int\") to str ']"
      ]
     },
     "execution_count": 54,
     "metadata": {},
     "output_type": "execute_result"
    }
   ],
   "source": [
    "\n",
    "processed_strings = [process_string(clean_string(string)) for string in s.split(\"===================================================\")]\n",
    "processed_strings\n"
   ]
  },
  {
   "cell_type": "code",
   "execution_count": 9,
   "metadata": {},
   "outputs": [],
   "source": [
    "from final_project.Trading_Project.utils.file_text_handler import get_code_from_text\n",
    "import backtrader as bt\n",
    "from final_project.Trading_Project.base_strategy import BaseStrategy\n",
    "\n",
    "\n",
    "# exec(get_code_from_text(\"```python\\nimport backtrader as bt\\n\\nclass CustomIchimokuIndicator(bt.Indicator):\\n    \\\"\\\"\\\"\\n    Custom Ichimoku Cloud indicator.\\n    \\\"\\\"\\\"\\n    lines = (\\\"tenkan\\\", \\\"kijun\\\", \\\"senkou_a\\\", \\\"senkou_b\\\")\\n    params = ((\\\"tenkan_period\\\", 9), (\\\"kijun_period\\\", 26), (\\\"senkou_period\\\", 52))\\n\\n    def __init__(self):\\n        self.addminperiod(self.params.tenkan_period)\\n        self.addminperiod(self.params.kijun_period)\\n        self.addminperiod(self.params.senkou_period)\\n\\n    def next(self):\\n        high = self.data.high\\n        low = self.data.low\\n        close = self.data.close\\n\\n        tenkan = (high.rolling(window=self.params.tenkan_period).max() + low.rolling(window=self.params.tenkan_period).min()) / 2\\n        kijun = (high.rolling(window=self.params.kijun_period).max() + low.rolling(window=self.params.kijun_period).min()) / 2\\n        senkou_a = (tenkan + kijun) / 2\\n        senkou_b = (high.rolling(window=self.params.senkou_period).max() + low.rolling(window=self.params.senkou_period).min()) / 2\\n\\n        self.lines.tenkan[0] = tenkan[0]\\n        self.lines.kijun[0] = kijun[0]\\n        self.lines.senkou_a[0] = senkou_a[0]\\n        self.lines.senkou_b[0] = senkou_b[0]\\n\\n\\nclass BackTestStrategy(BaseStrategy):\\n    def __init__(self, *args, **kwargs):\\n        super().__init__(*args, **kwargs)\\n        self.ichimoku = CustomIchimokuIndicator()\\n\\n    def execute(self):\\n        \\\"\\\"\\\"\\n        Define the trading logic based on the Ichimoku Cloud indicator.\\n\\n        Returns:\\n        int: Trading signal: 1 (long), -1 (sell), or None if no signal.\\n        \\\"\\\"\\\"\\n        if self.ichimoku.tenkan[0] > self.ichimoku.kijun[0] and self.ichimoku.senkou_a[0] > self.ichimoku.senkou_b[0]:\\n            return 1  # Long signal\\n        elif self.ichimoku.tenkan[0] < self.ichimoku.kijun[0] and self.ichimoku.senkou_a[0] < self.ichimoku.senkou_b[0]:\\n            return -1  # Short signal\\n        return None  # No signal\\n```\"), globals())\n",
    "\n",
    "\n",
    "import math\n",
    "\n",
    "class GannAngle(bt.Indicator):\n",
    "    lines = (\"angle\",)\n",
    "    params = ((\"period\", 1),)\n",
    "\n",
    "    def __init__(self):\n",
    "        self.addminperiod(self.params.period)\n",
    "\n",
    "    def next(self):\n",
    "        if len(self) == 1:\n",
    "            self.lines.angle[0] = 0  # Initialize Gann Angle at the beginning\n",
    "        else:\n",
    "            high = self.data.high[0]\n",
    "            low = self.data.low[0]\n",
    "            close = self.data.close[0]\n",
    "            self.lines.angle[0] = math.atan((high - low) / close) * (180 / math.pi)\n",
    "\n",
    "class BackTestStrategy(BaseStrategy):\n",
    "    def __init__(self, *args, **kwargs):\n",
    "        super().__init__(*args, **kwargs)\n",
    "        # Initialize the Gann Angle indicator\n",
    "        self.gann_angle = GannAngle()\n",
    "        # Initialize the RSI indicator\n",
    "        self.rsi = bt.indicators.RSI_SMA(self.data.close, period=14)\n",
    "\n",
    "    def execute(self):\n",
    "        \"\"\"\n",
    "        Define the trading logic based on the Gann Angle and RSI indicators.\n",
    "\n",
    "        Returns:\n",
    "        int: Trading signal: 1 (long), -1 (sell), or None if no signal.\n",
    "        \"\"\"\n",
    "        if self.gann_angle[0] > 45 and self.rsi[0] > 50:  # Buy condition: Gann Angle indicates support and RSI is above 50\n",
    "            return 1  # Long signal\n",
    "        elif self.gann_angle[0] < 45 and self.rsi[0] < 50:  # Sell condition: Gann Angle indicates resistance and RSI is below 50\n",
    "            return -1  # Short signal\n",
    "        return None  # No signal"
   ]
  },
  {
   "cell_type": "code",
   "execution_count": 6,
   "metadata": {},
   "outputs": [
    {
     "name": "stderr",
     "output_type": "stream",
     "text": [
      "[*********************100%%**********************]  1 of 1 completed\n"
     ]
    }
   ],
   "source": [
    "from final_project.Trading_Project.data_loader import load_stock_data\n",
    "\n",
    "data = [bt.feeds.PandasData(\n",
    "                dataname=load_stock_data(ticker='AAPL', period=\"1y\"), datetime=\"Date\", \n",
    "                timeframe=bt.TimeFrame.Minutes)]\n",
    "\n"
   ]
  },
  {
   "cell_type": "code",
   "execution_count": 10,
   "metadata": {},
   "outputs": [
    {
     "name": "stdout",
     "output_type": "stream",
     "text": [
      "Error in function _run_cerebro \n",
      "===================================================\n",
      "Filename: /tmp/ipykernel_79758/2660629132.py,\n",
      "Function name: _run_cerebro, params: {}\n",
      "\t-----\n",
      "\tLine: 34,         self.cerebro.run()\n",
      " \t-----\n",
      "\tNote: This error is from your code\n",
      "===================================================\n",
      "Filename: /home/zeus/miniconda3/envs/cloudspace/lib/python3.10/site-packages/backtrader/cerebro.py,\n",
      "Function name: run, params: {'kwargs': {}, 'pkeys': \"odict_keys(['preload', 'runonce'...\", 'iterstrats': '<itertools.product object at 0x7...', 'iterstrat': \"((<class 'final_project.Trading_...\"}\n",
      "\t-----\n",
      "\tLine: 1132,                 runstrat = self.runstrategies(iterstrat)\n",
      " \t-----\n",
      "\tNote: This error is from site-packages\n",
      "===================================================\n",
      "Filename: /home/zeus/miniconda3/envs/cloudspace/lib/python3.10/site-packages/backtrader/cerebro.py,\n",
      "Function name: runstrategies, params: {'iterstrat': \"((<class 'final_project.Trading_...\", 'predata': False, 'runstrats': '[<final_project.Trading_Project....', 'data': '<backtrader.feeds.pandafeed.Pand...', 'stratcls': \"<class 'final_project.Trading_Pr...\", 'sargs': None, 'skwargs': None, 'strat': '<final_project.Trading_Project.m...', 'tz': None, 'defaultsizer': (None, None, None), 'idx': 0, 'multi': False, 'obscls': \"<class 'backtrader.observers.bro...\", 'obsargs': (), 'obskwargs': {}, 'ancls': \"<class 'backtrader.analyzers.ret...\", 'anargs': (), 'ankwargs': {'_name': 'Returns'}, 'sizer': None}\n",
      "\t-----\n",
      "\tLine: 1298,                     self._runonce(runstrats)\n",
      " \t-----\n",
      "\tNote: This error is from site-packages\n",
      "===================================================\n",
      "Filename: /home/zeus/miniconda3/envs/cloudspace/lib/python3.10/site-packages/backtrader/cerebro.py,\n",
      "Function name: _runonce, params: {'runstrats': '[<final_project.Trading_Project....', 'strat': '<final_project.Trading_Project.m...'}\n",
      "\t-----\n",
      "\tLine: 1657,             strat._once()\n",
      " \t-----\n",
      "\tNote: This error is from site-packages\n",
      "===================================================\n",
      "Filename: /home/zeus/miniconda3/envs/cloudspace/lib/python3.10/site-packages/backtrader/lineiterator.py,\n",
      "Function name: _once, params: {'indicator': '<final_project.Trading_Project.m...'}\n",
      "\t-----\n",
      "\tLine: 297,             indicator._once()\n",
      " \t-----\n",
      "\tNote: This error is from site-packages\n",
      "===================================================\n",
      "Filename: /home/zeus/miniconda3/envs/cloudspace/lib/python3.10/site-packages/backtrader/lineiterator.py,\n",
      "Function name: _once, params: {'data': '<backtrader.feeds.pandafeed.Pand...'}\n",
      "\t-----\n",
      "\tLine: 317,         self.oncestart(self._minperiod - 1, self._minperiod)\n",
      " \t-----\n",
      "\tNote: This error is from site-packages\n",
      "===================================================\n",
      "Filename: /home/zeus/miniconda3/envs/cloudspace/lib/python3.10/site-packages/backtrader/indicator.py,\n",
      "Function name: oncestart_via_nextstart, params: {'start': 84, 'end': 85, 'i': 84, 'data': '<backtrader.feeds.pandafeed.Pand...'}\n",
      "\t-----\n",
      "\tLine: 124,             self.nextstart()\n",
      " \t-----\n",
      "\tNote: This error is from site-packages\n",
      "===================================================\n",
      "Filename: /home/zeus/miniconda3/envs/cloudspace/lib/python3.10/site-packages/backtrader/lineiterator.py,\n",
      "Function name: nextstart, params: {}\n",
      "\t-----\n",
      "\tLine: 347,         self.next()\n",
      " \t-----\n",
      "\tNote: This error is from site-packages\n",
      "===================================================\n",
      "Filename: /teamspace/studios/this_studio/final_project/Trading_Project/my_strategy.py,\n",
      "Function name: next, params: {'high': '<backtrader.linebuffer.LineBuffe...', 'low': '<backtrader.linebuffer.LineBuffe...', 'close': '<backtrader.linebuffer.LineBuffe...'}\n",
      "\t-----\n",
      "\tLine: 16,         high_tenkan = max(high.get(-self.params.tenkan_period + 1, 0))\n",
      " \t-->ROOT CAUSE: ValueError: max() arg is an empty sequence \n",
      "\t-----\n",
      "\tNote: This error is from your code\n",
      "\n"
     ]
    }
   ],
   "source": [
    "from final_project.Trading_Project.my_strategy import BackTestStrategy\n",
    "\n",
    "class MyBuySell(bt.observers.BuySell):\n",
    "    plotlines = dict(\n",
    "        buy=dict(marker='$\\u21E7$', markersize=12.0),\n",
    "        sell=dict(marker='$\\u21E9$', markersize=12.0)\n",
    "    )\n",
    "\n",
    "class CelebroCreator:\n",
    "    def __init__(self, strategy, list_of_data, stake=100, cash=20000):\n",
    "        self.cerebro = bt.Cerebro(cheat_on_open=True)\n",
    "\n",
    "        self.cerebro.addstrategy(strategy)\n",
    "        self.cerebro.addanalyzer(bt.analyzers.PyFolio, _name='pyfolio')\n",
    "        self.cerebro.addanalyzer(bt.analyzers.SharpeRatio, _name='SharpeRatio')\n",
    "        self.cerebro.addanalyzer(bt.analyzers.Returns, _name='Returns')\n",
    "        self.cerebro.addobserver(bt.observers.Value)\n",
    "\n",
    "        for data in list_of_data:\n",
    "            self.cerebro.adddata(data)\n",
    "        self.cerebro.broker.set_cash(cash)\n",
    "        bt.observers.BuySell = MyBuySell\n",
    "        \n",
    "        # PREVIOUS\n",
    "        # self.strats = self.cerebro.run()\n",
    "        \n",
    "        # CURRENT\n",
    "        self.strats, self.message = self._run_cerebro()\n",
    "\n",
    "    \n",
    "    # CURRENT\n",
    "    @error_tracking_decorator\n",
    "    def _run_cerebro(self):\n",
    "        self.cerebro.run()\n",
    "\n",
    "\n",
    "    def show(self):\n",
    "        print(\"Final Portfolio Value: %.2f\" % self.cerebro.broker.getvalue())\n",
    "        print(\"Total point return: \", (self.cerebro.broker.getvalue() - self.cerebro.broker.startingcash))\n",
    "\n",
    "        try:\n",
    "            sharpe_ratio = self.strats[0].analyzers.SharpeRatio.get_analysis()['sharperatio']\n",
    "        except:\n",
    "            print('No Buy/Sell Signal! No Sharpe Ratio!')\n",
    "        # Plot the results\n",
    "        figs = self.cerebro.plot(\n",
    "            iplot=False, \n",
    "            # style=\"pincandle\", \n",
    "            # width=60 * 10, height=40 * 10,\n",
    "            figsize=(100, 80),\n",
    "            # sharpe_ratio=sharpe_ratio\n",
    "        )\n",
    "\n",
    "# def check_valid_code(strategy, list_data):\n",
    "    \n",
    "#     @error_tracking_decorator\n",
    "#     def extract_error_message(strategy, list_data):\n",
    "#         CelebroCreator(strategy,list_data)\n",
    "        \n",
    "#     message = extract_error_message(BackTestStrategy, data)\n",
    "#     root_error = get_root_cause_error(message) if message else \"\"\n",
    "#     return root_error\n",
    "def check_valid_code(strategy, list_data):\n",
    "    \n",
    "    obj = CelebroCreator(strategy,list_data)\n",
    "        \n",
    "    message = obj.message\n",
    "    print(message)\n",
    "    root_error = get_root_cause_error(message) if message else \"\"\n",
    "    return root_error\n",
    "\n",
    "error = check_valid_code(BackTestStrategy, data)"
   ]
  },
  {
   "cell_type": "code",
   "execution_count": 12,
   "metadata": {},
   "outputs": [
    {
     "data": {
      "text/plain": [
       "'Line: 21,         tenkan = (high.rolling(window=self.params.tenkan_period).max() + low.rolling(window=self.params.tenkan_period).min()) / 2'"
      ]
     },
     "execution_count": 12,
     "metadata": {},
     "output_type": "execute_result"
    }
   ],
   "source": [
    "error[-1]"
   ]
  }
 ],
 "metadata": {
  "kernelspec": {
   "display_name": "cloudspace",
   "language": "python",
   "name": "python3"
  },
  "language_info": {
   "codemirror_mode": {
    "name": "ipython",
    "version": 3
   },
   "file_extension": ".py",
   "mimetype": "text/x-python",
   "name": "python",
   "nbconvert_exporter": "python",
   "pygments_lexer": "ipython3",
   "version": "3.10.14"
  }
 },
 "nbformat": 4,
 "nbformat_minor": 2
}
